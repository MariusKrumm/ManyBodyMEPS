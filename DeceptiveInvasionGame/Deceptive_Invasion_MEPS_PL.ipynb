{
 "cells": [
  {
   "cell_type": "markdown",
   "id": "a51ae90a-dd8d-4dc0-8f5e-2f47917d43cf",
   "metadata": {},
   "source": [
    "#  MEPS in the Deceptive Invasion Game"
   ]
  },
  {
   "cell_type": "markdown",
   "id": "9a55ad8e-4539-4503-ae31-894455d93748",
   "metadata": {},
   "source": [
    "**Philip A. LeMaitre, Marius Krumm**"
   ]
  },
  {
   "cell_type": "markdown",
   "id": "29c6ca58-c12e-4185-9a28-396fbaa14d70",
   "metadata": {},
   "source": [
    "In this notebook, we will train Multi-Excitation Projective Simulation (MEPS) agents on another simple synthetic environment with slightly more complexity than the **Invasion Game With Distraction**. We call this new environment the **Deceptive Invasion Game**. \n",
    "\n",
    "In this reinforcement learning environment, the observations that the agent receives are comprised of the values of three separate observables: door number, truth number, and shape number. The agent has to pick one of several doors and infer whether the door shown to it by the attacker is the correct door or not, which depends on the combinations of the values of the first two observables. The third observable is a useless distraction.\n",
    "\n",
    "The point of this simplistic environment, in addition to the **Invasion Game With Distraction**, is to demonstrate the continued efficacy of the MEPS agent with an inductive bias when added complexity is introduced into the environment. \n",
    "\n",
    "To keep the comparison clean, we sample the observations i.i.d., don't use glow or forgetting in the update rule, use harsh negative rewards of -10, which effectively prevents a hyperedge from being sampled again, and to each observation there is exactly one right deterministic action that is determined on a case-by-case basis. Furthermore, we use the version of the inductive bias in which passive excitations get discarded, all agents are two-layered. \n",
    "\n",
    "The agents we compare use the inductive bias sets $IO = \\{(1,1)\\}$, $\\{(2,1)\\}$ and $\\{(3,1)\\}$, respectively. The $(1,1)$-agent is too simple to map the correlations of the first two observables to the right action. The $(2,1)$-agent has exactly the right inductive bias which allows it to ignore the distraction caused by the third observable and overcome the deception indicated by the combination of the first and second observables. The $(3,1)$-agent is capable of solving the environment, but it is less efficient because all its h-values distinguish between different values of the distraction.  \n"
   ]
  },
  {
   "cell_type": "code",
   "execution_count": 130,
   "id": "fe6d0945-7b41-4c6d-9590-e05d76ffc5fb",
   "metadata": {},
   "outputs": [
    {
     "name": "stdout",
     "output_type": "stream",
     "text": [
      "Python version: 3.11.0 (main, Oct 24 2022, 18:26:48) [MSC v.1933 64 bit (AMD64)]\n",
      "Pytorch version: 2.0.1+cpu\n",
      "Numpy version: 1.25.2\n",
      "Matplotlib version: 3.8.0\n",
      "Seaborn version: 0.12.2\n"
     ]
    }
   ],
   "source": [
    "import numpy as np\n",
    "import matplotlib\n",
    "import matplotlib.pyplot as plt\n",
    "from tqdm.notebook import tqdm\n",
    "from itertools import product, combinations\n",
    "import torch\n",
    "import seaborn as sns\n",
    "import os\n",
    "import sys\n",
    "\n",
    "\n",
    "print(\"Python version:\", sys.version)\n",
    "print(\"Pytorch version:\", torch.__version__)\n",
    "print(\"Numpy version:\", np.__version__)\n",
    "print(\"Matplotlib version:\", matplotlib.__version__)\n",
    "print(\"Seaborn version:\", sns.__version__)"
   ]
  },
  {
   "cell_type": "code",
   "execution_count": 136,
   "id": "559bafd5-f275-459d-ac89-1f7e20984e7f",
   "metadata": {},
   "outputs": [],
   "source": [
    "class InvasionGame():\n",
    "    \"\"\"\n",
    "    Invasion Game\n",
    "    \"\"\"\n",
    "    def __init__(self, obs_range, action_range, seed):\n",
    "        # Define domains for the values of the three observables. \n",
    "        self.obs0_range = obs_range[0]\n",
    "        self.obs1_range = obs_range[1]\n",
    "        self.obs2_range = obs_range[2] # Irrelevant percepts\n",
    "        \n",
    "        # Domain for the values of the action.\n",
    "        # The actions are a choice of a door.\n",
    "        self.action_range = action_range\n",
    "        self.rng = np.random.default_rng(seed)  \n",
    "    \n",
    "    \n",
    "    def reset(self):\n",
    "        \"\"\"\n",
    "        Resets the environment, generates and outputs a new percept, and internally stores the right answer.\n",
    "        \"\"\"\n",
    "        # Uniformly sample the next percept/observation from the domains of the observables.\n",
    "        self.obs_config = [self.rng.choice(self.obs0_range), self.rng.choice(self.obs1_range), self.rng.choice(self.obs2_range)]\n",
    "        \n",
    "        # Translate percept into an excitation configuration.\n",
    "        # We use tuples to represent excitation configurations.\n",
    "        # Excited clips are denoted in the form \"obsO:V\", with O the index of the observable,\n",
    "        # and V the value of the observable.\n",
    "        # The ordering convention is obs0 < obs1 < obs2.\n",
    "        self.percept = [\"obs0:\"+str(self.obs_config[0]), \"obs1:\"+str(self.obs_config[1]), \"obs2:\"+str(self.obs_config[2])] \n",
    "        self.percept = tuple(self.percept)\n",
    "\n",
    "        return self.percept\n",
    "    \n",
    "    \n",
    "    def reward(self, action):\n",
    "        \"\"\"\n",
    "        Calculates and outputs the reward given an action input.\n",
    "        \"\"\"\n",
    "        # The agent is given a reward of 1 for inferring the correct door and -10 otherwise.\n",
    "        # Additionally, the agent receives a bonus/penalty for inferring the deception of the\n",
    "        # attacker. The determining factor for truth/lie is whether the sum of the first two observables\n",
    "        # is even or not: if it is, the door shown is the actual door the attacker will go to, otherwise\n",
    "        # the actual door is the next door over (mod the number of doors).\n",
    "        # For all agents except the 1-body agent, this severe negative reward essentially\n",
    "        # prevents the corresponding h-value/transition from being sampled again.\n",
    "        # This makes it easier to map the advantage in the number of trainable parameters\n",
    "        # to an advantage in training time.\n",
    "\n",
    "        pen_bon = [1.0, 1.0] # Penalties/Bonuses for falling victim to/detecting attackers' deception\n",
    "        if sum(self.obs_config[:2]) % 2 == 0: # Truth\n",
    "            if np.copy(action) == self.obs_config[0]: # Correct door\n",
    "                reward = 1.0 + pen_bon[0]\n",
    "            else: # Wrong door and was deceived\n",
    "                reward = -10.0 - pen_bon[0]\n",
    "        elif sum(self.obs_config[:2]) % 2 != 0: # Lie\n",
    "            actual_door = (self.obs_config[0]+1) % len(self.action_range) # The door the attacker actually goes to\n",
    "            if np.copy(action) == actual_door: # Correct door and did not fall for deception\n",
    "                reward = 1.0 + pen_bon[1]\n",
    "            elif np.copy(action) == self.obs_config[0]: # Wrong door and fell for deception\n",
    "                reward = -10.0 - pen_bon[1]\n",
    "            else: # Wrong door\n",
    "                reward = -10.0\n",
    "        \n",
    "        return reward\n",
    "\n",
    "        \n",
    "    def step(self, action):\n",
    "        \"\"\"\n",
    "        Given an action input, performs a step of the environment.\n",
    "        Outputs the reward and the next percept.\n",
    "        Percepts are sampled uniformly i.i.d.\n",
    "        \"\"\"\n",
    "        rew = self.reward(action)\n",
    "        # Since percepts are sampled uniformly i.i.d., we can just call self.reset to get a new percept.\n",
    "        percept = self.reset()\n",
    "        \n",
    "        return rew, percept\n",
    "\n",
    "\n",
    "class PSAgent():\n",
    "    \"\"\"\n",
    "    The class for the MEPS agents for the Invasion Game With Distraction\n",
    "    \"\"\"\n",
    "    def __init__(self, n_body, obs_ranges, action_range, seed):\n",
    "        # n_body says how many percept excitations are considered in each h-value\n",
    "        self.n_body = n_body\n",
    "        # obs_ranges: value set for each observable\n",
    "        self.obs_ranges = obs_ranges\n",
    "        # action_range: value set for actions\n",
    "        self.action_range = action_range\n",
    "        self.hs = {}\n",
    "        self.rng = np.random.default_rng(seed)\n",
    "\n",
    "        # Initialize the h-values\n",
    "        # First, iterate over all subsets of observables that have length n_body\n",
    "        for obs_indices in combinations(range(3), self.n_body):\n",
    "            # For all n_body-length subsets of observables, determine the set of values they can take.\n",
    "            relevant_ranges = product(*[self.obs_ranges[obs_indices[j]] for j in range(self.n_body)])\n",
    "            # Initialize the dictionary of h-values, i.e. the trainable parameters\n",
    "            for values in relevant_ranges:\n",
    "                # First, store each percept excitation configuration restricted to n_body \n",
    "                # excitations as a tuple, representing clips with strings in the form \"obsO:V\".\n",
    "                percept_subconfig = tuple([\"obs\"+str(obs_indices[j])+\":\"+str(values[j]) for j in range(self.n_body)])\n",
    "                # Now, we initialize the h-values\n",
    "                for action in action_range:\n",
    "                   self.hs[(percept_subconfig, action)] = 1.0\n",
    "\n",
    "    \n",
    "    def act(self, C_in):\n",
    "        \"\"\"\n",
    "        This method takes the current percept excitation configuration, and samples an action.\n",
    "        \"\"\"\n",
    "        # Iterate over all the h-value keys containing n_body many excitations of C_in\n",
    "        rel_trans = list(chain.from_iterable([[(x,a) for a in self.action_range] for x in combinations(C_in, self.n_body)]))\n",
    "        rel_hs = [self.hs[rel_trans[i]] for i in range(len(rel_trans))]\n",
    "        \n",
    "        # Turn currently relevant h-values into probabilities \n",
    "        probs = torch.softmax(torch.tensor(rel_hs), dim = 0).numpy()\n",
    "        chosen_trans = rel_trans[self.rng.choice(range(len(probs)), p=probs)]\n",
    "        action = chosen_trans[1]\n",
    "\n",
    "        return action, chosen_trans\n",
    "    \n",
    "\n",
    "    def learn(self, trans, reward):\n",
    "        \"\"\"\n",
    "        The PS update rule. \n",
    "        \"\"\"\n",
    "        # Since our percepts are i.i.d., we do not need \n",
    "        # glow and forgetting. These would introduce extra hyper-parameters.\n",
    "        self.hs[trans] = self.hs[trans] + reward\n"
   ]
  },
  {
   "cell_type": "markdown",
   "id": "0139f6ac-9cca-4fd7-aab4-91eb6ac2db61",
   "metadata": {},
   "source": [
    "Now, we can define the training loop."
   ]
  },
  {
   "cell_type": "code",
   "execution_count": 137,
   "id": "96682d4c-61c2-48f0-b2ab-eb7f996953f1",
   "metadata": {},
   "outputs": [],
   "source": [
    "def train(env, agent, num_rounds, horizon):\n",
    "    average_reward = 0.0\n",
    "    average_reward_list = []\n",
    "    percept = env.reset()\n",
    "    turns = []\n",
    "\n",
    "    for turn in tqdm(range(num_rounds)):\n",
    "        action, trans = agent.act(percept)\n",
    "        rew, percept = env.step(action)\n",
    "        agent.learn(trans, rew)\n",
    "        average_reward += rew/horizon\n",
    "        if (turn+1) % horizon == 0:\n",
    "            average_reward_list.append(average_reward)\n",
    "            turns.append(turn)\n",
    "            average_reward = 0.0\n",
    "        \n",
    "    return turns, average_reward_list, env, agent\n"
   ]
  },
  {
   "cell_type": "markdown",
   "id": "260d7787-5e87-48dd-9617-c0a391d8d60c",
   "metadata": {},
   "source": [
    "Next, we initialize the agents. The three observables take values in range(10), range(10, 14), and range(14, 24), while the actions take values from range(10). To get an impression for how sensitive the learning is with respect to the random number generation used during sampling, we average over several agents using the same inductive bias."
   ]
  },
  {
   "cell_type": "code",
   "execution_count": 138,
   "id": "55ef672f-9eab-415a-921e-db5616b33020",
   "metadata": {},
   "outputs": [],
   "source": [
    "obs_range = [range(10), range(10, 14), range(14, 24)]\n",
    "action_range = range(10)\n",
    "num_agents = 3\n",
    "nbody_agent = [1, 2, 3]\n",
    "num_rounds = [10000, 10000, 10000]\n",
    "horizons = [100, 100, 100]\n",
    "\n",
    "agent_seed_list = [1337, 42, 31337, 2023, 1990, 1, 0, 10, 100, 1000] \n",
    "agent_list = [[] for i in range(num_agents)]\n",
    "\n",
    "for agent_seed in agent_seed_list:\n",
    "    for n in range(num_agents):\n",
    "        agent_list[n].append(PSAgent(nbody_agent[n], obs_range, action_range, agent_seed))"
   ]
  },
  {
   "cell_type": "markdown",
   "id": "cec531a7-c5a3-463f-98a7-d1e60a71f58a",
   "metadata": {},
   "source": [
    "We can see an important advantage of an appropriate n-body inductive bias by counting the number of trainable parameters."
   ]
  },
  {
   "cell_type": "code",
   "execution_count": 139,
   "id": "e1ddd595-bcba-4e9b-a431-c406486e3851",
   "metadata": {},
   "outputs": [
    {
     "name": "stdout",
     "output_type": "stream",
     "text": [
      "Number of trainable parameters for 1-body PS: 240\n",
      "Number of trainable parameters for 2-body PS: 1800\n",
      "Number of trainable parameters for 3-body PS: 4000\n"
     ]
    }
   ],
   "source": [
    "for i in range(num_agents):\n",
    "    print(\"Number of trainable parameters for {a0}-body PS: {a1}\".format(a0=nbody_agent[i], a1=len(agent_list[i][0].hs)))"
   ]
  },
  {
   "cell_type": "code",
   "execution_count": 140,
   "id": "447fa6ea-c3f7-4572-b37c-9264852e61c1",
   "metadata": {},
   "outputs": [
    {
     "data": {
      "application/vnd.jupyter.widget-view+json": {
       "model_id": "1582386778fb4446ab071d3e34fd0f63",
       "version_major": 2,
       "version_minor": 0
      },
      "text/plain": [
       "  0%|          | 0/10000 [00:00<?, ?it/s]"
      ]
     },
     "metadata": {},
     "output_type": "display_data"
    },
    {
     "data": {
      "application/vnd.jupyter.widget-view+json": {
       "model_id": "5d0616a94f504ea7937492c83d548fba",
       "version_major": 2,
       "version_minor": 0
      },
      "text/plain": [
       "  0%|          | 0/10000 [00:00<?, ?it/s]"
      ]
     },
     "metadata": {},
     "output_type": "display_data"
    },
    {
     "data": {
      "application/vnd.jupyter.widget-view+json": {
       "model_id": "3b0def8e382046aba41519946c22ff6a",
       "version_major": 2,
       "version_minor": 0
      },
      "text/plain": [
       "  0%|          | 0/10000 [00:00<?, ?it/s]"
      ]
     },
     "metadata": {},
     "output_type": "display_data"
    },
    {
     "data": {
      "application/vnd.jupyter.widget-view+json": {
       "model_id": "31cbba0cffc34162875639d93696db1f",
       "version_major": 2,
       "version_minor": 0
      },
      "text/plain": [
       "  0%|          | 0/10000 [00:00<?, ?it/s]"
      ]
     },
     "metadata": {},
     "output_type": "display_data"
    },
    {
     "data": {
      "application/vnd.jupyter.widget-view+json": {
       "model_id": "57dade38f74b44d98b2feb47e0d33887",
       "version_major": 2,
       "version_minor": 0
      },
      "text/plain": [
       "  0%|          | 0/10000 [00:00<?, ?it/s]"
      ]
     },
     "metadata": {},
     "output_type": "display_data"
    },
    {
     "data": {
      "application/vnd.jupyter.widget-view+json": {
       "model_id": "9fa101d82f964bcea9380ccb4734ac41",
       "version_major": 2,
       "version_minor": 0
      },
      "text/plain": [
       "  0%|          | 0/10000 [00:00<?, ?it/s]"
      ]
     },
     "metadata": {},
     "output_type": "display_data"
    },
    {
     "data": {
      "application/vnd.jupyter.widget-view+json": {
       "model_id": "36f8f702265b495abbcaf36982f3f821",
       "version_major": 2,
       "version_minor": 0
      },
      "text/plain": [
       "  0%|          | 0/10000 [00:00<?, ?it/s]"
      ]
     },
     "metadata": {},
     "output_type": "display_data"
    },
    {
     "data": {
      "application/vnd.jupyter.widget-view+json": {
       "model_id": "f9cb5c73f38341798e7d89ecebbef5bd",
       "version_major": 2,
       "version_minor": 0
      },
      "text/plain": [
       "  0%|          | 0/10000 [00:00<?, ?it/s]"
      ]
     },
     "metadata": {},
     "output_type": "display_data"
    },
    {
     "data": {
      "application/vnd.jupyter.widget-view+json": {
       "model_id": "057793070091424987af88deeb5b9890",
       "version_major": 2,
       "version_minor": 0
      },
      "text/plain": [
       "  0%|          | 0/10000 [00:00<?, ?it/s]"
      ]
     },
     "metadata": {},
     "output_type": "display_data"
    },
    {
     "data": {
      "application/vnd.jupyter.widget-view+json": {
       "model_id": "876e0b39968445509b06de78ad2b2144",
       "version_major": 2,
       "version_minor": 0
      },
      "text/plain": [
       "  0%|          | 0/10000 [00:00<?, ?it/s]"
      ]
     },
     "metadata": {},
     "output_type": "display_data"
    },
    {
     "data": {
      "application/vnd.jupyter.widget-view+json": {
       "model_id": "6c8c5c6919104ba8afa87377435ea525",
       "version_major": 2,
       "version_minor": 0
      },
      "text/plain": [
       "  0%|          | 0/10000 [00:00<?, ?it/s]"
      ]
     },
     "metadata": {},
     "output_type": "display_data"
    },
    {
     "data": {
      "application/vnd.jupyter.widget-view+json": {
       "model_id": "03c5584ea9574ebc8ccc551de3d961b9",
       "version_major": 2,
       "version_minor": 0
      },
      "text/plain": [
       "  0%|          | 0/10000 [00:00<?, ?it/s]"
      ]
     },
     "metadata": {},
     "output_type": "display_data"
    },
    {
     "data": {
      "application/vnd.jupyter.widget-view+json": {
       "model_id": "76c5473869304c2ca092e1b906427644",
       "version_major": 2,
       "version_minor": 0
      },
      "text/plain": [
       "  0%|          | 0/10000 [00:00<?, ?it/s]"
      ]
     },
     "metadata": {},
     "output_type": "display_data"
    },
    {
     "data": {
      "application/vnd.jupyter.widget-view+json": {
       "model_id": "510ff6ec476746de8b888fffbcec4209",
       "version_major": 2,
       "version_minor": 0
      },
      "text/plain": [
       "  0%|          | 0/10000 [00:00<?, ?it/s]"
      ]
     },
     "metadata": {},
     "output_type": "display_data"
    },
    {
     "data": {
      "application/vnd.jupyter.widget-view+json": {
       "model_id": "df0392b3de394411a9ca47006e6fd56a",
       "version_major": 2,
       "version_minor": 0
      },
      "text/plain": [
       "  0%|          | 0/10000 [00:00<?, ?it/s]"
      ]
     },
     "metadata": {},
     "output_type": "display_data"
    },
    {
     "data": {
      "application/vnd.jupyter.widget-view+json": {
       "model_id": "d3005e5a4f034113aca4d60ae35085b3",
       "version_major": 2,
       "version_minor": 0
      },
      "text/plain": [
       "  0%|          | 0/10000 [00:00<?, ?it/s]"
      ]
     },
     "metadata": {},
     "output_type": "display_data"
    },
    {
     "data": {
      "application/vnd.jupyter.widget-view+json": {
       "model_id": "f071349160914cb9af3915343b842525",
       "version_major": 2,
       "version_minor": 0
      },
      "text/plain": [
       "  0%|          | 0/10000 [00:00<?, ?it/s]"
      ]
     },
     "metadata": {},
     "output_type": "display_data"
    },
    {
     "data": {
      "application/vnd.jupyter.widget-view+json": {
       "model_id": "630c08fbbeeb42b6bc81cb6bab70e413",
       "version_major": 2,
       "version_minor": 0
      },
      "text/plain": [
       "  0%|          | 0/10000 [00:00<?, ?it/s]"
      ]
     },
     "metadata": {},
     "output_type": "display_data"
    },
    {
     "data": {
      "application/vnd.jupyter.widget-view+json": {
       "model_id": "e7604b94f41c4a808dfc70114436b47d",
       "version_major": 2,
       "version_minor": 0
      },
      "text/plain": [
       "  0%|          | 0/10000 [00:00<?, ?it/s]"
      ]
     },
     "metadata": {},
     "output_type": "display_data"
    },
    {
     "data": {
      "application/vnd.jupyter.widget-view+json": {
       "model_id": "a98677c3d814464387e3bb72345bd95c",
       "version_major": 2,
       "version_minor": 0
      },
      "text/plain": [
       "  0%|          | 0/10000 [00:00<?, ?it/s]"
      ]
     },
     "metadata": {},
     "output_type": "display_data"
    },
    {
     "data": {
      "application/vnd.jupyter.widget-view+json": {
       "model_id": "8f4f7bc243254b478f69cb6783eec1d9",
       "version_major": 2,
       "version_minor": 0
      },
      "text/plain": [
       "  0%|          | 0/10000 [00:00<?, ?it/s]"
      ]
     },
     "metadata": {},
     "output_type": "display_data"
    },
    {
     "data": {
      "application/vnd.jupyter.widget-view+json": {
       "model_id": "b790010d3c4742d68b5baa90b218e9e5",
       "version_major": 2,
       "version_minor": 0
      },
      "text/plain": [
       "  0%|          | 0/10000 [00:00<?, ?it/s]"
      ]
     },
     "metadata": {},
     "output_type": "display_data"
    },
    {
     "data": {
      "application/vnd.jupyter.widget-view+json": {
       "model_id": "b6d87ec4fb334b3f82035be653fbcc5f",
       "version_major": 2,
       "version_minor": 0
      },
      "text/plain": [
       "  0%|          | 0/10000 [00:00<?, ?it/s]"
      ]
     },
     "metadata": {},
     "output_type": "display_data"
    },
    {
     "data": {
      "application/vnd.jupyter.widget-view+json": {
       "model_id": "f4785c3769c74b0caca788644337db6b",
       "version_major": 2,
       "version_minor": 0
      },
      "text/plain": [
       "  0%|          | 0/10000 [00:00<?, ?it/s]"
      ]
     },
     "metadata": {},
     "output_type": "display_data"
    },
    {
     "data": {
      "application/vnd.jupyter.widget-view+json": {
       "model_id": "f7c24c765d51461a935aeb93b88b79d4",
       "version_major": 2,
       "version_minor": 0
      },
      "text/plain": [
       "  0%|          | 0/10000 [00:00<?, ?it/s]"
      ]
     },
     "metadata": {},
     "output_type": "display_data"
    },
    {
     "data": {
      "application/vnd.jupyter.widget-view+json": {
       "model_id": "89e9973ae4ef493292e687c39b53b4b4",
       "version_major": 2,
       "version_minor": 0
      },
      "text/plain": [
       "  0%|          | 0/10000 [00:00<?, ?it/s]"
      ]
     },
     "metadata": {},
     "output_type": "display_data"
    },
    {
     "data": {
      "application/vnd.jupyter.widget-view+json": {
       "model_id": "05b28ed049fb4e0581b198bac42582a7",
       "version_major": 2,
       "version_minor": 0
      },
      "text/plain": [
       "  0%|          | 0/10000 [00:00<?, ?it/s]"
      ]
     },
     "metadata": {},
     "output_type": "display_data"
    },
    {
     "data": {
      "application/vnd.jupyter.widget-view+json": {
       "model_id": "d4e921209959459fad3e7f95fa8dd47d",
       "version_major": 2,
       "version_minor": 0
      },
      "text/plain": [
       "  0%|          | 0/10000 [00:00<?, ?it/s]"
      ]
     },
     "metadata": {},
     "output_type": "display_data"
    },
    {
     "data": {
      "application/vnd.jupyter.widget-view+json": {
       "model_id": "abe42759487c4c5caf1414ded8c21790",
       "version_major": 2,
       "version_minor": 0
      },
      "text/plain": [
       "  0%|          | 0/10000 [00:00<?, ?it/s]"
      ]
     },
     "metadata": {},
     "output_type": "display_data"
    },
    {
     "data": {
      "application/vnd.jupyter.widget-view+json": {
       "model_id": "a79a3e63701c437395fe0de0167a479a",
       "version_major": 2,
       "version_minor": 0
      },
      "text/plain": [
       "  0%|          | 0/10000 [00:00<?, ?it/s]"
      ]
     },
     "metadata": {},
     "output_type": "display_data"
    },
    {
     "name": "stdout",
     "output_type": "stream",
     "text": [
      "Directory ./deceptive_invasion_data exists, overwriting content\n"
     ]
    }
   ],
   "source": [
    "env_seed_list = [2, 3, 678, 432, 101010, 8765, 90807060, 123, 9876, 767687]\n",
    "\n",
    "average_reward_list_all = [[] for i in range(num_agents)] # Lists storing the evolution of the average rewards for all agents\n",
    "means = [] # Evolution of the mean rewards, averaged over agents of the same inductive bias\n",
    "stds = [] # Evolution of the standard deviations of the rewards, calculated over agents of same inductive bias\n",
    "\n",
    "for i in range(num_agents):\n",
    "    for agent_ind in range(len(agent_list[i])):\n",
    "        environment = InvasionGame(obs_range, action_range, env_seed_list[agent_ind])\n",
    "        turns, average_reward_list, _, _ = train(environment, agent_list[i][agent_ind], num_rounds[i], horizons[i])\n",
    "        average_reward_list_all[i].append(average_reward_list)\n",
    "    \n",
    "    average_reward_list_all[i] = np.array(average_reward_list_all[i]) \n",
    "    means.append(np.mean(average_reward_list_all[i], axis=0))\n",
    "    stds.append(np.std(average_reward_list_all[i], axis=0))\n",
    "\n",
    "\n",
    "try:\n",
    "    os.mkdir('./deceptive_invasion_data')\n",
    "except OSError as error:\n",
    "    print(\"Directory ./deceptive_invasion_data exists, overwriting content\")\n",
    "\n",
    "    \n",
    "# Store the final h-values\n",
    "for n in range(num_agents):\n",
    "    for j in range(len(agent_list[n])):\n",
    "        with open('./deceptive_invasion_data/agent{a0}_'.format(a0=n+1)+str(j)+'_hs.txt', 'w') as f:\n",
    "            for trans in agent_list[n][j].hs.keys():\n",
    "                f.write(str(trans)+\":   \"+str(agent_list[n][j].hs[trans])+\" \\n\")\n",
    "\n",
    "    # Also store all information related to average rewards\n",
    "    path = \"./deceptive_invasion_data/average_reward_list{a0}_all.txt\".format(a0=n+1)\n",
    "    np.savetxt(path, np.array(average_reward_list_all[n]), delimiter = \"     \")\n",
    "    path = \"./deceptive_invasion_data/means{a0}.txt\".format(a0=n+1)\n",
    "    np.savetxt(path, np.array(means[n]), delimiter = \"     \")\n",
    "    path = \"./deceptive_invasion_data/stds{a0}.txt\".format(a0=n+1)\n",
    "    np.savetxt(path, np.array(stds[n]), delimiter = \"     \")\n",
    "                \n",
    "path = \"./deceptive_invasion_data/turns.txt\"\n",
    "np.savetxt(path, np.array(turns), delimiter = \" , \")\n"
   ]
  },
  {
   "cell_type": "markdown",
   "id": "2af924b7-769d-4a3f-8392-62616ed75d5e",
   "metadata": {},
   "source": [
    "Finally, we plot the learning curves."
   ]
  },
  {
   "cell_type": "code",
   "execution_count": 141,
   "id": "121fce64-bf36-47c3-a4e1-01761c36ad59",
   "metadata": {},
   "outputs": [
    {
     "data": {
      "image/png": "[encoded data removed]",
      "text/plain": [
       "<Figure size 700x500 with 1 Axes>"
      ]
     },
     "metadata": {},
     "output_type": "display_data"
    }
   ],
   "source": [
    "fig, ax = plt.subplots(figsize=(7.0, 5.0))\n",
    "ax.set_xlabel('Episode Number') \n",
    "ax.set_ylabel('Average Reward')\n",
    "colors = sns.color_palette(\"husl\", 3)\n",
    "with sns.axes_style(\"darkgrid\"):\n",
    "    for i in range(num_agents):\n",
    "        ax.plot(turns, means[i], label='{a0}-body PS'.format(a0=nbody_agent[i]), c = colors[i]) \n",
    "        ax.fill_between(turns, means[i]-stds[i], means[i]+stds[i] ,alpha=0.3, facecolor=colors[i])\n",
    "\n",
    "ax.set_title(\"Learning curves for different n-body inductive biases\")  \n",
    "ax.legend();  \n",
    "plt.savefig(\"./Deceptive_Invasion_training.png\")\n",
    "plt.show()"
   ]
  },
  {
   "cell_type": "markdown",
   "id": "d2b710e5-d275-455e-867f-94cfc70f4c49",
   "metadata": {},
   "source": [
    "As expected, the 1-body cutoff agent is too simple: It cannot extract the correlations of the first two observables to make the right decision, because it can only look at one observable at a time.\r\n",
    "\r\n",
    "The 2-body agent has exactly the right inductive bias: It can solve the environment perfectly, and learns the fastest.\r\n",
    "\r\n",
    "The 3-body agent can still solve the environment, but it learns slower. It must learn separate h-values for each value of the third observable, despite the third observable being just a distraction."
   ]
  },
  {
   "cell_type": "code",
   "execution_count": null,
   "id": "d6cf845e-1e2d-47fe-9dec-1d14187ef516",
   "metadata": {},
   "outputs": [],
   "source": []
  }
 ],
 "metadata": {
  "kernelspec": {
   "display_name": "Python 3 (ipykernel)",
   "language": "python",
   "name": "python3"
  },
  "language_info": {
   "codemirror_mode": {
    "name": "ipython",
    "version": 3
   },
   "file_extension": ".py",
   "mimetype": "text/x-python",
   "name": "python",
   "nbconvert_exporter": "python",
   "pygments_lexer": "ipython3",
   "version": "3.11.0"
  }
 },
 "nbformat": 4,
 "nbformat_minor": 5
}
