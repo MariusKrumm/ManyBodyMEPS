{
 "cells": [
  {
   "cell_type": "markdown",
   "id": "00277dd4-2e43-47f4-882f-48efef0c44e3",
   "metadata": {},
   "source": [
    "#  MEPS in the Computer Maintenance Environment"
   ]
  },
  {
   "cell_type": "markdown",
   "id": "b2bde178-e961-4bd0-a98e-6aaa0e36acb7",
   "metadata": {},
   "source": [
    "**Philip A. LeMaitre, Marius Krumm**"
   ]
  },
  {
   "cell_type": "markdown",
   "id": "51e70461-ace3-4945-a07b-295b5da7f9d9",
   "metadata": {},
   "source": [
    "In this notebook, we will train Multi-Excitation Projective Simulation (MEPS) agents on another a more intricate synthetic environment with more complexity than both of the **Invasion Game With Distraction** and the **Deceptive Invasion Game**. We call this new environment **Computer Maintenance**. \n",
    "\n",
    "In this reinforcement learning environment, the observations that the agent receives are comprised of varying numbers of possible symptoms that are indicative of an underlying problem that is specified by a scenario defined in the initialization of the environment. The agent we consider here is a three-layer agent whose hidden intermediate layer represents what they think the cause of the underlying problem is and in which components it is. The actions that can be taken by the agent, for a given choice of cause (determined internally), are a choice of which computer components they think are part of the problem and a choice of possible fixes they can enact to deal with the problem. Each category is represented by a dictionary that indexes these statements into an integer. What the agent sends to the environment to get a reward is their internal deliberation chain, which is like an explanation to a customer of what the problem is and how the agent fixed it. The agent's explanation is then compared to the initially generated scenario and also checked against plausible cause-action pairs to determine a reward.\n",
    "\n",
    "The point of this more nuanced environment, is to test the MEPS agent for complex scenarios that require the agent to combine multiple concepts together in order to solve a problem that couldnt otherwise be solved by only considering one excitation at a time. This environment also represents an interesting and practical real-world task."
   ]
  },
  {
   "cell_type": "code",
   "execution_count": 1,
   "id": "30592db8-7dc9-4049-bc2c-425756665fd4",
   "metadata": {},
   "outputs": [
    {
     "name": "stdout",
     "output_type": "stream",
     "text": [
      "Python version: 3.11.7 (v3.11.7:fa7a6f2303, Dec  4 2023, 15:22:56) [Clang 13.0.0 (clang-1300.0.29.30)]\n",
      "Numpy version: 1.26.3\n",
      "Matplotlib version: 3.8.2\n",
      "Seaborn version: 0.13.1\n"
     ]
    }
   ],
   "source": [
    "import numpy as np\n",
    "import matplotlib\n",
    "import matplotlib.pyplot as plt\n",
    "from tqdm.notebook import tqdm\n",
    "from itertools import chain, product, combinations\n",
    "import seaborn as sns\n",
    "import os\n",
    "import sys\n",
    "\n",
    "np.set_printoptions(edgeitems=300, threshold=20000, linewidth=150)\n",
    "\n",
    "print(\"Python version:\", sys.version)\n",
    "print(\"Numpy version:\", np.__version__)\n",
    "print(\"Matplotlib version:\", matplotlib.__version__)\n",
    "print(\"Seaborn version:\", sns.__version__)"
   ]
  },
  {
   "cell_type": "code",
   "execution_count": 44,
   "id": "58ef1b42-6b02-426f-8f0b-15ce630b43b4",
   "metadata": {},
   "outputs": [],
   "source": [
    "def reward_func(reward, it, max_t):\n",
    "    \"\"\"\n",
    "    Modifies the reward given by the environment.\n",
    "\n",
    "    Parameters\n",
    "    ----------\n",
    "    reward : float\n",
    "        The reward given by the environment.\n",
    "    it : int\n",
    "        The iteration number of the training loop.\n",
    "    max_t : int\n",
    "        The maximum number of iterations allowed before a penalty is applied.\n",
    "\n",
    "    Returns\n",
    "    -------\n",
    "    new_reward : float\n",
    "        The modified reward.\n",
    "    \"\"\"\n",
    "    new_reward = np.array(reward)\n",
    "\n",
    "    if it >= max_t:\n",
    "        new_reward -= 0.25*np.log(it-max_t+1)\n",
    "    \n",
    "    return np.clip(new_reward, -16, None)\n",
    "    \n",
    "\n",
    "class BrokenComputerEnv():\n",
    "    \"\"\"\n",
    "    The Computer Maintenance environment.\n",
    "    \"\"\"\n",
    "    def __init__(self, seed):\n",
    "\n",
    "        # Possible symptoms of the underlying issues\n",
    "        self.symptoms = {\n",
    "                         'PC overheating': 1, \n",
    "                         'files disappearing': 2, \n",
    "                         'visible markings on components': 3,\n",
    "                         'unexpected shutdowns': 4,\n",
    "                         'slow performance': 5,\n",
    "                         'old hardware': 6,\n",
    "                         'strange noises': 7,\n",
    "                         'software glitches': 8,\n",
    "                         #'blue screen': 9,\n",
    "                         #'no internet': 10\n",
    "                        }\n",
    "        \n",
    "        # Possible actions the agent can take\n",
    "        act_start = list(self.symptoms.values())[-1]\n",
    "        self.actions = {\n",
    "                        'replace components': act_start+1, \n",
    "                        'install missing software': act_start+2, \n",
    "                        'cooldown computer': act_start+3,\n",
    "                        'run antivirus': act_start+4,\n",
    "                        #'check network settings': act_start+5,\n",
    "                        #'run diagnostics': act_start+6,\n",
    "                        #'reboot': act_start+7,\n",
    "                        #'connect components': act_start+8,\n",
    "                        #'benchmark components': act_start+9\n",
    "                       }\n",
    "\n",
    "        # Possible components the agent can select\n",
    "        comp_start = list(self.actions.values())[-1]\n",
    "        self.components = {\n",
    "                           'CPU': comp_start+1,\n",
    "                           'SSD': comp_start+2, \n",
    "                           'MoBo': comp_start+3,\n",
    "                           'PSU': comp_start+4,\n",
    "                           'OS': comp_start+5,\n",
    "                           #'GPU': comp_start+6,\n",
    "                           #'Fans': comp_start+7,\n",
    "                           #'CPU cooler': comp_start+8,\n",
    "                           #'RAM': comp_start+9,\n",
    "                           #'BIOS': comp_start+10\n",
    "                          }\n",
    "\n",
    "        # Possible causes the agent can select\n",
    "        cause_start = list(self.components.values())[-1]\n",
    "        self.causes = {\n",
    "                       'physical damage': cause_start+1,\n",
    "                       'software damage': cause_start+2,\n",
    "                       'malware': cause_start+3,\n",
    "                       'faulty': cause_start+4,\n",
    "                       #'not connected': cause_start+5,\n",
    "                       #'not compatible': cause_start+6,\n",
    "                       #'not initialized': cause_start+7,\n",
    "                       #'overworked': cause_start+8,\n",
    "                       #'overheat': cause_start+9,\n",
    "                       #'corrupt files': cause_start+10,\n",
    "                       #'system error': cause_start+11\n",
    "                      }\n",
    "        \n",
    "        # Possible scenarios\n",
    "        self.scenarios = [\n",
    "                          [[self.symptoms['files disappearing'], self.symptoms['visible markings on components']],\n",
    "                           [self.components['SSD'], self.components['MoBo']],\n",
    "                           [self.causes['physical damage'], self.causes['software damage']],\n",
    "                           [self.actions['replace components']]],\n",
    "                          [[self.symptoms['PC overheating'], self.symptoms['visible markings on components']],\n",
    "                           [self.components['CPU'], self.components['MoBo']],\n",
    "                           [self.causes['physical damage'], self.causes['software damage']],\n",
    "                           [self.actions['replace components'], self.actions['cooldown computer']]],\n",
    "                          [[self.symptoms['visible markings on components'], self.symptoms['unexpected shutdowns']],\n",
    "                           [self.components['MoBo'], self.components['PSU']],\n",
    "                           [self.causes['physical damage'], self.causes['software damage']],\n",
    "                           [self.actions['replace components']]],\n",
    "                          [[self.symptoms['unexpected shutdowns'], self.symptoms['slow performance']],\n",
    "                           [self.components['CPU'], self.components['PSU']],\n",
    "                           [self.causes['physical damage'], self.causes['software damage']],\n",
    "                           [self.actions['replace components']]],\n",
    "                          #[[self.symptoms['slow performance'], self.symptoms['old hardware']],\n",
    "                           #[self.components['GPU']],\n",
    "                           #[self.causes['faulty']],\n",
    "                           #[self.actions['replace components']]],\n",
    "                          #[[self.symptoms['slow performance'], self.symptoms['strange noises']],\n",
    "                           #[self.components['Fans']],\n",
    "                           #[self.causes['faulty']],\n",
    "                           #[self.actions['replace components']]],\n",
    "                          #[[self.symptoms['slow performance'], self.symptoms['software glitches']],\n",
    "                           #[self.components['GPU']],\n",
    "                           #[self.causes['software damage']],\n",
    "                           #[self.actions['install missing software']]],\n",
    "                          [[self.symptoms['files disappearing'], self.symptoms['old hardware']],\n",
    "                           [self.components['SSD']],\n",
    "                           [self.causes['faulty']],\n",
    "                           [self.actions['replace components']]],\n",
    "                          [[self.symptoms['unexpected shutdowns'], self.symptoms['old hardware']],\n",
    "                           [self.components['CPU']],\n",
    "                           [self.causes['faulty']],\n",
    "                           [self.actions['replace components']]],\n",
    "                          [[self.symptoms['files disappearing'], self.symptoms['strange noises']],\n",
    "                           [self.components['SSD']],\n",
    "                           [self.causes['faulty']],\n",
    "                           [self.actions['replace components']]],\n",
    "                          #[[self.symptoms['PC overheating'], self.symptoms['strange noises']],\n",
    "                           #[self.components['Fans']],\n",
    "                           #[self.causes['faulty']],\n",
    "                           #[self.actions['replace components']]],\n",
    "                          [[self.symptoms['unexpected shutdowns'], self.symptoms['software glitches']],\n",
    "                           [self.components['CPU']],\n",
    "                           [self.causes['software damage']],\n",
    "                           [self.actions['install missing software']]],\n",
    "                          [[self.symptoms['files disappearing'], self.symptoms['unexpected shutdowns']],\n",
    "                           [self.components['OS']],\n",
    "                           [self.causes['malware']],\n",
    "                           [self.actions['run antivirus']]],\n",
    "                          [[self.symptoms['files disappearing'], self.symptoms['software glitches']],\n",
    "                           [self.components['OS']],\n",
    "                           [self.causes['software damage'], self.causes['malware']],\n",
    "                           [self.actions['install missing software'], self.actions['run antivirus']]],\n",
    "                          [[self.symptoms['PC overheating'], self.symptoms['software glitches']],\n",
    "                           [self.components['CPU'], self.components['OS']],\n",
    "                           [self.causes['software damage']],\n",
    "                           [self.actions['install missing software'], self.actions['cooldown computer']]],\n",
    "                         ]\n",
    "        \n",
    "        # Random generator\n",
    "        self.rng = np.random.default_rng(seed)\n",
    "        \n",
    "\n",
    "    def verify_scenario(self, expln):\n",
    "        \"\"\"\n",
    "        Checks whether the explanation given by the agent agrees with that specified by the given scenario.\n",
    "        \"\"\"\n",
    "        # Explanation corresponding to action layer\n",
    "        temp_scenario_act = [expln[0][0], expln[-1][0], expln[-1][1]]\n",
    "        tot_len_act = len(temp_scenario_act)\n",
    "        temp_scenario_act_len = [len(temp_scenario_act[i]) for i in range(tot_len_act)]\n",
    "        act_ind = [0, 1, 3]\n",
    "        act_scenario_state_len = [len(self.scenario_state[i]) for i in act_ind]\n",
    "        # Explanation corresponding to hidden layer\n",
    "        temp_scenario_perc = [expln[0][0], expln[1][0], expln[1][1]]\n",
    "        tot_len_perc = len(temp_scenario_perc)\n",
    "        temp_scenario_perc_len = [len(temp_scenario_perc[i]) for i in range(tot_len_perc)]\n",
    "        perc_scenario_state_len = [len(self.scenario_state[i]) for i in range(tot_len_perc)]\n",
    "        # Compute the sum of how many elements in each category agree between the scenario constructed from the\n",
    "        # agent's choices and the chosen scenario at initialization, for action and hidden layers, respectively\n",
    "        act_scenario_ind = [sum([np.any(temp_scenario_act[i][j] == np.copy(self.scenario_state[act_ind[i]])) for j in range(temp_scenario_act_len[i])]) for i in range(tot_len_act)]\n",
    "        perc_scenario_ind = [sum([np.any(temp_scenario_perc[i][j] == np.copy(self.scenario_state[i])) for j in range(temp_scenario_perc_len[i])]) for i in range(tot_len_perc)]\n",
    "        # Check whether the scenario constructed from the agent's choices at least contains the scenario at initialization,\n",
    "        # for action and hidden layers, respectively\n",
    "        temp_if_act = [True if ((act_scenario_ind[i] == act_scenario_state_len[i]) and (temp_scenario_act_len[i] == act_scenario_state_len[i])) else False for i in range(tot_len_act)]\n",
    "        temp_if_perc = [True if ((perc_scenario_ind[i] == perc_scenario_state_len[i]) and (temp_scenario_perc_len[i] == perc_scenario_state_len[i])) else False for i in range(tot_len_perc)]\n",
    "        \n",
    "        # Because the percepts are coupled in exactly, the percept in the agent's explanation will always match the one in scenario_state. Therefore,\n",
    "        # we do not need to include it when verifying that the agent got the right scenario (for now).\n",
    "        \n",
    "        tot_vec = [False, False, False]\n",
    "        # Check if all categories in action layer explanation except the first fulfill the condition for temp_if_act\n",
    "        if (sum(temp_if_act[1:]) == 2):\n",
    "            tot_vec[1] = True\n",
    "\n",
    "        # Check if all categories in hidden layer explanation except the first fulfill the condition for temp_if_perc\n",
    "        if (sum(temp_if_perc[1:]) == 2):\n",
    "            tot_vec[0] = True\n",
    "\n",
    "        # Check if all categories in both the hidden and action layer explanations match those in scenario_state\n",
    "        if tot_vec[0] and tot_vec[1]:\n",
    "            tot_vec[2] = True\n",
    "        \n",
    "        return tot_vec\n",
    "        \n",
    "    \n",
    "    def reset(self):\n",
    "        \"\"\"\n",
    "        Resets the environment, generating a new scenario and symptoms.\n",
    "        \"\"\"\n",
    "        \n",
    "        # The following section is written in a way such that the symptom subsets can have more symptoms than a scenario in scenarios has, which allows\n",
    "        # for irrelevant symptoms to be included if desired.\n",
    "\n",
    "        # Generate initial scenario\n",
    "        self.scenario_state = self.scenarios[self.rng.choice(len(self.scenarios))]\n",
    "        # Construct symptom sets containing the symptom set from the chosen scenario\n",
    "        self.sym_subsets = [self.scenario_state[0]]\n",
    "        # Randomly select one of the symptom sets\n",
    "        self.sym_set = self.sym_subsets[self.rng.choice(len(self.sym_subsets))]\n",
    "        # Generate initial symptoms \n",
    "        self.state = self.sym_set\n",
    "        \n",
    "        return self.state\n",
    "\n",
    "    \n",
    "    def step(self, expln):\n",
    "        \"\"\"\n",
    "        Given an action input and explanation list, return the current state and a reward, along with\n",
    "        a signal indicating whether the problem has been solved.\n",
    "        \"\"\"\n",
    "        reward = [0, 0]\n",
    "        done = False\n",
    "\n",
    "        # Part of the agent's explanation to the customer is used to verify if the problem is solved and get a reward.\n",
    "        expl_vec = expln[1]\n",
    "        # Penalties for choosing too many and too few elements from each category except the symptoms, respectively\n",
    "        penalty = np.array([1.0, 0.2])\n",
    "        # Conditions for triggering the penalties.\n",
    "        # Check the difference in length between each part of the agent's explanation and the initially generated scenario\n",
    "        pen_cond = np.array([(len(expl_vec[i]) - len(self.scenario_state[i+1])) for i in range(len(expl_vec))])\n",
    "        # Normalize the above. 0 indicates they are the same length, so no penalty. 1 indicates that the agent's explanation contains more elements\n",
    "        # than the initially generated scenario per category, which then activates the penalty for too many elements. -1 indicates that the agent's\n",
    "        # explanation contains less elements than the initially generated scenario per category, which then activates the penalty for too few elements. \n",
    "        norm_pen_cond = np.array([pen_cond[i]/abs(pen_cond[i]) if pen_cond[i] != 0 else 0 for i in range(len(pen_cond))])\n",
    "        # np.maximum will not apply the penalty for too many elements if that element of norm_pen_cond is not 1, and the normalized sum converts everything\n",
    "        # to a scalar.\n",
    "        reward[0] -= np.sum(np.maximum(norm_pen_cond, np.zeros(len(norm_pen_cond))))*penalty[0]/len(norm_pen_cond)\n",
    "        \n",
    "        # The plausibility reward. This reward assesses how well the agent's chosen fixes reflect the causes that it identified, as well as\n",
    "        # if the components associated with chosen causes are the same as those associated with chosen fixes.\n",
    "        plaus_max_reward = [1.0, 0.3]\n",
    "        plaus_penalty = [2.0, 2.0, 4.0]\n",
    "\n",
    "        # Evaluates how many of the components in the chosen action layer clip are in the chosen hidden layer clip\n",
    "        val = sum([int(np.any(expln[2][0][i] == np.copy(expln[1][0]))) for i in range(len(expln[2][0]))])\n",
    "\n",
    "        # Get a reward if all components in the chosen action layer clip are in the chosen hidden layer clip and they are the same size\n",
    "        if (val == len(expln[2][0])) and (len(expln[2][0]) == len(expln[1][0])):\n",
    "            reward[1] += plaus_max_reward[0]\n",
    "        # Get a smaller reward if only all components in the chosen action layer clip are in the hidden layer clip\n",
    "        elif (val == len(expln[2][0])):\n",
    "            reward[1] += plaus_max_reward[0]/4\n",
    "        # Receive a punishment otherwise\n",
    "        else:\n",
    "            reward[1] -= plaus_penalty[0]\n",
    "        \n",
    "        # The agent is rewarded for associating certain causes with certain fixes, and punished otherwise\n",
    "        plaus_reward_divisor = len(self.scenario_state[-1])\n",
    "        conds = [np.any(expln[1][1] == np.copy(self.causes['physical damage'])), np.any(expln[1][1] == np.copy(self.causes['software damage'])),\n",
    "                 np.any(expln[1][1] == np.copy(self.causes['malware'])), np.any(expln[1][1] == np.copy(self.causes['faulty']))]\n",
    "        \n",
    "        if np.any(expln[2][1] == np.copy(self.actions['replace components'])):\n",
    "            if (conds[0] or conds[3]):\n",
    "                reward[1] += plaus_max_reward[1]/plaus_reward_divisor\n",
    "            else:\n",
    "                reward[1] -= plaus_penalty[1]/plaus_reward_divisor\n",
    "\n",
    "            if ((conds[1] or conds[2]) and not (conds[0] or conds[3])):\n",
    "                reward[1] -= plaus_penalty[1]/plaus_reward_divisor\n",
    "            \n",
    "        if np.any(expln[2][1] == np.copy(self.actions['install missing software'])):\n",
    "            if conds[1]:\n",
    "                reward[1] += plaus_max_reward[1]/plaus_reward_divisor\n",
    "            else:\n",
    "                reward[1] -= plaus_penalty[1]/plaus_reward_divisor\n",
    "\n",
    "            if ((conds[0] or conds[3]) and not (conds[1] or conds[2])):\n",
    "                reward[1] -= plaus_penalty[1]/plaus_reward_divisor\n",
    "            \n",
    "        if np.any(expln[2][1] == np.copy(self.actions['run antivirus'])):\n",
    "            if conds[2]:\n",
    "                reward[1] += plaus_max_reward[1]/plaus_reward_divisor\n",
    "            else:\n",
    "                reward[1] -= plaus_penalty[1]/plaus_reward_divisor\n",
    "\n",
    "            if ((conds[0] or conds[3]) and not (conds[1] or conds[2])):\n",
    "                reward[1] -= plaus_penalty[1]/plaus_reward_divisor\n",
    "\n",
    "        if np.any(expln[2][1] == np.copy(self.actions['cooldown computer'])):\n",
    "            if conds[1]:\n",
    "                reward[1] += plaus_max_reward[1]/plaus_reward_divisor\n",
    "            #else:\n",
    "            #    reward[1] -= plaus_penalty[1]/plaus_reward_divisor\n",
    "        \n",
    "        # Penalty on the plausibility reward to discourage choosing too many components/causes; same comments as for the previous penalty for\n",
    "        # too many components/fixes.\n",
    "        plaus_expl_vec = expln[-1]\n",
    "        plaus_ind = [1, 3]\n",
    "        plaus_pen_cond = np.array([(len(plaus_expl_vec[i]) - len(self.scenario_state[plaus_ind[i]])) for i in range(len(plaus_expl_vec))])\n",
    "        plaus_norm_pen_cond = np.array([plaus_pen_cond[i]/abs(plaus_pen_cond[i]) if plaus_pen_cond[i] != 0 else 0 for i in range(len(plaus_pen_cond))])\n",
    "        reward[1] -= np.sum(np.maximum(plaus_norm_pen_cond, np.zeros(len(plaus_norm_pen_cond))))*plaus_penalty[2]/len(plaus_norm_pen_cond)\n",
    "        \n",
    "        # Check whether the agent solved the problem\n",
    "        tot_vec = self.verify_scenario(expln)\n",
    "            \n",
    "        # Give a partial reward bonus to the agent if their chosen hidden layer clip matches the scenario and punish otherwise\n",
    "        if tot_vec[0]:\n",
    "            reward[0] += 5\n",
    "        else:\n",
    "            reward[0] -= 10\n",
    "        \n",
    "        # Give a partial reward bonus to the agent if their chosen action layer clip matches the scenario and punish otherwise\n",
    "        if tot_vec[1]:\n",
    "            reward[1] += 5\n",
    "        else:\n",
    "            reward[1] -= 10\n",
    "            \n",
    "        # Give a large reward bonus to the agent for having the scenario as their explanation, making the deliberation path clearer\n",
    "        if tot_vec[2]:\n",
    "            reward[0] += 15\n",
    "            reward[1] += 15\n",
    "            # Signal to end episode\n",
    "            done = True\n",
    "\n",
    "        # This represents the destruction of the computer, which results in a severe punishment for the agent and ends the episode\n",
    "        #if np.any(expln[2][1] == np.copy(self.actions['benchmark components'])) and np.any(expln[0][0] == np.copy(self.symptoms['PC overheating'])):\n",
    "        #    reward[0] -= 15\n",
    "        #    reward[1] -= 15\n",
    "        #    done = True\n",
    "\n",
    "        return self.state, reward, done"
   ]
  },
  {
   "cell_type": "markdown",
   "id": "58611ca1-554d-4693-8959-27431744e286",
   "metadata": {},
   "source": [
    "Now define the PS agent."
   ]
  },
  {
   "cell_type": "code",
   "execution_count": 45,
   "id": "dcb0e87d-d010-446a-ae67-8d96459b922c",
   "metadata": {},
   "outputs": [],
   "source": [
    "class PSAgent():\n",
    "    \n",
    "    def __init__(self, act_hyedge, percept_hyedge, clip_hyedge, gamma_damping, eta_glow_damping, seed,\n",
    "                 policy_type, beta_softmax, initial_prob_distr, fixed_policy=None):\n",
    "        \"\"\"\n",
    "        Base class of a Reinforcement Learning agent based on Multi-Excitation Projective Simulation,\n",
    "        with three-layered network. This class has been adapted from https://github.com/qic-ibk/projectivesimulation\n",
    "\n",
    "        Parameters\n",
    "        ----------\n",
    "        act_hyedge : list\n",
    "            All possible combinations of actions as target hyperedges (represented by lists).\n",
    "        percept_hyedge : list\n",
    "            All possible combinations of percepts as source hyperedges (represented by lists).\n",
    "        clip_hyedge : list\n",
    "            All possible combinations of intermediary clips as source/target hyperedges (represented by lists).\n",
    "        gamma_damping : float (between 0 and 1)\n",
    "            Forgetting/damping of h-values at the end of each interaction.\n",
    "        eta_glow_damping : float (between 0 and 1)\n",
    "            Controls the damping of glow; setting this to 1 effectively switches off glow.\n",
    "        seed : int\n",
    "            Seed for random number generator. \n",
    "        policy_type : string, 'standard' or 'softmax'\n",
    "            Toggles the rule used to compute probabilities from h-values. See probability_distr.\n",
    "        beta_softmax : float >=0\n",
    "            Probabilities are proportional to exp(beta*h_value). If policy_type != 'softmax', then this is irrelevant.\n",
    "        initial_prob_distr : list\n",
    "            In case the user wants to change the initialization policy for the agent. This list contains, per percept/clip, a list with the values of the initial h values for each clip/action.\n",
    "        fixed_policy : list, optional\n",
    "            In case the user wants to fix a policy for the agent. This list contains, per percept/clip, a list with the values of the probabilities for each clip/action. \n",
    "            Example: Percept 0: fixed_policy[0] = [p(a0), p(a1), p(a2)] = [0.2, 0.3, 0.5], where a0, a1 and a2 are the three possible actions. The default is None.\n",
    "        \"\"\"\n",
    "        \n",
    "        self.act_hyedge = act_hyedge\n",
    "        self.percept_hyedge = percept_hyedge\n",
    "        self.clip_hyedge = clip_hyedge\n",
    "        self.gamma_damping = gamma_damping\n",
    "        self.eta_glow_damping = eta_glow_damping\n",
    "        self.policy_type = policy_type\n",
    "        self.beta_softmax = beta_softmax\n",
    "        self.initial_prob_distr = initial_prob_distr\n",
    "        self.fixed_policy = fixed_policy\n",
    "\n",
    "        # Random number generator with seed given by seed argument\n",
    "        self.rng = np.random.default_rng(seed)\n",
    "        \n",
    "        self.num_act_hyedge = len(self.act_hyedge)\n",
    "        self.num_percept_hyedge = len(self.percept_hyedge)\n",
    "        self.num_clip_hyedge = len(self.clip_hyedge)\n",
    "        # Used for deliberation to switch ranges for the transition probability when moving between layers\n",
    "        self.clip_range = [self.num_clip_hyedge, self.num_act_hyedge]\n",
    "        \n",
    "        self.h_0 = self.initial_prob_distr\n",
    "        # Number of deliberation steps per episode\n",
    "        self.num_layers = len(self.h_0)\n",
    "        # Initialize h matrix with initial probability distribution\n",
    "        self.h_matrix = [np.copy(self.h_0[i]) for i in range(self.num_layers)]\n",
    "        # Glow matrix, for processing delayed rewards\n",
    "        self.g_matrix = [np.zeros(np.shape(self.h_matrix[i]), dtype=np.float64) for i in range(self.num_layers)]\n",
    "\n",
    "      \n",
    "    def deliberate(self, percept):\n",
    "        \"\"\"\n",
    "        Given a percept, this method chooses the next action and records that choice in the glow matrices.\n",
    "\n",
    "        Parameters\n",
    "        ----------\n",
    "        percept : list\n",
    "            List that describes the observation.\n",
    "\n",
    "        Returns\n",
    "        -------\n",
    "        hyclips : list\n",
    "            The indices of the chosen percepts/clips/actions during deliberation.\n",
    "        actions : list\n",
    "            The chosen action target hyperedge.\n",
    "        \"\"\"\n",
    "        # Get the index of the input percept from the list of all percept source hyperedges\n",
    "        hypercepts = self.percept_hyedge.index(percept)           \n",
    "        \n",
    "        hyclips = [hypercepts]\n",
    "        # Random walk through the ECM\n",
    "        if self.fixed_policy:\n",
    "            for i in range(self.num_layers):\n",
    "                prob_vec = self.fixed_policy[hyclips[i]]\n",
    "                hyclips.append(self.rng.choice(self.clip_range[i], p=prob_vec))\n",
    "        else:\n",
    "            for i in range(self.num_layers):\n",
    "                prob_vec = self.probability_distr(hyclips[i], i)\n",
    "                hyclips.append(self.rng.choice(self.clip_range[i], p=prob_vec))\n",
    "        # Find the corresponding action target hyperedge from the index that was chosen\n",
    "        actions = self.act_hyedge[hyclips[-1]]\n",
    "        # Update the glow matrices\n",
    "        self.g_matrix = [(1 - self.eta_glow_damping[i]) * self.g_matrix[i] for i in range(self.num_layers)]\n",
    "        for i in range(self.num_layers):\n",
    "            self.g_matrix[i][hyclips[i+1], hyclips[i]] += 1 # Record latest decision in the g matrices\n",
    "        \n",
    "        return actions, hyclips\n",
    "        \n",
    "        \n",
    "    def learn(self, reward):\n",
    "        \"\"\"\n",
    "        Given a reward, this method updates the h matrix.\n",
    "\n",
    "        Parameters\n",
    "        ----------\n",
    "        reward : float\n",
    "            Value of the obtained reward.\n",
    "        \"\"\"\n",
    "        # the action reward is applied to both h matrices but the plausibility and multi-percept rewards are only applied to the \n",
    "        # second and first h matrices, respectively.\n",
    "        reward_vec = [reward[0], reward[1]]\n",
    "        self.h_matrix =  [self.h_matrix[i] - self.gamma_damping[i] * (self.h_matrix[i] - self.h_0[i]) + reward_vec[i] * self.g_matrix[i] for i in range(self.num_layers)]\n",
    "\n",
    "    \n",
    "    def probability_distr(self, percept, i):\n",
    "        \"\"\"\n",
    "        Given a percept index, this method returns a probability distribution over clips/actions.\n",
    "\n",
    "        Parameters\n",
    "        ----------\n",
    "        percept : int\n",
    "            Index of the given percept.\n",
    "        i: int\n",
    "            Index of h matrix layer.\n",
    "\n",
    "        Returns\n",
    "        -------\n",
    "        probability_distr : np.array\n",
    "            Probability for each clip/action (normalized to unit sum), computed according to policy_type.\n",
    "\n",
    "        \"\"\"       \n",
    "        h_vector = np.copy(self.h_matrix[i][:, percept])\n",
    "        if self.policy_type[i] == 'standard':\n",
    "            probability_distr = h_vector / np.sum(h_vector)\n",
    "        elif self.policy_type[i] == 'softmax':\n",
    "            h_vector = self.beta_softmax[i]*h_vector\n",
    "            h_vector_mod = h_vector - np.max(h_vector)\n",
    "            probability_distr = np.exp(h_vector_mod) / np.sum(np.exp(h_vector_mod))\n",
    "        return probability_distr\n",
    "    \n",
    "    \n",
    "    def reset_g(self):\n",
    "        \"\"\"\n",
    "        Resets the g_matrix.\n",
    "        \"\"\"\n",
    "        self.g_matrix = [np.zeros(np.shape(self.g_matrix[i]), dtype=np.float64) for i in range(self.num_layers)]\n",
    "        "
   ]
  },
  {
   "cell_type": "markdown",
   "id": "9a8364e5-3c26-41d0-afb0-8d36f4029fdd",
   "metadata": {},
   "source": [
    "And then we can define the training loop:"
   ]
  },
  {
   "cell_type": "code",
   "execution_count": 49,
   "id": "ae86a15e-888e-4837-a14e-226fe6f4ce11",
   "metadata": {},
   "outputs": [],
   "source": [
    "def train(env, agent, num_episodes, max_time, max_iter, num, all_clips, func):\n",
    "    \n",
    "    # Initialization of learning curve quantities\n",
    "    hypo_rewards_all_episodes = []\n",
    "    plaus_rewards_all_episodes = []\n",
    "    stepnum_to_success = []\n",
    "\n",
    "    # tqdm shows the iteration progress as well as how long it is estimated to take and the iteration speed\n",
    "    for e in tqdm(range(num_episodes)):\n",
    "        \n",
    "        # Restart environment, agent's counter, glow matrix, learning curve quantities, and episode end signal\n",
    "        agent.reset_g()\n",
    "        state = env.reset()\n",
    "        done = False\n",
    "        rewards_current_episode = np.array([0, 0])\n",
    "        iter = 0\n",
    "    \n",
    "        while not done:\n",
    "            \n",
    "            acts, hyclips = agent.deliberate(state) # Decide\n",
    "            # The agent's explanation of the problem and solution to the customer. all_clips is simply a list of each\n",
    "            # category hyperedge set so that the index set returned from deliberate can be used to retrieve the actual elements\n",
    "            explanation = [all_clips[i][hyclips[i]] for i in range(len(hyclips))]\n",
    "            next_state, reward, done = env.step(explanation) # Act\n",
    "            new_reward = func(reward, iter, max_time) # Shape rewards\n",
    "            agent.learn(new_reward) # Learn\n",
    "            \n",
    "            rewards_current_episode = rewards_current_episode + new_reward\n",
    "            state = next_state\n",
    "            iter += 1\n",
    "\n",
    "            # A conditional to prevent the agent from taking too many steps in an episode\n",
    "            if iter > max_iter:\n",
    "                break\n",
    "\n",
    "        if (e+1) % 500 == 0:\n",
    "            # Save h matrices of the agent at this stage of the learning process\n",
    "            np.savez('./MEPS_Data/h_memory_unrestricted_agent{a1}_episode_{a2}_{a3}.npz'\n",
    "                     .format(a1=num, a2=e+1, a3=\"BrokenComputer\"), h_mat1=agent.h_matrix[0], h_mat2=agent.h_matrix[1])\n",
    "\n",
    "        hypo_rewards_all_episodes.append(rewards_current_episode[0])\n",
    "        plaus_rewards_all_episodes.append(rewards_current_episode[1])\n",
    "        stepnum_to_success.append(iter)\n",
    "\n",
    "    print(\"Scenario: {a0}\".format(a0=env.scenario_state[1:]))\n",
    "    print(\"Final Explanation: {a0}\".format(a0=explanation[1:]))\n",
    "\n",
    "    return hypo_rewards_all_episodes, plaus_rewards_all_episodes, stepnum_to_success\n"
   ]
  },
  {
   "cell_type": "markdown",
   "id": "f956d01b-98fb-4e24-9199-9efb3e039716",
   "metadata": {},
   "source": [
    "Next, we define the training loop parameters. The hyperparameters of the agent are listed in the third block and the training duration parameters in the first. Each category of symbol and their hyperedge set are initialized to zero and will be filled at the beginning of the training loop in the next cell. The last block contains the quantities that the learning curves will be constructed from. To get an impression for how sensitive the learning is with respect to the random number generation used during sampling, we average over several agents using the same parameters."
   ]
  },
  {
   "cell_type": "code",
   "execution_count": 50,
   "id": "69de7342-0e52-4af2-a211-d9902b43ef7c",
   "metadata": {},
   "outputs": [],
   "source": [
    "num_layers = 2\n",
    "episodes = 1000\n",
    "max_time = 500\n",
    "max_iter = 1000\n",
    "\n",
    "percept_hyedge = 0\n",
    "act_hyedge = 0\n",
    "clip_hyedge = 0\n",
    "all_clips = 0\n",
    "initial_distr = 0\n",
    "\n",
    "gamma = [0.0, 0.0]\n",
    "eta_glow = [1.0, 1.0]\n",
    "policy_type = ['softmax', 'softmax']\n",
    "beta = [0.5, 0.5]\n",
    "\n",
    "size = 100\n",
    "seeds = np.random.choice(np.arange(1, 10**3), size=size, replace=False)\n",
    "env_seed_list = seeds[:int(size/2)]\n",
    "agent_seed_list = seeds[int(size/2):]\n",
    "\n",
    "average_hypo_reward_list_all = []\n",
    "average_plaus_reward_list_all = []\n",
    "stepnum_list_all = []"
   ]
  },
  {
   "cell_type": "markdown",
   "id": "95cdef0a-3704-4e63-8a1c-e8ea82bf6efa",
   "metadata": {},
   "source": [
    "Now for the actual training and construction of the learning curve quantities. The environments and agents are generated once per seed value and then discarded after saving the learning curve quantities to external lists."
   ]
  },
  {
   "cell_type": "code",
   "execution_count": 51,
   "id": "6a4bffa3-b507-4f81-af26-cf81ae967373",
   "metadata": {},
   "outputs": [
    {
     "data": {
      "application/vnd.jupyter.widget-view+json": {
       "model_id": "",
       "version_major": 2,
       "version_minor": 0
      },
      "text/plain": [
       "  0%|          | 0/1000 [00:00<?, ?it/s]"
      ]
     },
     "metadata": {},
     "output_type": "display_data"
    },
    {
     "name": "stdout",
     "output_type": "stream",
     "text": [
      "Scenario: [[19], [21], [12, 13]]\n",
      "Final Explanation: [[[19], [21]], [[19], [12, 13]]]\n"
     ]
    },
    {
     "data": {
      "application/vnd.jupyter.widget-view+json": {
       "model_id": "",
       "version_major": 2,
       "version_minor": 0
      },
      "text/plain": [
       "  0%|          | 0/1000 [00:00<?, ?it/s]"
      ]
     },
     "metadata": {},
     "output_type": "display_data"
    },
    {
     "name": "stdout",
     "output_type": "stream",
     "text": [
      "Scenario: [[17, 18, 19], [21, 23], [11, 13]]\n",
      "Final Explanation: [[[17, 18, 19], [21, 23]], [[17, 18, 19], [11, 13]]]\n"
     ]
    },
    {
     "data": {
      "application/vnd.jupyter.widget-view+json": {
       "model_id": "",
       "version_major": 2,
       "version_minor": 0
      },
      "text/plain": [
       "  0%|          | 0/1000 [00:00<?, ?it/s]"
      ]
     },
     "metadata": {},
     "output_type": "display_data"
    },
    {
     "name": "stdout",
     "output_type": "stream",
     "text": [
      "Scenario: [[15, 17, 18], [21, 23], [11, 13]]\n",
      "Final Explanation: [[[15, 17, 18], [21, 23]], [[15, 17, 18], [11, 13]]]\n"
     ]
    },
    {
     "data": {
      "application/vnd.jupyter.widget-view+json": {
       "model_id": "",
       "version_major": 2,
       "version_minor": 0
      },
      "text/plain": [
       "  0%|          | 0/1000 [00:00<?, ?it/s]"
      ]
     },
     "metadata": {},
     "output_type": "display_data"
    },
    {
     "name": "stdout",
     "output_type": "stream",
     "text": [
      "Scenario: [[18], [21, 23], [11, 13]]\n",
      "Final Explanation: [[[18], [21, 23]], [[18], [11, 13]]]\n"
     ]
    },
    {
     "data": {
      "application/vnd.jupyter.widget-view+json": {
       "model_id": "",
       "version_major": 2,
       "version_minor": 0
      },
      "text/plain": [
       "  0%|          | 0/1000 [00:00<?, ?it/s]"
      ]
     },
     "metadata": {},
     "output_type": "display_data"
    },
    {
     "name": "stdout",
     "output_type": "stream",
     "text": [
      "Scenario: [[16, 17, 18], [20, 21], [12, 13]]\n",
      "Final Explanation: [[[16, 17, 18], [20, 21]], [[16, 17, 18], [12, 13]]]\n"
     ]
    },
    {
     "data": {
      "application/vnd.jupyter.widget-view+json": {
       "model_id": "",
       "version_major": 2,
       "version_minor": 0
      },
      "text/plain": [
       "  0%|          | 0/1000 [00:00<?, ?it/s]"
      ]
     },
     "metadata": {},
     "output_type": "display_data"
    },
    {
     "name": "stdout",
     "output_type": "stream",
     "text": [
      "Scenario: [[16, 18], [21, 23], [11, 12]]\n",
      "Final Explanation: [[[16, 18], [21, 23]], [[16, 18], [11, 12]]]\n"
     ]
    },
    {
     "data": {
      "application/vnd.jupyter.widget-view+json": {
       "model_id": "",
       "version_major": 2,
       "version_minor": 0
      },
      "text/plain": [
       "  0%|          | 0/1000 [00:00<?, ?it/s]"
      ]
     },
     "metadata": {},
     "output_type": "display_data"
    },
    {
     "name": "stdout",
     "output_type": "stream",
     "text": [
      "Scenario: [[17], [22, 23], [11]]\n",
      "Final Explanation: [[[17], [22, 23]], [[17], [11]]]\n"
     ]
    },
    {
     "data": {
      "application/vnd.jupyter.widget-view+json": {
       "model_id": "",
       "version_major": 2,
       "version_minor": 0
      },
      "text/plain": [
       "  0%|          | 0/1000 [00:00<?, ?it/s]"
      ]
     },
     "metadata": {},
     "output_type": "display_data"
    },
    {
     "name": "stdout",
     "output_type": "stream",
     "text": [
      "Scenario: [[15, 17, 18], [21], [12]]\n",
      "Final Explanation: [[[15, 17, 18], [21]], [[15, 17, 18], [12]]]\n"
     ]
    },
    {
     "data": {
      "application/vnd.jupyter.widget-view+json": {
       "model_id": "",
       "version_major": 2,
       "version_minor": 0
      },
      "text/plain": [
       "  0%|          | 0/1000 [00:00<?, ?it/s]"
      ]
     },
     "metadata": {},
     "output_type": "display_data"
    },
    {
     "name": "stdout",
     "output_type": "stream",
     "text": [
      "Scenario: [[15, 16, 17], [20, 22], [14]]\n",
      "Final Explanation: [[[15, 16, 17], [20, 22]], [[15, 16, 17], [14]]]\n"
     ]
    },
    {
     "data": {
      "application/vnd.jupyter.widget-view+json": {
       "model_id": "",
       "version_major": 2,
       "version_minor": 0
      },
      "text/plain": [
       "  0%|          | 0/1000 [00:00<?, ?it/s]"
      ]
     },
     "metadata": {},
     "output_type": "display_data"
    },
    {
     "name": "stdout",
     "output_type": "stream",
     "text": [
      "Scenario: [[16, 18, 19], [21, 22], [13]]\n",
      "Final Explanation: [[[16, 18, 19], [21, 22]], [[16, 18, 19], [13]]]\n"
     ]
    },
    {
     "data": {
      "application/vnd.jupyter.widget-view+json": {
       "model_id": "",
       "version_major": 2,
       "version_minor": 0
      },
      "text/plain": [
       "  0%|          | 0/1000 [00:00<?, ?it/s]"
      ]
     },
     "metadata": {},
     "output_type": "display_data"
    },
    {
     "name": "stdout",
     "output_type": "stream",
     "text": [
      "Scenario: [[15, 16, 18], [21], [12]]\n",
      "Final Explanation: [[[15, 16, 18], [21]], [[15, 16, 18], [12]]]\n"
     ]
    },
    {
     "data": {
      "application/vnd.jupyter.widget-view+json": {
       "model_id": "",
       "version_major": 2,
       "version_minor": 0
      },
      "text/plain": [
       "  0%|          | 0/1000 [00:00<?, ?it/s]"
      ]
     },
     "metadata": {},
     "output_type": "display_data"
    },
    {
     "name": "stdout",
     "output_type": "stream",
     "text": [
      "Scenario: [[16, 18, 19], [21, 22], [13]]\n",
      "Final Explanation: [[[16, 18, 19], [21, 22]], [[16, 18, 19], [13]]]\n"
     ]
    },
    {
     "data": {
      "application/vnd.jupyter.widget-view+json": {
       "model_id": "",
       "version_major": 2,
       "version_minor": 0
      },
      "text/plain": [
       "  0%|          | 0/1000 [00:00<?, ?it/s]"
      ]
     },
     "metadata": {},
     "output_type": "display_data"
    },
    {
     "name": "stdout",
     "output_type": "stream",
     "text": [
      "Scenario: [[15, 17, 18], [22, 23], [11, 14]]\n",
      "Final Explanation: [[[15, 17, 18], [22, 23]], [[15, 17, 18], [11, 14]]]\n"
     ]
    },
    {
     "data": {
      "application/vnd.jupyter.widget-view+json": {
       "model_id": "",
       "version_major": 2,
       "version_minor": 0
      },
      "text/plain": [
       "  0%|          | 0/1000 [00:00<?, ?it/s]"
      ]
     },
     "metadata": {},
     "output_type": "display_data"
    },
    {
     "name": "stdout",
     "output_type": "stream",
     "text": [
      "Scenario: [[15, 17], [20, 21], [12]]\n",
      "Final Explanation: [[[15, 17], [20, 21]], [[15, 17], [12]]]\n"
     ]
    },
    {
     "data": {
      "application/vnd.jupyter.widget-view+json": {
       "model_id": "",
       "version_major": 2,
       "version_minor": 0
      },
      "text/plain": [
       "  0%|          | 0/1000 [00:00<?, ?it/s]"
      ]
     },
     "metadata": {},
     "output_type": "display_data"
    },
    {
     "name": "stdout",
     "output_type": "stream",
     "text": [
      "Scenario: [[16, 17, 19], [21], [13]]\n",
      "Final Explanation: [[[16, 17, 19], [21]], [[16, 17, 19], [13]]]\n"
     ]
    },
    {
     "data": {
      "application/vnd.jupyter.widget-view+json": {
       "model_id": "",
       "version_major": 2,
       "version_minor": 0
      },
      "text/plain": [
       "  0%|          | 0/1000 [00:00<?, ?it/s]"
      ]
     },
     "metadata": {},
     "output_type": "display_data"
    },
    {
     "name": "stdout",
     "output_type": "stream",
     "text": [
      "Scenario: [[15, 16], [21, 23], [11, 13]]\n",
      "Final Explanation: [[[15, 16], [21, 23]], [[15, 16], [11, 13]]]\n"
     ]
    },
    {
     "data": {
      "application/vnd.jupyter.widget-view+json": {
       "model_id": "",
       "version_major": 2,
       "version_minor": 0
      },
      "text/plain": [
       "  0%|          | 0/1000 [00:00<?, ?it/s]"
      ]
     },
     "metadata": {},
     "output_type": "display_data"
    },
    {
     "name": "stdout",
     "output_type": "stream",
     "text": [
      "Scenario: [[15, 16, 18], [21, 23], [11]]\n",
      "Final Explanation: [[[15, 16, 18], [21, 23]], [[15, 16, 18], [11]]]\n"
     ]
    },
    {
     "data": {
      "application/vnd.jupyter.widget-view+json": {
       "model_id": "",
       "version_major": 2,
       "version_minor": 0
      },
      "text/plain": [
       "  0%|          | 0/1000 [00:00<?, ?it/s]"
      ]
     },
     "metadata": {},
     "output_type": "display_data"
    },
    {
     "name": "stdout",
     "output_type": "stream",
     "text": [
      "Scenario: [[15, 16, 18], [23], [11]]\n",
      "Final Explanation: [[[15, 16, 18], [23]], [[15, 16, 18], [11]]]\n"
     ]
    },
    {
     "data": {
      "application/vnd.jupyter.widget-view+json": {
       "model_id": "",
       "version_major": 2,
       "version_minor": 0
      },
      "text/plain": [
       "  0%|          | 0/1000 [00:00<?, ?it/s]"
      ]
     },
     "metadata": {},
     "output_type": "display_data"
    },
    {
     "name": "stdout",
     "output_type": "stream",
     "text": [
      "Scenario: [[15, 16, 18], [23], [11]]\n",
      "Final Explanation: [[[15, 16, 18], [23]], [[15, 16, 18], [11]]]\n"
     ]
    },
    {
     "data": {
      "application/vnd.jupyter.widget-view+json": {
       "model_id": "",
       "version_major": 2,
       "version_minor": 0
      },
      "text/plain": [
       "  0%|          | 0/1000 [00:00<?, ?it/s]"
      ]
     },
     "metadata": {},
     "output_type": "display_data"
    },
    {
     "name": "stdout",
     "output_type": "stream",
     "text": [
      "Scenario: [[15, 16, 18], [21], [12]]\n",
      "Final Explanation: [[[15, 16, 18], [21]], [[15, 16, 18], [12]]]\n"
     ]
    },
    {
     "data": {
      "application/vnd.jupyter.widget-view+json": {
       "model_id": "",
       "version_major": 2,
       "version_minor": 0
      },
      "text/plain": [
       "  0%|          | 0/1000 [00:00<?, ?it/s]"
      ]
     },
     "metadata": {},
     "output_type": "display_data"
    },
    {
     "name": "stdout",
     "output_type": "stream",
     "text": [
      "Scenario: [[17, 18], [20, 22], [11]]\n",
      "Final Explanation: [[[17, 18], [20, 22]], [[17, 18], [11]]]\n"
     ]
    },
    {
     "data": {
      "application/vnd.jupyter.widget-view+json": {
       "model_id": "",
       "version_major": 2,
       "version_minor": 0
      },
      "text/plain": [
       "  0%|          | 0/1000 [00:00<?, ?it/s]"
      ]
     },
     "metadata": {},
     "output_type": "display_data"
    },
    {
     "name": "stdout",
     "output_type": "stream",
     "text": [
      "Scenario: [[16, 18], [21, 23], [11, 12]]\n",
      "Final Explanation: [[[16, 18], [21, 23]], [[16, 18], [11, 12]]]\n"
     ]
    },
    {
     "data": {
      "application/vnd.jupyter.widget-view+json": {
       "model_id": "",
       "version_major": 2,
       "version_minor": 0
      },
      "text/plain": [
       "  0%|          | 0/1000 [00:00<?, ?it/s]"
      ]
     },
     "metadata": {},
     "output_type": "display_data"
    },
    {
     "name": "stdout",
     "output_type": "stream",
     "text": [
      "Scenario: [[15, 18], [20, 21], [12, 13]]\n",
      "Final Explanation: [[[15, 18], [20, 21]], [[15, 18], [12, 13]]]\n"
     ]
    },
    {
     "data": {
      "application/vnd.jupyter.widget-view+json": {
       "model_id": "",
       "version_major": 2,
       "version_minor": 0
      },
      "text/plain": [
       "  0%|          | 0/1000 [00:00<?, ?it/s]"
      ]
     },
     "metadata": {},
     "output_type": "display_data"
    },
    {
     "name": "stdout",
     "output_type": "stream",
     "text": [
      "Scenario: [[16, 17, 18], [21, 23], [11, 12]]\n",
      "Final Explanation: [[[16, 17, 18], [21, 23]], [[16, 17, 18], [11, 12]]]\n"
     ]
    },
    {
     "data": {
      "application/vnd.jupyter.widget-view+json": {
       "model_id": "",
       "version_major": 2,
       "version_minor": 0
      },
      "text/plain": [
       "  0%|          | 0/1000 [00:00<?, ?it/s]"
      ]
     },
     "metadata": {},
     "output_type": "display_data"
    },
    {
     "name": "stdout",
     "output_type": "stream",
     "text": [
      "Scenario: [[16, 17, 18], [20, 22], [14]]\n",
      "Final Explanation: [[[16, 17, 18], [20, 22]], [[16, 17, 18], [14]]]\n"
     ]
    },
    {
     "data": {
      "application/vnd.jupyter.widget-view+json": {
       "model_id": "",
       "version_major": 2,
       "version_minor": 0
      },
      "text/plain": [
       "  0%|          | 0/1000 [00:00<?, ?it/s]"
      ]
     },
     "metadata": {},
     "output_type": "display_data"
    },
    {
     "name": "stdout",
     "output_type": "stream",
     "text": [
      "Scenario: [[17], [21, 23], [11, 12]]\n",
      "Final Explanation: [[[17], [21, 23]], [[17], [11, 12]]]\n"
     ]
    },
    {
     "data": {
      "application/vnd.jupyter.widget-view+json": {
       "model_id": "",
       "version_major": 2,
       "version_minor": 0
      },
      "text/plain": [
       "  0%|          | 0/1000 [00:00<?, ?it/s]"
      ]
     },
     "metadata": {},
     "output_type": "display_data"
    },
    {
     "name": "stdout",
     "output_type": "stream",
     "text": [
      "Scenario: [[15, 18, 19], [22], [14]]\n",
      "Final Explanation: [[[15, 18, 19], [22]], [[15, 18, 19], [14]]]\n"
     ]
    },
    {
     "data": {
      "application/vnd.jupyter.widget-view+json": {
       "model_id": "",
       "version_major": 2,
       "version_minor": 0
      },
      "text/plain": [
       "  0%|          | 0/1000 [00:00<?, ?it/s]"
      ]
     },
     "metadata": {},
     "output_type": "display_data"
    },
    {
     "name": "stdout",
     "output_type": "stream",
     "text": [
      "Scenario: [[15, 17, 18], [21], [12]]\n",
      "Final Explanation: [[[15, 17, 18], [21]], [[15, 17, 18], [12]]]\n"
     ]
    },
    {
     "data": {
      "application/vnd.jupyter.widget-view+json": {
       "model_id": "",
       "version_major": 2,
       "version_minor": 0
      },
      "text/plain": [
       "  0%|          | 0/1000 [00:00<?, ?it/s]"
      ]
     },
     "metadata": {},
     "output_type": "display_data"
    },
    {
     "name": "stdout",
     "output_type": "stream",
     "text": [
      "Scenario: [[15, 16, 18], [23], [11]]\n",
      "Final Explanation: [[[15, 16, 18], [23]], [[15, 16, 18], [11]]]\n"
     ]
    },
    {
     "data": {
      "application/vnd.jupyter.widget-view+json": {
       "model_id": "",
       "version_major": 2,
       "version_minor": 0
      },
      "text/plain": [
       "  0%|          | 0/1000 [00:00<?, ?it/s]"
      ]
     },
     "metadata": {},
     "output_type": "display_data"
    },
    {
     "name": "stdout",
     "output_type": "stream",
     "text": [
      "Scenario: [[15, 17], [21, 22], [13]]\n",
      "Final Explanation: [[[15, 17], [21, 22]], [[15, 17], [13]]]\n"
     ]
    },
    {
     "data": {
      "application/vnd.jupyter.widget-view+json": {
       "model_id": "",
       "version_major": 2,
       "version_minor": 0
      },
      "text/plain": [
       "  0%|          | 0/1000 [00:00<?, ?it/s]"
      ]
     },
     "metadata": {},
     "output_type": "display_data"
    },
    {
     "name": "stdout",
     "output_type": "stream",
     "text": [
      "Scenario: [[19], [20, 21], [11]]\n",
      "Final Explanation: [[[19], [20, 21]], [[19], [11]]]\n"
     ]
    },
    {
     "data": {
      "application/vnd.jupyter.widget-view+json": {
       "model_id": "",
       "version_major": 2,
       "version_minor": 0
      },
      "text/plain": [
       "  0%|          | 0/1000 [00:00<?, ?it/s]"
      ]
     },
     "metadata": {},
     "output_type": "display_data"
    },
    {
     "name": "stdout",
     "output_type": "stream",
     "text": [
      "Scenario: [[19], [21], [12, 13]]\n",
      "Final Explanation: [[[19], [21]], [[19], [12, 13]]]\n"
     ]
    },
    {
     "data": {
      "application/vnd.jupyter.widget-view+json": {
       "model_id": "",
       "version_major": 2,
       "version_minor": 0
      },
      "text/plain": [
       "  0%|          | 0/1000 [00:00<?, ?it/s]"
      ]
     },
     "metadata": {},
     "output_type": "display_data"
    },
    {
     "name": "stdout",
     "output_type": "stream",
     "text": [
      "Scenario: [[16, 17, 18], [21, 23], [11, 12]]\n",
      "Final Explanation: [[[16, 17, 18], [21, 23]], [[16, 17, 18], [11, 12]]]\n"
     ]
    },
    {
     "data": {
      "application/vnd.jupyter.widget-view+json": {
       "model_id": "",
       "version_major": 2,
       "version_minor": 0
      },
      "text/plain": [
       "  0%|          | 0/1000 [00:00<?, ?it/s]"
      ]
     },
     "metadata": {},
     "output_type": "display_data"
    },
    {
     "name": "stdout",
     "output_type": "stream",
     "text": [
      "Scenario: [[19], [21, 23], [12]]\n",
      "Final Explanation: [[[19], [21, 23]], [[19], [12]]]\n"
     ]
    },
    {
     "data": {
      "application/vnd.jupyter.widget-view+json": {
       "model_id": "",
       "version_major": 2,
       "version_minor": 0
      },
      "text/plain": [
       "  0%|          | 0/1000 [00:00<?, ?it/s]"
      ]
     },
     "metadata": {},
     "output_type": "display_data"
    },
    {
     "name": "stdout",
     "output_type": "stream",
     "text": [
      "Scenario: [[18], [21, 23], [11, 13]]\n",
      "Final Explanation: [[[18], [21, 23]], [[18], [11, 13]]]\n"
     ]
    },
    {
     "data": {
      "application/vnd.jupyter.widget-view+json": {
       "model_id": "",
       "version_major": 2,
       "version_minor": 0
      },
      "text/plain": [
       "  0%|          | 0/1000 [00:00<?, ?it/s]"
      ]
     },
     "metadata": {},
     "output_type": "display_data"
    },
    {
     "name": "stdout",
     "output_type": "stream",
     "text": [
      "Scenario: [[17, 18, 19], [21, 23], [11, 13]]\n",
      "Final Explanation: [[[17, 18, 19], [21, 23]], [[17, 18, 19], [11, 13]]]\n"
     ]
    },
    {
     "data": {
      "application/vnd.jupyter.widget-view+json": {
       "model_id": "",
       "version_major": 2,
       "version_minor": 0
      },
      "text/plain": [
       "  0%|          | 0/1000 [00:00<?, ?it/s]"
      ]
     },
     "metadata": {},
     "output_type": "display_data"
    },
    {
     "name": "stdout",
     "output_type": "stream",
     "text": [
      "Scenario: [[15], [21], [13]]\n",
      "Final Explanation: [[[15], [21]], [[15], [13]]]\n"
     ]
    },
    {
     "data": {
      "application/vnd.jupyter.widget-view+json": {
       "model_id": "",
       "version_major": 2,
       "version_minor": 0
      },
      "text/plain": [
       "  0%|          | 0/1000 [00:00<?, ?it/s]"
      ]
     },
     "metadata": {},
     "output_type": "display_data"
    },
    {
     "name": "stdout",
     "output_type": "stream",
     "text": [
      "Scenario: [[15, 18, 19], [20, 21], [11, 12]]\n",
      "Final Explanation: [[[15, 18, 19], [20, 21]], [[15, 18, 19], [11, 12]]]\n"
     ]
    },
    {
     "data": {
      "application/vnd.jupyter.widget-view+json": {
       "model_id": "",
       "version_major": 2,
       "version_minor": 0
      },
      "text/plain": [
       "  0%|          | 0/1000 [00:00<?, ?it/s]"
      ]
     },
     "metadata": {},
     "output_type": "display_data"
    },
    {
     "name": "stdout",
     "output_type": "stream",
     "text": [
      "Scenario: [[15, 18, 19], [22], [14]]\n",
      "Final Explanation: [[[15, 18, 19], [22]], [[15, 18, 19], [14]]]\n"
     ]
    },
    {
     "data": {
      "application/vnd.jupyter.widget-view+json": {
       "model_id": "",
       "version_major": 2,
       "version_minor": 0
      },
      "text/plain": [
       "  0%|          | 0/1000 [00:00<?, ?it/s]"
      ]
     },
     "metadata": {},
     "output_type": "display_data"
    },
    {
     "name": "stdout",
     "output_type": "stream",
     "text": [
      "Scenario: [[16, 18, 19], [21, 22], [13]]\n",
      "Final Explanation: [[[16, 18, 19], [21, 22]], [[16, 18, 19], [13]]]\n"
     ]
    },
    {
     "data": {
      "application/vnd.jupyter.widget-view+json": {
       "model_id": "",
       "version_major": 2,
       "version_minor": 0
      },
      "text/plain": [
       "  0%|          | 0/1000 [00:00<?, ?it/s]"
      ]
     },
     "metadata": {},
     "output_type": "display_data"
    },
    {
     "name": "stdout",
     "output_type": "stream",
     "text": [
      "Scenario: [[17, 18, 19], [21, 22], [13]]\n",
      "Final Explanation: [[[17, 18, 19], [21, 22]], [[17, 18, 19], [13]]]\n"
     ]
    },
    {
     "data": {
      "application/vnd.jupyter.widget-view+json": {
       "model_id": "",
       "version_major": 2,
       "version_minor": 0
      },
      "text/plain": [
       "  0%|          | 0/1000 [00:00<?, ?it/s]"
      ]
     },
     "metadata": {},
     "output_type": "display_data"
    },
    {
     "name": "stdout",
     "output_type": "stream",
     "text": [
      "Scenario: [[18], [23], [11]]\n",
      "Final Explanation: [[[18], [23]], [[18], [11]]]\n"
     ]
    },
    {
     "data": {
      "application/vnd.jupyter.widget-view+json": {
       "model_id": "",
       "version_major": 2,
       "version_minor": 0
      },
      "text/plain": [
       "  0%|          | 0/1000 [00:00<?, ?it/s]"
      ]
     },
     "metadata": {},
     "output_type": "display_data"
    },
    {
     "name": "stdout",
     "output_type": "stream",
     "text": [
      "Scenario: [[17, 18, 19], [21, 23], [11, 13]]\n",
      "Final Explanation: [[[17, 18, 19], [21, 23]], [[17, 18, 19], [11, 13]]]\n"
     ]
    },
    {
     "data": {
      "application/vnd.jupyter.widget-view+json": {
       "model_id": "",
       "version_major": 2,
       "version_minor": 0
      },
      "text/plain": [
       "  0%|          | 0/1000 [00:00<?, ?it/s]"
      ]
     },
     "metadata": {},
     "output_type": "display_data"
    },
    {
     "name": "stdout",
     "output_type": "stream",
     "text": [
      "Scenario: [[17], [22, 23], [11]]\n",
      "Final Explanation: [[[17], [22, 23]], [[17], [11]]]\n"
     ]
    },
    {
     "data": {
      "application/vnd.jupyter.widget-view+json": {
       "model_id": "",
       "version_major": 2,
       "version_minor": 0
      },
      "text/plain": [
       "  0%|          | 0/1000 [00:00<?, ?it/s]"
      ]
     },
     "metadata": {},
     "output_type": "display_data"
    },
    {
     "name": "stdout",
     "output_type": "stream",
     "text": [
      "Scenario: [[17, 19], [21, 22], [12, 13]]\n",
      "Final Explanation: [[[17, 19], [21, 22]], [[17, 19], [12, 13]]]\n"
     ]
    },
    {
     "data": {
      "application/vnd.jupyter.widget-view+json": {
       "model_id": "",
       "version_major": 2,
       "version_minor": 0
      },
      "text/plain": [
       "  0%|          | 0/1000 [00:00<?, ?it/s]"
      ]
     },
     "metadata": {},
     "output_type": "display_data"
    },
    {
     "name": "stdout",
     "output_type": "stream",
     "text": [
      "Scenario: [[17, 18, 19], [22], [14]]\n",
      "Final Explanation: [[[17, 18, 19], [22]], [[17, 18, 19], [14]]]\n"
     ]
    },
    {
     "data": {
      "application/vnd.jupyter.widget-view+json": {
       "model_id": "",
       "version_major": 2,
       "version_minor": 0
      },
      "text/plain": [
       "  0%|          | 0/1000 [00:00<?, ?it/s]"
      ]
     },
     "metadata": {},
     "output_type": "display_data"
    },
    {
     "name": "stdout",
     "output_type": "stream",
     "text": [
      "Scenario: [[19], [21], [12, 13]]\n",
      "Final Explanation: [[[19], [21]], [[19], [12, 13]]]\n"
     ]
    },
    {
     "data": {
      "application/vnd.jupyter.widget-view+json": {
       "model_id": "",
       "version_major": 2,
       "version_minor": 0
      },
      "text/plain": [
       "  0%|          | 0/1000 [00:00<?, ?it/s]"
      ]
     },
     "metadata": {},
     "output_type": "display_data"
    },
    {
     "name": "stdout",
     "output_type": "stream",
     "text": [
      "Scenario: [[18], [21, 23], [11, 13]]\n",
      "Final Explanation: [[[18], [21, 23]], [[18], [11, 13]]]\n"
     ]
    },
    {
     "data": {
      "application/vnd.jupyter.widget-view+json": {
       "model_id": "",
       "version_major": 2,
       "version_minor": 0
      },
      "text/plain": [
       "  0%|          | 0/1000 [00:00<?, ?it/s]"
      ]
     },
     "metadata": {},
     "output_type": "display_data"
    },
    {
     "name": "stdout",
     "output_type": "stream",
     "text": [
      "Scenario: [[15, 17, 18], [21, 23], [11, 13]]\n",
      "Final Explanation: [[[15, 17, 18], [21, 23]], [[15, 17, 18], [11, 13]]]\n"
     ]
    },
    {
     "data": {
      "application/vnd.jupyter.widget-view+json": {
       "model_id": "",
       "version_major": 2,
       "version_minor": 0
      },
      "text/plain": [
       "  0%|          | 0/1000 [00:00<?, ?it/s]"
      ]
     },
     "metadata": {},
     "output_type": "display_data"
    },
    {
     "name": "stdout",
     "output_type": "stream",
     "text": [
      "Scenario: [[15, 18, 19], [22], [14]]\n",
      "Final Explanation: [[[15, 18, 19], [22]], [[15, 18, 19], [14]]]\n"
     ]
    }
   ],
   "source": [
    "try:\n",
    "    os.mkdir('./MEPS_Data')\n",
    "except OSError as error:\n",
    "    print(\"Directory ./MEPS_data exists, overwriting content\")\n",
    "\n",
    "for ind in range(len(agent_seed_list)):\n",
    "    env = BrokenComputerEnv(env_seed_list[ind])\n",
    "    if ind == 0:\n",
    "        actions = list(env.actions.values())\n",
    "        components = list(env.components.values())\n",
    "        causes = list(env.causes.values())\n",
    "        percepts = list(env.symptoms.values())\n",
    "        full_init_actions = [components, actions]\n",
    "        full_init_clips = [components, causes]\n",
    "        full_init_percepts = [percepts]\n",
    "        percept_hyedge = [list(x) for x in product(*[list(chain.from_iterable([[list(x) for x in combinations(full_init_percepts[j], i+1)] for i in range(len(full_init_percepts[j]))])) for j in range(len(full_init_percepts))])]\n",
    "        act_hyedge = [list(x) for x in product(*[list(chain.from_iterable([[list(x) for x in combinations(full_init_actions[j], i+1)] for i in range(len(full_init_actions[j]))])) for j in range(len(full_init_actions))])]\n",
    "        clip_hyedge = [list(x) for x in product(*[list(chain.from_iterable([[list(x) for x in combinations(full_init_clips[j], i+1)] for i in range(len(full_init_clips[j]))])) for j in range(len(full_init_clips))])]\n",
    "        all_clips = [percept_hyedge, clip_hyedge, act_hyedge]\n",
    "        # Initial h matrix values need to be generated here since their dimensions depend on the size of the hyperedge sets \n",
    "        # and the categories are retrieved from the environment\n",
    "        initial_distr = [np.ones((len(clip_hyedge), len(percept_hyedge)), dtype=np.float64), np.ones((len(act_hyedge), len(clip_hyedge)), dtype=np.float64)]\n",
    "        \n",
    "    agent = PSAgent(act_hyedge=act_hyedge, percept_hyedge=percept_hyedge, clip_hyedge=clip_hyedge, seed=agent_seed_list[ind],\n",
    "                    policy_type=policy_type, beta_softmax=beta, gamma_damping=gamma, eta_glow_damping=eta_glow, initial_prob_distr=initial_distr)\n",
    "    average_hypo_reward_list, average_plaus_reward_list, stepnum_list = train(env, agent, episodes, max_time, max_iter, ind+1, all_clips, reward_func)\n",
    "    average_hypo_reward_list_all.append(average_hypo_reward_list)\n",
    "    average_plaus_reward_list_all.append(average_plaus_reward_list)\n",
    "    stepnum_list_all.append(stepnum_list)\n",
    "\n",
    "stepnum_list_all = np.array(stepnum_list_all)\n",
    "average_hypo_reward_list_all = np.array(average_hypo_reward_list_all)/stepnum_list_all\n",
    "average_plaus_reward_list_all = np.array(average_plaus_reward_list_all)/stepnum_list_all\n",
    "# Used for representation of fluctuations in learning curves\n",
    "hypo_means = np.mean(average_hypo_reward_list_all, axis=0)\n",
    "hypo_stds = np.std(average_hypo_reward_list_all, axis=0)\n",
    "plaus_means = np.mean(average_plaus_reward_list_all, axis=0)\n",
    "plaus_stds = np.std(average_plaus_reward_list_all, axis=0)\n",
    "stepnum_means = np.mean(stepnum_list_all, axis=0)\n",
    "stepnum_stds = np.std(stepnum_list_all, axis=0)\n",
    "\n",
    "np.savez('./MEPS_Data/Broken_Comp_unrestricted_agent_stepnum.npz', step_all=stepnum_list_all, stepnum_means=stepnum_means, stepnum_stds=stepnum_stds)\n",
    "np.savez('./MEPS_Data/Broken_Comp_unrestricted_agent_hypothesis.npz', hypo_all=average_hypo_reward_list_all, hypo_means=hypo_means, hypo_stds=hypo_stds)\n",
    "np.savez('./MEPS_Data/Broken_Comp_unrestricted_agent_plausibility.npz', plaus_all=average_plaus_reward_list_all, plaus_means=plaus_means, plaus_stds=plaus_stds)\n",
    "np.savez('./MEPS_Data/Broken_Comp_unrestricted_agent_seeds.npz', agent_seed=agent_seed_list, env_seed=env_seed_list)"
   ]
  },
  {
   "cell_type": "code",
   "execution_count": 52,
   "id": "e14b314c-ba32-45e6-9448-02afd9504800",
   "metadata": {},
   "outputs": [
    {
     "name": "stdout",
     "output_type": "stream",
     "text": [
      "Number of trainable parameters for unrestricted PS: 691920\n"
     ]
    }
   ],
   "source": [
    "print(\"Number of trainable parameters for unrestricted PS: {a1}\".format(a1=sum([np.size(agent.h_matrix[i]) for i in range(agent.num_layers)])))"
   ]
  },
  {
   "cell_type": "markdown",
   "id": "a2213722-64ab-4410-aca5-cd9c3315f9e4",
   "metadata": {},
   "source": [
    "Finally we plot the learning curves: average action reward, average plausibility reward, and step number per episode."
   ]
  },
  {
   "cell_type": "code",
   "execution_count": 62,
   "id": "8b68a5aa-5c83-49e1-8c66-6b32e84ea572",
   "metadata": {},
   "outputs": [
    {
     "data": {
      "image/png": "[encoded data removed]",
      "text/plain": [
       "<Figure size 700x1400 with 3 Axes>"
      ]
     },
     "metadata": {},
     "output_type": "display_data"
    }
   ],
   "source": [
    "fig, ax = plt.subplots(3, 1, figsize=(7.0, 14.0))\n",
    "ax[0].set_ylabel('Average Hypothesis Reward')\n",
    "ax[1].set_ylabel('Average Plausibility Reward')\n",
    "ax[2].set_xlabel('Episode Number')\n",
    "ax[2].set_ylabel('Total Step Number')\n",
    "colors = sns.color_palette(\"husl\", 3)\n",
    "plot_cut = 800\n",
    "xvals = np.arange(len(hypo_means))[:plot_cut]\n",
    "hypo_means_cut = hypo_means[:plot_cut]\n",
    "hypo_stds_cut = hypo_stds[:plot_cut]\n",
    "plaus_means_cut = plaus_means[:plot_cut]\n",
    "plaus_stds_cut = plaus_stds[:plot_cut]\n",
    "stepnum_means_cut = stepnum_means[:plot_cut]\n",
    "stepnum_stds_cut = stepnum_stds[:plot_cut]\n",
    "with sns.axes_style(\"darkgrid\"):\n",
    "    ax[0].plot(hypo_means_cut, c = colors[0])\n",
    "    ax[0].fill_between(xvals, y1=hypo_means_cut-hypo_stds_cut, y2=hypo_means_cut+hypo_stds_cut, alpha=0.3, facecolor=colors[0])\n",
    "    ax[1].plot(plaus_means_cut, c = colors[1]) \n",
    "    ax[1].fill_between(xvals, y1=plaus_means_cut-plaus_stds_cut, y2=plaus_means_cut+plaus_stds_cut, alpha=0.3, facecolor=colors[1])\n",
    "    ax[2].plot(stepnum_means_cut, c = colors[2]) \n",
    "    ax[2].fill_between(xvals, y1=stepnum_means_cut-stepnum_stds_cut, y2=stepnum_means_cut+stepnum_stds_cut, alpha=0.3, facecolor=colors[2])\n",
    "\n",
    "plt.savefig(\"./BrokenComp_Training.png\")\n",
    "plt.show()"
   ]
  },
  {
   "cell_type": "markdown",
   "id": "29c46c99-ac72-4349-9ab0-5a097c125a78",
   "metadata": {},
   "source": [
    "Each curve is an average over 50 agents each having different random number generator seeds. The agent does achieve the optimal reward on average. The fluctuations are quite large near the beginning because some agents find the right solution early on by chance, while others may take more time to find it."
   ]
  }
 ],
 "metadata": {
  "kernelspec": {
   "display_name": "Python 3 (ipykernel)",
   "language": "python",
   "name": "python3"
  },
  "language_info": {
   "codemirror_mode": {
    "name": "ipython",
    "version": 3
   },
   "file_extension": ".py",
   "mimetype": "text/x-python",
   "name": "python",
   "nbconvert_exporter": "python",
   "pygments_lexer": "ipython3",
   "version": "3.11.7"
  }
 },
 "nbformat": 4,
 "nbformat_minor": 5
}
