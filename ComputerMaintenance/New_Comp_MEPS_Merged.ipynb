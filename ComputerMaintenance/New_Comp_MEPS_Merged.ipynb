{
 "cells": [
  {
   "cell_type": "markdown",
   "id": "85f819c3-921d-4d0b-9c92-4a2b3d1533ac",
   "metadata": {},
   "source": [
    "#  MEPS With an Inductive Bias in the Computer Maintenance Environment"
   ]
  },
  {
   "cell_type": "markdown",
   "id": "db80b5db-a65d-48d1-88ac-7846831dc95c",
   "metadata": {},
   "source": [
    "**Philip A. LeMaitre, Marius Krumm**"
   ]
  },
  {
   "cell_type": "markdown",
   "id": "209bb9e7-d273-4872-a445-b6b6e7acdb03",
   "metadata": {},
   "source": [
    "In this notebook, we will train Multi-Excitation Projective Simulation (MEPS) agents with an inductive bias on another a more intricate synthetic environment with more complexity than both of the **Invasion Game With Distraction** and the **Deceptive Invasion Game**. We call this new environment **Computer Maintenance**. \n",
    "\n",
    "In this reinforcement learning environment, the observations that the agent receives are comprised of varying numbers of possible symptoms that are indicative of an underlying problem that is specified by a scenario defined in the initialization of the environment. The agent we consider here is a three-layer agent whose hidden intermediate layer represents what they think the cause of the underlying problem is and in which components it is. The actions that can be taken by the agent, for a given choice of cause (determined internally), are a choice of which computer components they think are part of the problem and a choice of possible fixes they can enact to deal with the problem. Each category is represented by a dictionary that indexes these statements into an integer. What the agent sends to the environment to get a reward is their internal deliberation chain, which is like an explanation to a customer of what the problem is and how the agent fixed it. The agent's explanation is then compared to the initially generated scenario and also checked against plausible cause-action pairs to determine a reward.\n",
    "\n",
    "The point of this more nuanced environment, is to test the MEPS agent for complex scenarios that require the agent to combine multiple concepts together in order to solve a problem that couldnt otherwise be solved by only considering one excitation at a time. This environment also represents an interesting and practical real-world task."
   ]
  },
  {
   "cell_type": "code",
   "execution_count": 38,
   "id": "637e6620-c7b6-4df7-9d5d-e3da856a9af5",
   "metadata": {},
   "outputs": [
    {
     "name": "stdout",
     "output_type": "stream",
     "text": [
      "Python version: 3.11.7 (v3.11.7:fa7a6f2303, Dec  4 2023, 15:22:56) [Clang 13.0.0 (clang-1300.0.29.30)]\n",
      "Pytorch version: 2.1.2\n",
      "Numpy version: 1.26.3\n",
      "Matplotlib version: 3.8.2\n",
      "Seaborn version: 0.13.1\n"
     ]
    }
   ],
   "source": [
    "import numpy as np\n",
    "import matplotlib\n",
    "import matplotlib.pyplot as plt\n",
    "from tqdm.notebook import tqdm\n",
    "from itertools import chain, product, combinations\n",
    "import torch\n",
    "import seaborn as sns\n",
    "import os\n",
    "import sys\n",
    "\n",
    "np.set_printoptions(edgeitems=300, threshold=20000, linewidth=150)\n",
    "\n",
    "print(\"Python version:\", sys.version)\n",
    "print(\"Pytorch version:\", torch.__version__)\n",
    "print(\"Numpy version:\", np.__version__)\n",
    "print(\"Matplotlib version:\", matplotlib.__version__)\n",
    "print(\"Seaborn version:\", sns.__version__)"
   ]
  },
  {
   "cell_type": "code",
   "execution_count": 41,
   "id": "3dc64151-0f09-4724-981f-97e698705f22",
   "metadata": {},
   "outputs": [],
   "source": [
    "def reward_func(reward, it, max_t):\n",
    "    \"\"\"\n",
    "    Modifies the reward given by the environment.\n",
    "\n",
    "    Parameters\n",
    "    ----------\n",
    "    reward : float\n",
    "        The reward given by the environment.\n",
    "    it : int\n",
    "        The iteration number of the training loop.\n",
    "    max_t : int\n",
    "        The maximum number of iterations allowed before a penalty is applied.\n",
    "\n",
    "    Returns\n",
    "    -------\n",
    "    new_reward : float\n",
    "        The modified reward.\n",
    "    \"\"\"\n",
    "    new_reward = np.array(reward)\n",
    "\n",
    "    if it >= max_t:\n",
    "        new_reward -= 0.25*np.log(it-max_t+1)\n",
    "    \n",
    "    return np.clip(new_reward, -16, None)\n",
    "    \n",
    "\n",
    "class BrokenComputerEnv():\n",
    "    \"\"\"\n",
    "    The Computer Maintenance environment.\n",
    "    \"\"\"\n",
    "    def __init__(self, seed):\n",
    "\n",
    "        # Possible symptoms of the underlying issues\n",
    "        self.symptoms = {\n",
    "                         'PC overheating': 1, \n",
    "                         'files disappearing': 2, \n",
    "                         'visible markings on components': 3,\n",
    "                         'unexpected shutdowns': 4,\n",
    "                         'slow performance': 5,\n",
    "                         'old hardware': 6,\n",
    "                         'strange noises': 7,\n",
    "                         'software glitches': 8,\n",
    "                         #'blue screen': 9,\n",
    "                         #'no internet': 10\n",
    "                        }\n",
    "        \n",
    "        # Possible actions the agent can take\n",
    "        act_start = list(self.symptoms.values())[-1]\n",
    "        self.actions = {\n",
    "                        'replace components': act_start+1, \n",
    "                        'install missing software': act_start+2, \n",
    "                        'cooldown computer': act_start+3,\n",
    "                        'run antivirus': act_start+4,\n",
    "                        #'check network settings': act_start+5,\n",
    "                        #'run diagnostics': act_start+6,\n",
    "                        #'reboot': act_start+7,\n",
    "                        #'connect components': act_start+8,\n",
    "                        #'benchmark components': act_start+9\n",
    "                       }\n",
    "\n",
    "        # Possible components the agent can select\n",
    "        comp_start = list(self.actions.values())[-1]\n",
    "        self.components = {\n",
    "                           'CPU': comp_start+1,\n",
    "                           'SSD': comp_start+2, \n",
    "                           'MoBo': comp_start+3,\n",
    "                           'PSU': comp_start+4,\n",
    "                           'OS': comp_start+5,\n",
    "                           #'GPU': comp_start+6,\n",
    "                           #'Fans': comp_start+7,\n",
    "                           #'CPU cooler': comp_start+8,\n",
    "                           #'RAM': comp_start+9,\n",
    "                           #'BIOS': comp_start+10\n",
    "                          }\n",
    "\n",
    "        # Possible causes the agent can select\n",
    "        cause_start = list(self.components.values())[-1]\n",
    "        self.causes = {\n",
    "                       'physical damage': cause_start+1,\n",
    "                       'software damage': cause_start+2,\n",
    "                       'malware': cause_start+3,\n",
    "                       'faulty': cause_start+4,\n",
    "                       'not connected': cause_start+5,\n",
    "                       #'not compatible': cause_start+6,\n",
    "                       #'not initialized': cause_start+7,\n",
    "                       #'overworked': cause_start+8,\n",
    "                       #'overheat': cause_start+9,\n",
    "                       #'corrupt files': cause_start+10,\n",
    "                       #'system error': cause_start+11\n",
    "                      }\n",
    "        \n",
    "        # Possible scenarios\n",
    "        self.scenarios = [\n",
    "                          [[self.symptoms['files disappearing'], self.symptoms['visible markings on components']],\n",
    "                           [self.components['SSD'], self.components['MoBo']],\n",
    "                           [self.causes['physical damage'], self.causes['software damage']],\n",
    "                           [self.actions['replace components']]],\n",
    "                          [[self.symptoms['PC overheating'], self.symptoms['visible markings on components']],\n",
    "                           [self.components['CPU'], self.components['MoBo']],\n",
    "                           [self.causes['physical damage'], self.causes['software damage']],\n",
    "                           [self.actions['replace components'], self.actions['cooldown computer']]],\n",
    "                          [[self.symptoms['visible markings on components'], self.symptoms['unexpected shutdowns']],\n",
    "                           [self.components['MoBo'], self.components['PSU']],\n",
    "                           [self.causes['physical damage'], self.causes['software damage']],\n",
    "                           [self.actions['replace components']]],\n",
    "                          [[self.symptoms['unexpected shutdowns'], self.symptoms['slow performance']],\n",
    "                           [self.components['CPU'], self.components['PSU']],\n",
    "                           [self.causes['physical damage'], self.causes['software damage']],\n",
    "                           [self.actions['replace components']]],\n",
    "                          #[[self.symptoms['slow performance'], self.symptoms['old hardware']],\n",
    "                           #[self.components['GPU']],\n",
    "                           #[self.causes['faulty']],\n",
    "                           #[self.actions['replace components']]],\n",
    "                          #[[self.symptoms['slow performance'], self.symptoms['strange noises']],\n",
    "                           #[self.components['Fans']],\n",
    "                           #[self.causes['faulty']],\n",
    "                           #[self.actions['replace components']]],\n",
    "                          #[[self.symptoms['slow performance'], self.symptoms['software glitches']],\n",
    "                           #[self.components['GPU']],\n",
    "                           #[self.causes['software damage']],\n",
    "                           #[self.actions['install missing software']]],\n",
    "                          [[self.symptoms['files disappearing'], self.symptoms['old hardware']],\n",
    "                           [self.components['SSD']],\n",
    "                           [self.causes['faulty']],\n",
    "                           [self.actions['replace components']]],\n",
    "                          [[self.symptoms['unexpected shutdowns'], self.symptoms['old hardware']],\n",
    "                           [self.components['CPU']],\n",
    "                           [self.causes['faulty']],\n",
    "                           [self.actions['replace components']]],\n",
    "                          [[self.symptoms['files disappearing'], self.symptoms['strange noises']],\n",
    "                           [self.components['SSD']],\n",
    "                           [self.causes['faulty']],\n",
    "                           [self.actions['replace components']]],\n",
    "                          #[[self.symptoms['PC overheating'], self.symptoms['strange noises']],\n",
    "                           #[self.components['Fans']],\n",
    "                           #[self.causes['faulty']],\n",
    "                           #[self.actions['replace components']]],\n",
    "                          [[self.symptoms['unexpected shutdowns'], self.symptoms['software glitches']],\n",
    "                           [self.components['CPU']],\n",
    "                           [self.causes['software damage']],\n",
    "                           [self.actions['install missing software']]],\n",
    "                          [[self.symptoms['files disappearing'], self.symptoms['unexpected shutdowns']],\n",
    "                           [self.components['OS']],\n",
    "                           [self.causes['malware']],\n",
    "                           [self.actions['run antivirus']]],\n",
    "                          [[self.symptoms['files disappearing'], self.symptoms['software glitches']],\n",
    "                           [self.components['OS']],\n",
    "                           [self.causes['software damage'], self.causes['malware']],\n",
    "                           [self.actions['install missing software'], self.actions['run antivirus']]],\n",
    "                          [[self.symptoms['PC overheating'], self.symptoms['software glitches']],\n",
    "                           [self.components['CPU'], self.components['OS']],\n",
    "                           [self.causes['software damage']],\n",
    "                           [self.actions['install missing software'], self.actions['cooldown computer']]],\n",
    "                         ]\n",
    "        \n",
    "        # Random generator\n",
    "        self.rng = np.random.default_rng(seed)\n",
    "        \n",
    "        \n",
    "    def verify_scenario(self, expln):\n",
    "        \"\"\"\n",
    "        Checks whether the explanation given by the agent agrees with that specified by the given scenario.\n",
    "        \"\"\"\n",
    "        # Explanation corresponding to action layer\n",
    "        temp_scenario_act = [expln[0][0], expln[-1][0], expln[-1][1]]\n",
    "        tot_len_act = len(temp_scenario_act)\n",
    "        temp_scenario_act_len = [len(temp_scenario_act[i]) for i in range(tot_len_act)]\n",
    "        act_ind = [0, 1, 3]\n",
    "        act_scenario_state_len = [len(self.scenario_state[i]) for i in act_ind]\n",
    "        # Explanation corresponding to hidden layer\n",
    "        temp_scenario_perc = [expln[0][0], expln[1][0], expln[1][1]]\n",
    "        tot_len_perc = len(temp_scenario_perc)\n",
    "        temp_scenario_perc_len = [len(temp_scenario_perc[i]) for i in range(tot_len_perc)]\n",
    "        perc_scenario_state_len = [len(self.scenario_state[i]) for i in range(tot_len_perc)]\n",
    "        # Compute the sum of how many elements in each category agree between the scenario constructed from the\n",
    "        # agent's choices and the chosen scenario at initialization, for action and hidden layers, respectively\n",
    "        act_scenario_ind = [sum([np.any(temp_scenario_act[i][j] == np.copy(self.scenario_state[act_ind[i]])) for j in range(temp_scenario_act_len[i])]) for i in range(tot_len_act)]\n",
    "        perc_scenario_ind = [sum([np.any(temp_scenario_perc[i][j] == np.copy(self.scenario_state[i])) for j in range(temp_scenario_perc_len[i])]) for i in range(tot_len_perc)]\n",
    "        # Check whether the scenario constructed from the agent's choices at least contains the scenario at initialization,\n",
    "        # for action and hidden layers, respectively\n",
    "        temp_if_act = [True if ((act_scenario_ind[i] == act_scenario_state_len[i]) and (temp_scenario_act_len[i] == act_scenario_state_len[i])) else False for i in range(tot_len_act)]\n",
    "        temp_if_perc = [True if ((perc_scenario_ind[i] == perc_scenario_state_len[i]) and (temp_scenario_perc_len[i] == perc_scenario_state_len[i])) else False for i in range(tot_len_perc)]\n",
    "        \n",
    "        # Because the percepts are coupled in exactly, the percept in the agent's explanation will always match the one in scenario_state. Therefore,\n",
    "        # we do not need to include it when verifying that the agent got the right scenario (for now).\n",
    "        \n",
    "        tot_vec = [False, False, False]\n",
    "        # Check if all categories in action layer explanation except the first fulfill the condition for temp_if_act\n",
    "        if (sum(temp_if_act[1:]) == 2):\n",
    "            tot_vec[1] = True\n",
    "\n",
    "        # Check if all categories in hidden layer explanation except the first fulfill the condition for temp_if_perc\n",
    "        if (sum(temp_if_perc[1:]) == 2):\n",
    "            tot_vec[0] = True\n",
    "\n",
    "        # Check if all categories in both the hidden and action layer explanations match those in scenario_state\n",
    "        if tot_vec[0] and tot_vec[1]:\n",
    "            tot_vec[2] = True\n",
    "        \n",
    "        return tot_vec\n",
    "        \n",
    "    \n",
    "    def reset(self):\n",
    "        \"\"\"\n",
    "        Resets the environment, generating a new scenario and symptoms.\n",
    "        \"\"\"\n",
    "        \n",
    "        # The following section is written in a way such that the symptom subsets can have more symptoms than a scenario in scenarios has, which allows\n",
    "        # for irrelevant symptoms to be included if desired.\n",
    "\n",
    "        # Generate initial scenario\n",
    "        self.scenario_state = self.scenarios[self.rng.choice(len(self.scenarios))]\n",
    "        # Construct symptom sets containing the symptom set from the chosen scenario\n",
    "        self.sym_subsets = [self.scenario_state[0]]\n",
    "        # Randomly select one of the symptom sets\n",
    "        self.sym_set = self.sym_subsets[self.rng.choice(len(self.sym_subsets))]\n",
    "        # Generate initial symptoms \n",
    "        self.state = self.sym_set\n",
    "        \n",
    "        return self.state\n",
    "\n",
    "    \n",
    "    def step(self, expln):\n",
    "        \"\"\"\n",
    "        Given an action input and explanation list, return the current state and a reward, along with\n",
    "        a signal indicating whether the problem has been solved.\n",
    "        \"\"\"\n",
    "        reward = [0, 0]\n",
    "        done = False\n",
    "\n",
    "        # Part of the agent's explanation to the customer is used to verify if the problem is solved and get a reward.\n",
    "        expl_vec = expln[1]\n",
    "        # Penalties for choosing too many and too few elements from each category except the symptoms, respectively\n",
    "        penalty = np.array([1.0, 0.2])\n",
    "        # Conditions for triggering the penalties.\n",
    "        # Check the difference in length between each part of the agent's explanation and the initially generated scenario\n",
    "        pen_cond = np.array([(len(expl_vec[i]) - len(self.scenario_state[i+1])) for i in range(len(expl_vec))])\n",
    "        # Normalize the above. 0 indicates they are the same length, so no penalty. 1 indicates that the agent's explanation contains more elements\n",
    "        # than the initially generated scenario per category, which then activates the penalty for too many elements. -1 indicates that the agent's\n",
    "        # explanation contains less elements than the initially generated scenario per category, which then activates the penalty for too few elements. \n",
    "        norm_pen_cond = np.array([pen_cond[i]/abs(pen_cond[i]) if pen_cond[i] != 0 else 0 for i in range(len(pen_cond))])\n",
    "        # np.maximum will not apply the penalty for too many elements if that element of norm_pen_cond is not 1, and the normalized sum converts everything\n",
    "        # to a scalar.\n",
    "        reward[0] -= np.sum(np.maximum(norm_pen_cond, np.zeros(len(norm_pen_cond))))*penalty[0]/len(norm_pen_cond)\n",
    "        \n",
    "        # The plausibility reward. This reward assesses how well the agent's chosen fixes reflect the causes that it identified, as well as\n",
    "        # if the components associated with chosen causes are the same as those associated with chosen fixes.\n",
    "        plaus_max_reward = [1.0, 0.3]\n",
    "        plaus_penalty = [2.0, 2.0, 4.0]\n",
    "\n",
    "        # Evaluates how many of the components in the chosen action layer clip are also in the chosen hidden layer clip\n",
    "        val = sum([int(np.any(expln[2][0][i] == np.copy(expln[1][0]))) for i in range(len(expln[2][0]))])\n",
    "        \n",
    "        # Get a reward if all components in the chosen action layer clip are in the chosen hidden layer clip and they are the same size\n",
    "        if (val == len(expln[2][0])) and (len(expln[2][0]) == len(expln[1][0])):\n",
    "            reward[1] += plaus_max_reward[0]\n",
    "        # Get a smaller reward if only all components in the chosen action layer clip are in the hidden layer clip\n",
    "        elif (val == len(expln[2][0])):\n",
    "            reward[1] += plaus_max_reward[0]/4\n",
    "        # Receive a punishment otherwise\n",
    "        else:\n",
    "            reward[1] -= plaus_penalty[0]\n",
    "        \n",
    "        # The agent is rewarded for associating certain causes with certain fixes, and punished otherwise\n",
    "        plaus_reward_divisor = len(self.scenario_state[-1]) # might be better to have this depend on agents chosen fixes so it encourages smaller length fixes\n",
    "        conds = [np.any(expln[1][1] == np.copy(self.causes['physical damage'])), np.any(expln[1][1] == np.copy(self.causes['software damage'])),\n",
    "                 np.any(expln[1][1] == np.copy(self.causes['malware'])), np.any(expln[1][1] == np.copy(self.causes['faulty']))]\n",
    "        \n",
    "        if np.any(expln[2][1] == np.copy(self.actions['replace components'])):\n",
    "            if (conds[0] or conds[3]):\n",
    "                reward[1] += plaus_max_reward[1]/plaus_reward_divisor\n",
    "            else:\n",
    "                reward[1] -= plaus_penalty[1]/plaus_reward_divisor\n",
    "\n",
    "            if ((conds[1] or conds[2]) and not (conds[0] or conds[3])):\n",
    "                reward[1] -= plaus_penalty[1]/plaus_reward_divisor\n",
    "            \n",
    "        if np.any(expln[2][1] == np.copy(self.actions['install missing software'])):\n",
    "            if conds[1]:\n",
    "                reward[1] += plaus_max_reward[1]/plaus_reward_divisor\n",
    "            else:\n",
    "                reward[1] -= plaus_penalty[1]/plaus_reward_divisor\n",
    "\n",
    "            if ((conds[0] or conds[3]) and not (conds[1] or conds[2])):\n",
    "                reward[1] -= plaus_penalty[1]/plaus_reward_divisor\n",
    "            \n",
    "        if np.any(expln[2][1] == np.copy(self.actions['run antivirus'])):\n",
    "            if conds[2]:\n",
    "                reward[1] += plaus_max_reward[1]/plaus_reward_divisor\n",
    "            else:\n",
    "                reward[1] -= plaus_penalty[1]/plaus_reward_divisor\n",
    "\n",
    "            if ((conds[0] or conds[3]) and not (conds[1] or conds[2])):\n",
    "                reward[1] -= plaus_penalty[1]/plaus_reward_divisor\n",
    "\n",
    "        if np.any(expln[2][1] == np.copy(self.actions['cooldown computer'])):\n",
    "            if conds[1]:\n",
    "                reward[1] += plaus_max_reward[1]/plaus_reward_divisor\n",
    "            #else:\n",
    "            #    reward[1] -= plaus_penalty[1]/plaus_reward_divisor\n",
    "        \n",
    "        # Penalty on the plausibility reward to discourage choosing too many components/causes; same comments as for the previous penalty for\n",
    "        # too many components/fixes.\n",
    "        plaus_expl_vec = expln[-1]\n",
    "        plaus_ind = [1, 3]\n",
    "        plaus_pen_cond = np.array([(len(plaus_expl_vec[i]) - len(self.scenario_state[plaus_ind[i]])) for i in range(len(plaus_expl_vec))])\n",
    "        plaus_norm_pen_cond = np.array([plaus_pen_cond[i]/abs(plaus_pen_cond[i]) if plaus_pen_cond[i] != 0 else 0 for i in range(len(plaus_pen_cond))])\n",
    "        reward[1] -= np.sum(np.maximum(plaus_norm_pen_cond, np.zeros(len(plaus_norm_pen_cond))))*plaus_penalty[2]/len(plaus_norm_pen_cond)\n",
    "            \n",
    "        # Check whether the agent solved the problem\n",
    "        tot_vec = self.verify_scenario(expln)\n",
    "            \n",
    "        # Give a partial reward bonus to the agent if their chosen hidden layer clip matches the scenario and severely punish otherwise\n",
    "        if tot_vec[0]:\n",
    "            reward[0] += 5\n",
    "        else:\n",
    "            reward[0] -= 10\n",
    "        \n",
    "        # Give a partial reward bonus to the agent if their chosen action layer clip matches the scenario and severely punish otherwise\n",
    "        if tot_vec[1]:\n",
    "            reward[1] += 5\n",
    "        else:\n",
    "            reward[1] -= 10\n",
    "            \n",
    "        # Give a large reward bonus to the agent for having the scenario as their explanation, making the deliberation path clearer\n",
    "        if tot_vec[2]:\n",
    "            reward[0] += 15\n",
    "            reward[1] += 15\n",
    "            # Signal to end episode\n",
    "            done = True\n",
    "\n",
    "        # This represents the destruction of the computer, which results in a severe punishment for the agent and ends the episode\n",
    "        #if np.any(expln[2][1] == np.copy(self.actions['benchmark components'])) and np.any(expln[0][0] == np.copy(self.symptoms['PC overheating'])):\n",
    "        #    reward[0] -= 15\n",
    "        #    reward[1] -= 15\n",
    "        #    done = True\n",
    "        \n",
    "        return self.state, reward, done"
   ]
  },
  {
   "cell_type": "markdown",
   "id": "e3a5ab74-1377-490d-9524-1a1232245861",
   "metadata": {},
   "source": [
    "Now define the PS agent."
   ]
  },
  {
   "cell_type": "code",
   "execution_count": 42,
   "id": "09706bf4-867b-4ba3-8ae0-20e3e8d21b27",
   "metadata": {
    "scrolled": true
   },
   "outputs": [],
   "source": [
    "class PSAgent():\n",
    "    \n",
    "    def __init__(self, pca, gamma_damping, eta_glow_damping, seed, beta_softmax, num_layers, n_body):\n",
    "        \"\"\"\n",
    "        Base class of a Reinforcement Learning agent based on Multi-Excitation Projective Simulation,\n",
    "        with three-layered network.\n",
    "\n",
    "        Parameters\n",
    "        ----------\n",
    "        pca : list\n",
    "            The possible percepts/clips/actions that the agent can receive/have/take.\n",
    "        gamma_damping : float (between 0 and 1)\n",
    "            Forgetting/damping of h-values at the end of each interaction.\n",
    "        eta_glow_damping : float (between 0 and 1)\n",
    "            Controls the damping of glow; setting this to 1 effectively switches off glow.\n",
    "        seed : int\n",
    "            Seed for random number generator. \n",
    "        beta_softmax : float >=0\n",
    "            Probabilities are proportional to exp(beta*h_value). If policy_type != 'softmax', then this is irrelevant.\n",
    "        num_layers : int\n",
    "            The number of transitions between layers during deliberation.\n",
    "        n_body : list\n",
    "            A list of the many-body cutoff for source and target hyperedges.\n",
    "        \"\"\"\n",
    "        \n",
    "        self.n_body = n_body\n",
    "        self.num_layers = num_layers\n",
    "        self.pca = pca\n",
    "        self.gamma_damping = gamma_damping\n",
    "        self.eta_glow_damping = eta_glow_damping\n",
    "        self.beta_softmax = beta_softmax\n",
    "\n",
    "        # Random generator\n",
    "        self.rng = np.random.default_rng(seed)\n",
    "\n",
    "        # Generate all percept hyperedges of length n_body[0][0][j] for each element in n_body[0][0] at initialization.\n",
    "        # If the percept hyperedges are tuples, then do the above separately for each element of the tuple and then take the Cartesian product of all elements.\n",
    "        percept_hyedge = [\n",
    "                          list(chain.from_iterable(\n",
    "                                                   [[list(x) for x in combinations(self.pca[0][j], k+1)] for k in range(self.n_body[0][0][j])]\n",
    "                                                  ))\n",
    "                          for j in range(len(self.pca[0]))\n",
    "                         ]\n",
    "        percept_hyedge = [list(x) for x in product(*percept_hyedge)]\n",
    "        \n",
    "        # Generate all action hyperedges of length up to n_body[-1][1][j] for each element in n_body[-1][1] at initialization.\n",
    "        # If the action hyperedges are tuples, then do the above separately for each element of the tuple and then take the Cartesian product of all elements.\n",
    "        act_hyedge = [\n",
    "                      list(chain.from_iterable(\n",
    "                                               [[list(x) for x in combinations(self.pca[-1][j], k+1)] for k in range(self.n_body[-1][1][j])]\n",
    "                                              ))\n",
    "                      for j in range(len(self.pca[-1]))\n",
    "                     ]\n",
    "        act_hyedge = [list(x) for x in product(*act_hyedge)]\n",
    "        # problem is that scenarios have different lengths, so only one many-body cutoff value will not let the agent learn properly; need to have all orders below a specific value\n",
    "\n",
    "        # Generate all clip hyperedges of length n_body[0][1] or n_body[1][0] (they have to be the same anyways)\n",
    "        clip_hyedges = [\n",
    "                        [list(x) for x in product(*\n",
    "                                [\n",
    "                                    list(chain.from_iterable(\n",
    "                                    [[list(x) for x in combinations(self.pca[k][j], m+1)] for m in range(self.n_body[0][1][j])]\n",
    "                                    )) \n",
    "                                    for j in range(len(self.pca[k]))\n",
    "                                ]\n",
    "                                                 )]\n",
    "                        for k in range(1, self.num_layers)\n",
    "                       ]\n",
    "        self.clips_set = [[percept_hyedge, clip_hyedges[0]]] + [[clip_hyedges[-1], act_hyedge]]\n",
    "\n",
    "        # Compute the Cartesian product of clips_set\n",
    "        clip_configs = [list(product(*self.clips_set[i])) for i in range(self.num_layers)]\n",
    "\n",
    "        # Initialize the many-body h and glow arrays to all 1's and 0's, respectively. An array for each transition between layers is generated as a 1-D numpy\n",
    "        # structured array where each element is a tuple consisting of a nested list with 'object' data type, and a number with 'float64' data type.\n",
    "        self.h_matrix = [np.array([(clip_configs[i][j], 1) for j in range(len(clip_configs[i]))], dtype='object, f8') for i in range(self.num_layers)]\n",
    "        self.g_matrix = [np.array([(clip_configs[i][j], 0) for j in range(len(clip_configs[i]))], dtype='object, f8') for i in range(self.num_layers)]\n",
    "        \n",
    "        # Save a copy of the h and glow array initializations for the learning update and the glow reset function.\n",
    "        self.h_0 = [np.copy(self.h_matrix[i]) for i in range(self.num_layers)]\n",
    "        self.g_0 = [np.copy(self.g_matrix[i]) for i in range(self.num_layers)]\n",
    "\n",
    "    \n",
    "    def deliberate(self, percept, it, last_perc_vals):\n",
    "        \"\"\"\n",
    "        Given a percept, this method chooses the next action and records that choice in the glow arrays.\n",
    "\n",
    "        Parameters\n",
    "        ----------\n",
    "        percept : list\n",
    "            List that describes the observation.\n",
    "\n",
    "        Returns\n",
    "        -------\n",
    "        clips : list\n",
    "            The chosen percepts/clips/actions during deliberation.\n",
    "        actions : list\n",
    "            The chosen action target hyperedge.\n",
    "        \"\"\"\n",
    "        # Generate all subsets of percept of length n_body[0][0][j] for each element in n_body[0][0] once at the beginning of the episode, then reuse this list for the remainder.\n",
    "        # If percept is a tuple, then do the above separately for each element of the tuple and then take the Cartesian product of all elements.\n",
    "        if it == 0:\n",
    "            perc_vals = [\n",
    "                        list(chain.from_iterable(\n",
    "                            [[list(x) for x in combinations(percept, m+1)] for m in range(self.n_body[0][0][j])]\n",
    "                        )) \n",
    "                        for j in range(len(self.n_body[0][0]))\n",
    "                        ]\n",
    "            perc_vals = [list(x) for x in product(*perc_vals)]\n",
    "        else:\n",
    "            perc_vals = last_perc_vals\n",
    "        \n",
    "        # The agent's explanation \n",
    "        clips = []\n",
    "        # The random walk through the ECM\n",
    "        for n in range(self.num_layers):\n",
    "            # For the special case of the input percept\n",
    "            if n == 0:\n",
    "                # Find the entries of the h array that match those in percepts\n",
    "                rel_trans = [item for item in self.h_matrix[0] if item[0][0] in perc_vals]\n",
    "                # Create a probability list from the previous h values using a softmax function\n",
    "                probs = torch.softmax(self.beta_softmax[0]*torch.tensor([a[1] for a in rel_trans]), dim = 0).numpy()\n",
    "                # Randomly choose one of the possible transitions according to probs and extract the index of the transition from the h array\n",
    "                chosen_trans_ind = self.rng.choice(len(rel_trans), p=probs)\n",
    "                # Convert that index into the actual corresponding hyperedge \n",
    "                chosen_trans = rel_trans[chosen_trans_ind]\n",
    "\n",
    "                # Record the percept hyperedge in the clips list\n",
    "                clips.append(chosen_trans[0][0])\n",
    "            # For the rest of the clips but using the chosen hidden layer clip as a starting point\n",
    "            else:\n",
    "                # Generate all subsets of the chosen clip of length up to n_body[n][0][j] for each element in n_body[n][0] for the total number of transitions between layers (n=0,...,num_layers-1).\n",
    "                # If the clip is a tuple, then do the above separately for each element of the tuple and then take the Cartesian product of all elements.\n",
    "                input_trans_list = [\n",
    "                                    list(chain.from_iterable(\n",
    "                                        [[list(x) for x in combinations(clips[-1][j], m+1)] for m in range(self.n_body[n][0][j])]\n",
    "                                    )) \n",
    "                                    for j in range(len(self.n_body[n][0]))\n",
    "                                   ]\n",
    "                input_trans_list = [list(x) for x in product(*input_trans_list)]\n",
    "                rel_trans1 = [item for item in self.h_matrix[n] if item[0][0] in input_trans_list]\n",
    "                probs1 = torch.softmax(self.beta_softmax[n]*torch.tensor([a[1] for a in rel_trans1]), dim = 0).numpy()\n",
    "                chosen_trans_ind1 = self.rng.choice(len(rel_trans1), p=probs1)\n",
    "                chosen_trans = rel_trans1[chosen_trans_ind1]\n",
    "                \n",
    "            # Record the target hyperedge in the clips list\n",
    "            clips.append(chosen_trans[0][1])\n",
    "                \n",
    "            # Update and record the latest decision in the glow array\n",
    "            self.g_matrix[n]['f1'] = (1.0-self.eta_glow_damping[n])*self.g_matrix[n]['f1']\n",
    "            self.g_matrix[n]['f1'][self.g_matrix[n]['f0'].tolist().index(chosen_trans[0])] += 1.0   \n",
    "            \n",
    "        # Return the percepts list to be reused and the agent's explanation\n",
    "        return perc_vals, clips\n",
    "        \n",
    "        \n",
    "    def learn(self, reward):\n",
    "        \"\"\"\n",
    "        Given a reward, this method updates the h array.\n",
    "\n",
    "        Parameters\n",
    "        ----------\n",
    "        reward : float\n",
    "            Value of the obtained reward.\n",
    "        \"\"\"\n",
    "        # The action reward is applied to the first h array while the plausibility reward is applied to the second h array.\n",
    "        reward_vec = [reward[0], reward[1]]\n",
    "        for i in range(self.num_layers):\n",
    "            self.h_matrix[i]['f1'] = self.h_matrix[i]['f1'] - self.gamma_damping[i] * (self.h_matrix[i]['f1'] - self.h_0[i]['f1']) + reward_vec[i] * self.g_matrix[i]['f1']\n",
    "            \n",
    "    \n",
    "    def reset_g(self):\n",
    "        \"\"\"\n",
    "        Resets the glow array.\n",
    "        \"\"\"\n",
    "        self.g_matrix = [np.copy(self.g_0[i]) for i in range(self.num_layers)]\n"
   ]
  },
  {
   "cell_type": "markdown",
   "id": "ee27e795-6327-44a8-8be5-b5891abf5939",
   "metadata": {},
   "source": [
    "And then we can define the training loop:"
   ]
  },
  {
   "cell_type": "code",
   "execution_count": 43,
   "id": "642e92f8-7e3f-4193-8dbc-48ba782bd081",
   "metadata": {},
   "outputs": [],
   "source": [
    "def train(env, agent, num_episodes, max_time, max_iter, num, func):\n",
    "    \n",
    "    # Initialization of learning curve quantities\n",
    "    hypo_rewards_all_episodes = []\n",
    "    plaus_rewards_all_episodes = []\n",
    "    stepnum_to_success = []\n",
    "\n",
    "    # tqdm shows the iteration progress as well as how long it is estimated to take and the iteration speed\n",
    "    for e in tqdm(range(num_episodes)):\n",
    "        \n",
    "        # Restart environment, agent's counter, glow matrix, learning curve quantities, and episode end signal\n",
    "        agent.reset_g()\n",
    "        state = env.reset()\n",
    "        done = False\n",
    "        rewards_current_episode = np.array([0, 0])\n",
    "        iter = 0\n",
    "        perc_vals1 = 0\n",
    "    \n",
    "        while not done:\n",
    "            \n",
    "            perc_vals, hyclips = agent.deliberate(state, iter, perc_vals1) # Decide\n",
    "            perc_vals1 = perc_vals\n",
    "            next_state, reward, done = env.step(hyclips) # Act\n",
    "            new_reward = func(reward, iter, max_time)\n",
    "            agent.learn(new_reward) # Learn\n",
    "            \n",
    "            rewards_current_episode = rewards_current_episode + new_reward\n",
    "            state = next_state\n",
    "            iter += 1\n",
    "\n",
    "            # A conditional to prevent the agent from taking too many steps in an episode\n",
    "            if iter > max_iter:\n",
    "                break\n",
    "\n",
    "        if (e+1) % 500 == 0:\n",
    "            # Save h matrices of the agent at this stage of the learning process\n",
    "            np.savez('./MEPS_Data/h_memory_inductivebias_agent{a0}_{a1}_episode_{a2}_{a3}.npz'\n",
    "                     .format(a0=num[0], a1=num[1], a2=e+1, a3=\"BrokenComputer\"), h_mat1=agent.h_matrix[0], h_mat2=agent.h_matrix[1])\n",
    "\n",
    "        hypo_rewards_all_episodes.append(rewards_current_episode[0])\n",
    "        plaus_rewards_all_episodes.append(rewards_current_episode[1])\n",
    "        stepnum_to_success.append(iter)\n",
    "\n",
    "    print(\"Scenario: {a0}\".format(a0=env.scenario_state[1:]))\n",
    "    print(\"Final Explanation: {a0}\".format(a0=hyclips[1:]))\n",
    "\n",
    "    return hypo_rewards_all_episodes, plaus_rewards_all_episodes, stepnum_to_success"
   ]
  },
  {
   "cell_type": "markdown",
   "id": "01f595e5-13d3-4973-b2c2-01cfe6682fda",
   "metadata": {},
   "source": [
    "Next, we define the training loop parameters. The hyperparameters of the agent are listed in the third block for each possible agent in n_body_agent and the training duration parameters in the first. Each category of symbol is initialized to zero and will be filled at the beginning of the training loop in the next cell. The last block contains the quantities that the learning curves will be constructed from. To get an impression for how sensitive the learning is with respect to the random number generation used during sampling, we average over several agents with different seed values given in the lists in the fourth block, using the same parameters ."
   ]
  },
  {
   "cell_type": "code",
   "execution_count": 44,
   "id": "97c07cef-1d1c-4dc4-971d-1870cca6c7ff",
   "metadata": {},
   "outputs": [],
   "source": [
    "# Each element in the outer list represents a transition between layers and within those elements, there are two elements:\n",
    "# the many-body cutoff for the source layer and the target layer, respectively. If the elements in a layer are actually\n",
    "# tuples, then there will be a many-body cutoff for each element in the tuple.\n",
    "nbody_agent = [\n",
    "                [[[2], [2, 2]], [[2, 2], [2, 2]]]\n",
    "              ]\n",
    "num_agents = len(nbody_agent)\n",
    "num_layers = [2]\n",
    "episodes = [1000]\n",
    "max_time = 500\n",
    "max_iter = [1000]\n",
    "\n",
    "pca = 0\n",
    "\n",
    "# The number of elements in the outer list should match the number of agents specified by num_agents, and within each element\n",
    "# there are two values: one for the source layer and the other for the target layer.\n",
    "gamma = [[0.0, 0.0]]\n",
    "eta_glow = [[1.0, 1.0]]\n",
    "beta = [[0.5, 0.5]]\n",
    "\n",
    "size = 100\n",
    "seeds = np.random.choice(np.arange(1, 10**3), size=size, replace=False)\n",
    "env_seed_list = seeds[:int(size/2)]\n",
    "agent_seed_list = seeds[int(size/2):]\n",
    "\n",
    "average_hypo_reward_list_all = [[] for i in range(num_agents)]\n",
    "average_plaus_reward_list_all = [[] for i in range(num_agents)]\n",
    "stepnum_list_all = [[] for i in range(num_agents)]\n",
    "hypo_means = []\n",
    "hypo_stds = []\n",
    "plaus_means = []\n",
    "plaus_stds = []\n",
    "stepnum_means = []\n",
    "stepnum_stds = []"
   ]
  },
  {
   "cell_type": "markdown",
   "id": "21a39f00-b404-4bdf-98e6-5e9a87bdac95",
   "metadata": {},
   "source": [
    "Now for the actual training and construction of the learning curve quantities. The environments and agents are generated once per seed value and then discarded after saving the learning curve quantities to external lists."
   ]
  },
  {
   "cell_type": "code",
   "execution_count": 45,
   "id": "4ee02d58-19f9-4568-894d-0b32100cb226",
   "metadata": {},
   "outputs": [
    {
     "data": {
      "application/vnd.jupyter.widget-view+json": {
       "model_id": "a8ff54efeb0948028dd4accd679b9b05",
       "version_major": 2,
       "version_minor": 0
      },
      "text/plain": [
       "  0%|          | 0/1000 [00:00<?, ?it/s]"
      ]
     },
     "metadata": {},
     "output_type": "display_data"
    },
    {
     "name": "stdout",
     "output_type": "stream",
     "text": [
      "Scenario: [[14], [21], [9]]\n",
      "Final Explanation: [[[14], [21]], [[14], [9]]]\n"
     ]
    },
    {
     "data": {
      "application/vnd.jupyter.widget-view+json": {
       "model_id": "9447c36114ff44338973c6e8bf64f5e9",
       "version_major": 2,
       "version_minor": 0
      },
      "text/plain": [
       "  0%|          | 0/1000 [00:00<?, ?it/s]"
      ]
     },
     "metadata": {},
     "output_type": "display_data"
    },
    {
     "name": "stdout",
     "output_type": "stream",
     "text": [
      "Scenario: [[13, 15], [18, 19], [9, 11]]\n",
      "Final Explanation: [[[13, 15], [18, 19]], [[13, 15], [9, 11]]]\n"
     ]
    },
    {
     "data": {
      "application/vnd.jupyter.widget-view+json": {
       "model_id": "08558ad4dce74c52854e1f826325509a",
       "version_major": 2,
       "version_minor": 0
      },
      "text/plain": [
       "  0%|          | 0/1000 [00:00<?, ?it/s]"
      ]
     },
     "metadata": {},
     "output_type": "display_data"
    },
    {
     "name": "stdout",
     "output_type": "stream",
     "text": [
      "Scenario: [[13], [21], [9]]\n",
      "Final Explanation: [[[13], [21]], [[13], [9]]]\n"
     ]
    },
    {
     "data": {
      "application/vnd.jupyter.widget-view+json": {
       "model_id": "32461b12e4d54409914cbc5f1f29cf68",
       "version_major": 2,
       "version_minor": 0
      },
      "text/plain": [
       "  0%|          | 0/1000 [00:00<?, ?it/s]"
      ]
     },
     "metadata": {},
     "output_type": "display_data"
    },
    {
     "name": "stdout",
     "output_type": "stream",
     "text": [
      "Scenario: [[13, 16], [18, 19], [9]]\n",
      "Final Explanation: [[[13, 16], [18, 19]], [[13, 16], [9]]]\n"
     ]
    },
    {
     "data": {
      "application/vnd.jupyter.widget-view+json": {
       "model_id": "861f953fbcca45e0bd6e7b9249055a65",
       "version_major": 2,
       "version_minor": 0
      },
      "text/plain": [
       "  0%|          | 0/1000 [00:00<?, ?it/s]"
      ]
     },
     "metadata": {},
     "output_type": "display_data"
    },
    {
     "name": "stdout",
     "output_type": "stream",
     "text": [
      "Scenario: [[13, 15], [18, 19], [9, 11]]\n",
      "Final Explanation: [[[13, 15], [18, 19]], [[13, 15], [9, 11]]]\n"
     ]
    },
    {
     "data": {
      "application/vnd.jupyter.widget-view+json": {
       "model_id": "ca5b1550de0945c1a9b70599d4614dad",
       "version_major": 2,
       "version_minor": 0
      },
      "text/plain": [
       "  0%|          | 0/1000 [00:00<?, ?it/s]"
      ]
     },
     "metadata": {},
     "output_type": "display_data"
    },
    {
     "name": "stdout",
     "output_type": "stream",
     "text": [
      "Scenario: [[14], [21], [9]]\n",
      "Final Explanation: [[[14], [21]], [[14], [9]]]\n"
     ]
    },
    {
     "data": {
      "application/vnd.jupyter.widget-view+json": {
       "model_id": "6945007f228841088d65b04c00dec1ea",
       "version_major": 2,
       "version_minor": 0
      },
      "text/plain": [
       "  0%|          | 0/1000 [00:00<?, ?it/s]"
      ]
     },
     "metadata": {},
     "output_type": "display_data"
    },
    {
     "name": "stdout",
     "output_type": "stream",
     "text": [
      "Scenario: [[13, 16], [18, 19], [9]]\n",
      "Final Explanation: [[[13, 16], [18, 19]], [[13, 16], [9]]]\n"
     ]
    },
    {
     "data": {
      "application/vnd.jupyter.widget-view+json": {
       "model_id": "4c970b5314f4468492a96aac4a86e4c4",
       "version_major": 2,
       "version_minor": 0
      },
      "text/plain": [
       "  0%|          | 0/1000 [00:00<?, ?it/s]"
      ]
     },
     "metadata": {},
     "output_type": "display_data"
    },
    {
     "name": "stdout",
     "output_type": "stream",
     "text": [
      "Scenario: [[13, 16], [18, 19], [9]]\n",
      "Final Explanation: [[[13, 16], [18, 19]], [[13, 16], [9]]]\n"
     ]
    },
    {
     "data": {
      "application/vnd.jupyter.widget-view+json": {
       "model_id": "34f407523c684d258e7e35182e81afb8",
       "version_major": 2,
       "version_minor": 0
      },
      "text/plain": [
       "  0%|          | 0/1000 [00:00<?, ?it/s]"
      ]
     },
     "metadata": {},
     "output_type": "display_data"
    },
    {
     "name": "stdout",
     "output_type": "stream",
     "text": [
      "Scenario: [[15, 16], [18, 19], [9]]\n",
      "Final Explanation: [[[15, 16], [18, 19]], [[15, 16], [9]]]\n"
     ]
    },
    {
     "data": {
      "application/vnd.jupyter.widget-view+json": {
       "model_id": "5f0a96dfce6b459bb489c61b74e3daa8",
       "version_major": 2,
       "version_minor": 0
      },
      "text/plain": [
       "  0%|          | 0/1000 [00:00<?, ?it/s]"
      ]
     },
     "metadata": {},
     "output_type": "display_data"
    },
    {
     "name": "stdout",
     "output_type": "stream",
     "text": [
      "Scenario: [[13, 16], [18, 19], [9]]\n",
      "Final Explanation: [[[13, 16], [18, 19]], [[13, 16], [9]]]\n"
     ]
    },
    {
     "data": {
      "application/vnd.jupyter.widget-view+json": {
       "model_id": "8e23eec370984837baf6a1817d7b2359",
       "version_major": 2,
       "version_minor": 0
      },
      "text/plain": [
       "  0%|          | 0/1000 [00:00<?, ?it/s]"
      ]
     },
     "metadata": {},
     "output_type": "display_data"
    },
    {
     "name": "stdout",
     "output_type": "stream",
     "text": [
      "Scenario: [[14], [21], [9]]\n",
      "Final Explanation: [[[14], [21]], [[14], [9]]]\n"
     ]
    },
    {
     "data": {
      "application/vnd.jupyter.widget-view+json": {
       "model_id": "73b960359cb44994920b1bce8f2b80a8",
       "version_major": 2,
       "version_minor": 0
      },
      "text/plain": [
       "  0%|          | 0/1000 [00:00<?, ?it/s]"
      ]
     },
     "metadata": {},
     "output_type": "display_data"
    },
    {
     "name": "stdout",
     "output_type": "stream",
     "text": [
      "Scenario: [[13], [19], [10]]\n",
      "Final Explanation: [[[13], [19]], [[13], [10]]]\n"
     ]
    },
    {
     "data": {
      "application/vnd.jupyter.widget-view+json": {
       "model_id": "e34b95e7b4064095b015996a5b378d06",
       "version_major": 2,
       "version_minor": 0
      },
      "text/plain": [
       "  0%|          | 0/1000 [00:00<?, ?it/s]"
      ]
     },
     "metadata": {},
     "output_type": "display_data"
    },
    {
     "name": "stdout",
     "output_type": "stream",
     "text": [
      "Scenario: [[13, 17], [19], [10, 11]]\n",
      "Final Explanation: [[[13, 17], [19]], [[13, 17], [10, 11]]]\n"
     ]
    },
    {
     "data": {
      "application/vnd.jupyter.widget-view+json": {
       "model_id": "03bb8dfec76a4d878a75dc22b10cc7be",
       "version_major": 2,
       "version_minor": 0
      },
      "text/plain": [
       "  0%|          | 0/1000 [00:00<?, ?it/s]"
      ]
     },
     "metadata": {},
     "output_type": "display_data"
    },
    {
     "name": "stdout",
     "output_type": "stream",
     "text": [
      "Scenario: [[13], [21], [9]]\n",
      "Final Explanation: [[[13], [21]], [[13], [9]]]\n"
     ]
    },
    {
     "data": {
      "application/vnd.jupyter.widget-view+json": {
       "model_id": "eeff144e43c84fa595f58594f51028ea",
       "version_major": 2,
       "version_minor": 0
      },
      "text/plain": [
       "  0%|          | 0/1000 [00:00<?, ?it/s]"
      ]
     },
     "metadata": {},
     "output_type": "display_data"
    },
    {
     "name": "stdout",
     "output_type": "stream",
     "text": [
      "Scenario: [[14], [21], [9]]\n",
      "Final Explanation: [[[14], [21]], [[14], [9]]]\n"
     ]
    },
    {
     "data": {
      "application/vnd.jupyter.widget-view+json": {
       "model_id": "342c1cf26177479eb369cc9328f0b5a7",
       "version_major": 2,
       "version_minor": 0
      },
      "text/plain": [
       "  0%|          | 0/1000 [00:00<?, ?it/s]"
      ]
     },
     "metadata": {},
     "output_type": "display_data"
    },
    {
     "name": "stdout",
     "output_type": "stream",
     "text": [
      "Scenario: [[13, 16], [18, 19], [9]]\n",
      "Final Explanation: [[[13, 16], [18, 19]], [[13, 16], [9]]]\n"
     ]
    },
    {
     "data": {
      "application/vnd.jupyter.widget-view+json": {
       "model_id": "a574fda01f764e9abbc51cf123bac6fb",
       "version_major": 2,
       "version_minor": 0
      },
      "text/plain": [
       "  0%|          | 0/1000 [00:00<?, ?it/s]"
      ]
     },
     "metadata": {},
     "output_type": "display_data"
    },
    {
     "name": "stdout",
     "output_type": "stream",
     "text": [
      "Scenario: [[14], [21], [9]]\n",
      "Final Explanation: [[[14], [21]], [[14], [9]]]\n"
     ]
    },
    {
     "data": {
      "application/vnd.jupyter.widget-view+json": {
       "model_id": "0062e199613c48b8b8b7dcd3cb9dd32d",
       "version_major": 2,
       "version_minor": 0
      },
      "text/plain": [
       "  0%|          | 0/1000 [00:00<?, ?it/s]"
      ]
     },
     "metadata": {},
     "output_type": "display_data"
    },
    {
     "name": "stdout",
     "output_type": "stream",
     "text": [
      "Scenario: [[15, 16], [18, 19], [9]]\n",
      "Final Explanation: [[[15, 16], [18, 19]], [[15, 16], [9]]]\n"
     ]
    },
    {
     "data": {
      "application/vnd.jupyter.widget-view+json": {
       "model_id": "7bd1b6fdb7884d1d985cb064a672a426",
       "version_major": 2,
       "version_minor": 0
      },
      "text/plain": [
       "  0%|          | 0/1000 [00:00<?, ?it/s]"
      ]
     },
     "metadata": {},
     "output_type": "display_data"
    },
    {
     "name": "stdout",
     "output_type": "stream",
     "text": [
      "Scenario: [[14], [21], [9]]\n",
      "Final Explanation: [[[14], [21]], [[14], [9]]]\n"
     ]
    },
    {
     "data": {
      "application/vnd.jupyter.widget-view+json": {
       "model_id": "eb266e2c8c16403a8a5c31ec6d24641e",
       "version_major": 2,
       "version_minor": 0
      },
      "text/plain": [
       "  0%|          | 0/1000 [00:00<?, ?it/s]"
      ]
     },
     "metadata": {},
     "output_type": "display_data"
    },
    {
     "name": "stdout",
     "output_type": "stream",
     "text": [
      "Scenario: [[13, 15], [18, 19], [9, 11]]\n",
      "Final Explanation: [[[13, 15], [18, 19]], [[13, 15], [9, 11]]]\n"
     ]
    },
    {
     "data": {
      "application/vnd.jupyter.widget-view+json": {
       "model_id": "f5744ac437904e45997970b43a3cc59a",
       "version_major": 2,
       "version_minor": 0
      },
      "text/plain": [
       "  0%|          | 0/1000 [00:00<?, ?it/s]"
      ]
     },
     "metadata": {},
     "output_type": "display_data"
    },
    {
     "name": "stdout",
     "output_type": "stream",
     "text": [
      "Scenario: [[13], [21], [9]]\n",
      "Final Explanation: [[[13], [21]], [[13], [9]]]\n"
     ]
    },
    {
     "data": {
      "application/vnd.jupyter.widget-view+json": {
       "model_id": "f83cb0c9476d479d88891fc1b9ebc28f",
       "version_major": 2,
       "version_minor": 0
      },
      "text/plain": [
       "  0%|          | 0/1000 [00:00<?, ?it/s]"
      ]
     },
     "metadata": {},
     "output_type": "display_data"
    },
    {
     "name": "stdout",
     "output_type": "stream",
     "text": [
      "Scenario: [[13], [19], [10]]\n",
      "Final Explanation: [[[13], [19]], [[13], [10]]]\n"
     ]
    },
    {
     "data": {
      "application/vnd.jupyter.widget-view+json": {
       "model_id": "f2421f97b77943819c6dade488a099f2",
       "version_major": 2,
       "version_minor": 0
      },
      "text/plain": [
       "  0%|          | 0/1000 [00:00<?, ?it/s]"
      ]
     },
     "metadata": {},
     "output_type": "display_data"
    },
    {
     "name": "stdout",
     "output_type": "stream",
     "text": [
      "Scenario: [[14], [21], [9]]\n",
      "Final Explanation: [[[14], [21]], [[14], [9]]]\n"
     ]
    },
    {
     "data": {
      "application/vnd.jupyter.widget-view+json": {
       "model_id": "17100c8e88fe4ebca155367fe306608f",
       "version_major": 2,
       "version_minor": 0
      },
      "text/plain": [
       "  0%|          | 0/1000 [00:00<?, ?it/s]"
      ]
     },
     "metadata": {},
     "output_type": "display_data"
    },
    {
     "name": "stdout",
     "output_type": "stream",
     "text": [
      "Scenario: [[14], [21], [9]]\n",
      "Final Explanation: [[[14], [21]], [[14], [9]]]\n"
     ]
    },
    {
     "data": {
      "application/vnd.jupyter.widget-view+json": {
       "model_id": "0c1b338c59be455598a9185114174770",
       "version_major": 2,
       "version_minor": 0
      },
      "text/plain": [
       "  0%|          | 0/1000 [00:00<?, ?it/s]"
      ]
     },
     "metadata": {},
     "output_type": "display_data"
    },
    {
     "name": "stdout",
     "output_type": "stream",
     "text": [
      "Scenario: [[15, 16], [18, 19], [9]]\n",
      "Final Explanation: [[[15, 16], [18, 19]], [[15, 16], [9]]]\n"
     ]
    },
    {
     "data": {
      "application/vnd.jupyter.widget-view+json": {
       "model_id": "739b153427b745e0916e12be282749bf",
       "version_major": 2,
       "version_minor": 0
      },
      "text/plain": [
       "  0%|          | 0/1000 [00:00<?, ?it/s]"
      ]
     },
     "metadata": {},
     "output_type": "display_data"
    },
    {
     "name": "stdout",
     "output_type": "stream",
     "text": [
      "Scenario: [[13, 15], [18, 19], [9, 11]]\n",
      "Final Explanation: [[[13, 15], [18, 19]], [[13, 15], [9, 11]]]\n"
     ]
    },
    {
     "data": {
      "application/vnd.jupyter.widget-view+json": {
       "model_id": "f659d53c63c34c44b68bca1e3cdbbcdf",
       "version_major": 2,
       "version_minor": 0
      },
      "text/plain": [
       "  0%|          | 0/1000 [00:00<?, ?it/s]"
      ]
     },
     "metadata": {},
     "output_type": "display_data"
    },
    {
     "name": "stdout",
     "output_type": "stream",
     "text": [
      "Scenario: [[14], [21], [9]]\n",
      "Final Explanation: [[[14], [21]], [[14], [9]]]\n"
     ]
    },
    {
     "data": {
      "application/vnd.jupyter.widget-view+json": {
       "model_id": "f5f1a15bb3504dc29fc2f31d3f1f1c8b",
       "version_major": 2,
       "version_minor": 0
      },
      "text/plain": [
       "  0%|          | 0/1000 [00:00<?, ?it/s]"
      ]
     },
     "metadata": {},
     "output_type": "display_data"
    },
    {
     "name": "stdout",
     "output_type": "stream",
     "text": [
      "Scenario: [[13], [19], [10]]\n",
      "Final Explanation: [[[13], [19]], [[13], [10]]]\n"
     ]
    },
    {
     "data": {
      "application/vnd.jupyter.widget-view+json": {
       "model_id": "f7c82a132f7549e48874f707e54be97d",
       "version_major": 2,
       "version_minor": 0
      },
      "text/plain": [
       "  0%|          | 0/1000 [00:00<?, ?it/s]"
      ]
     },
     "metadata": {},
     "output_type": "display_data"
    },
    {
     "name": "stdout",
     "output_type": "stream",
     "text": [
      "Scenario: [[14], [21], [9]]\n",
      "Final Explanation: [[[14], [21]], [[14], [9]]]\n"
     ]
    },
    {
     "data": {
      "application/vnd.jupyter.widget-view+json": {
       "model_id": "5099d514f97e45c895012e3a8cde852e",
       "version_major": 2,
       "version_minor": 0
      },
      "text/plain": [
       "  0%|          | 0/1000 [00:00<?, ?it/s]"
      ]
     },
     "metadata": {},
     "output_type": "display_data"
    },
    {
     "name": "stdout",
     "output_type": "stream",
     "text": [
      "Scenario: [[13], [21], [9]]\n",
      "Final Explanation: [[[13], [21]], [[13], [9]]]\n"
     ]
    },
    {
     "data": {
      "application/vnd.jupyter.widget-view+json": {
       "model_id": "08f636b94c76460da013e4953f319797",
       "version_major": 2,
       "version_minor": 0
      },
      "text/plain": [
       "  0%|          | 0/1000 [00:00<?, ?it/s]"
      ]
     },
     "metadata": {},
     "output_type": "display_data"
    },
    {
     "name": "stdout",
     "output_type": "stream",
     "text": [
      "Scenario: [[14], [21], [9]]\n",
      "Final Explanation: [[[14], [21]], [[14], [9]]]\n"
     ]
    },
    {
     "data": {
      "application/vnd.jupyter.widget-view+json": {
       "model_id": "82971193f1b441c8aa736b4dce0dcbfc",
       "version_major": 2,
       "version_minor": 0
      },
      "text/plain": [
       "  0%|          | 0/1000 [00:00<?, ?it/s]"
      ]
     },
     "metadata": {},
     "output_type": "display_data"
    },
    {
     "name": "stdout",
     "output_type": "stream",
     "text": [
      "Scenario: [[14], [21], [9]]\n",
      "Final Explanation: [[[14], [21]], [[14], [9]]]\n"
     ]
    },
    {
     "data": {
      "application/vnd.jupyter.widget-view+json": {
       "model_id": "0cca87463cc54900b98ba636d9b00dbb",
       "version_major": 2,
       "version_minor": 0
      },
      "text/plain": [
       "  0%|          | 0/1000 [00:00<?, ?it/s]"
      ]
     },
     "metadata": {},
     "output_type": "display_data"
    },
    {
     "name": "stdout",
     "output_type": "stream",
     "text": [
      "Scenario: [[13, 17], [19], [10, 11]]\n",
      "Final Explanation: [[[13, 17], [19]], [[13, 17], [10, 11]]]\n"
     ]
    },
    {
     "data": {
      "application/vnd.jupyter.widget-view+json": {
       "model_id": "1f528a77d609481886d2d1cfafd4aa97",
       "version_major": 2,
       "version_minor": 0
      },
      "text/plain": [
       "  0%|          | 0/1000 [00:00<?, ?it/s]"
      ]
     },
     "metadata": {},
     "output_type": "display_data"
    },
    {
     "name": "stdout",
     "output_type": "stream",
     "text": [
      "Scenario: [[13, 16], [18, 19], [9]]\n",
      "Final Explanation: [[[13, 16], [18, 19]], [[13, 16], [9]]]\n"
     ]
    },
    {
     "data": {
      "application/vnd.jupyter.widget-view+json": {
       "model_id": "b4272080e72a4c8bbb457c98e584221e",
       "version_major": 2,
       "version_minor": 0
      },
      "text/plain": [
       "  0%|          | 0/1000 [00:00<?, ?it/s]"
      ]
     },
     "metadata": {},
     "output_type": "display_data"
    },
    {
     "name": "stdout",
     "output_type": "stream",
     "text": [
      "Scenario: [[14, 15], [18, 19], [9]]\n",
      "Final Explanation: [[[14, 15], [18, 19]], [[14, 15], [9]]]\n"
     ]
    },
    {
     "data": {
      "application/vnd.jupyter.widget-view+json": {
       "model_id": "a29c0d6e532f492988432f339b538994",
       "version_major": 2,
       "version_minor": 0
      },
      "text/plain": [
       "  0%|          | 0/1000 [00:00<?, ?it/s]"
      ]
     },
     "metadata": {},
     "output_type": "display_data"
    },
    {
     "name": "stdout",
     "output_type": "stream",
     "text": [
      "Scenario: [[14], [21], [9]]\n",
      "Final Explanation: [[[14], [21]], [[14], [9]]]\n"
     ]
    },
    {
     "data": {
      "application/vnd.jupyter.widget-view+json": {
       "model_id": "49e0c7d813d84032ae1fd70a2be12018",
       "version_major": 2,
       "version_minor": 0
      },
      "text/plain": [
       "  0%|          | 0/1000 [00:00<?, ?it/s]"
      ]
     },
     "metadata": {},
     "output_type": "display_data"
    },
    {
     "name": "stdout",
     "output_type": "stream",
     "text": [
      "Scenario: [[17], [20], [12]]\n",
      "Final Explanation: [[[17], [20]], [[17], [12]]]\n"
     ]
    },
    {
     "data": {
      "application/vnd.jupyter.widget-view+json": {
       "model_id": "1fda17caf30c477fa6fdfb6ef40f886a",
       "version_major": 2,
       "version_minor": 0
      },
      "text/plain": [
       "  0%|          | 0/1000 [00:00<?, ?it/s]"
      ]
     },
     "metadata": {},
     "output_type": "display_data"
    },
    {
     "name": "stdout",
     "output_type": "stream",
     "text": [
      "Scenario: [[14], [21], [9]]\n",
      "Final Explanation: [[[14], [21]], [[14], [9]]]\n"
     ]
    },
    {
     "data": {
      "application/vnd.jupyter.widget-view+json": {
       "model_id": "8691f4a904584d8d9ec383f0458ab66e",
       "version_major": 2,
       "version_minor": 0
      },
      "text/plain": [
       "  0%|          | 0/1000 [00:00<?, ?it/s]"
      ]
     },
     "metadata": {},
     "output_type": "display_data"
    },
    {
     "name": "stdout",
     "output_type": "stream",
     "text": [
      "Scenario: [[14, 15], [18, 19], [9]]\n",
      "Final Explanation: [[[14, 15], [18, 19]], [[14, 15], [9]]]\n"
     ]
    },
    {
     "data": {
      "application/vnd.jupyter.widget-view+json": {
       "model_id": "6459c72c126244bf8ae65d0cdbf6b185",
       "version_major": 2,
       "version_minor": 0
      },
      "text/plain": [
       "  0%|          | 0/1000 [00:00<?, ?it/s]"
      ]
     },
     "metadata": {},
     "output_type": "display_data"
    },
    {
     "name": "stdout",
     "output_type": "stream",
     "text": [
      "Scenario: [[17], [19, 20], [10, 12]]\n",
      "Final Explanation: [[[17], [19, 20]], [[17], [10, 12]]]\n"
     ]
    },
    {
     "data": {
      "application/vnd.jupyter.widget-view+json": {
       "model_id": "d82738942630417f8c273ba10655684a",
       "version_major": 2,
       "version_minor": 0
      },
      "text/plain": [
       "  0%|          | 0/1000 [00:00<?, ?it/s]"
      ]
     },
     "metadata": {},
     "output_type": "display_data"
    },
    {
     "name": "stdout",
     "output_type": "stream",
     "text": [
      "Scenario: [[13, 15], [18, 19], [9, 11]]\n",
      "Final Explanation: [[[13, 15], [18, 19]], [[13, 15], [9, 11]]]\n"
     ]
    },
    {
     "data": {
      "application/vnd.jupyter.widget-view+json": {
       "model_id": "ef2db28c18254d06bf30b12ea7f1938e",
       "version_major": 2,
       "version_minor": 0
      },
      "text/plain": [
       "  0%|          | 0/1000 [00:00<?, ?it/s]"
      ]
     },
     "metadata": {},
     "output_type": "display_data"
    },
    {
     "name": "stdout",
     "output_type": "stream",
     "text": [
      "Scenario: [[17], [20], [12]]\n",
      "Final Explanation: [[[17], [20]], [[17], [12]]]\n"
     ]
    },
    {
     "data": {
      "application/vnd.jupyter.widget-view+json": {
       "model_id": "5273e738f81e45d887b8fdb68c023240",
       "version_major": 2,
       "version_minor": 0
      },
      "text/plain": [
       "  0%|          | 0/1000 [00:00<?, ?it/s]"
      ]
     },
     "metadata": {},
     "output_type": "display_data"
    },
    {
     "name": "stdout",
     "output_type": "stream",
     "text": [
      "Scenario: [[15, 16], [18, 19], [9]]\n",
      "Final Explanation: [[[15, 16], [18, 19]], [[15, 16], [9]]]\n"
     ]
    },
    {
     "data": {
      "application/vnd.jupyter.widget-view+json": {
       "model_id": "6bbffca1850d401885e74320271b9f7f",
       "version_major": 2,
       "version_minor": 0
      },
      "text/plain": [
       "  0%|          | 0/1000 [00:00<?, ?it/s]"
      ]
     },
     "metadata": {},
     "output_type": "display_data"
    },
    {
     "name": "stdout",
     "output_type": "stream",
     "text": [
      "Scenario: [[17], [20], [12]]\n",
      "Final Explanation: [[[17], [20]], [[17], [12]]]\n"
     ]
    },
    {
     "data": {
      "application/vnd.jupyter.widget-view+json": {
       "model_id": "02088f65af1749b397b44eeb6ddefbd3",
       "version_major": 2,
       "version_minor": 0
      },
      "text/plain": [
       "  0%|          | 0/1000 [00:00<?, ?it/s]"
      ]
     },
     "metadata": {},
     "output_type": "display_data"
    },
    {
     "name": "stdout",
     "output_type": "stream",
     "text": [
      "Scenario: [[15, 16], [18, 19], [9]]\n",
      "Final Explanation: [[[15, 16], [18, 19]], [[15, 16], [9]]]\n"
     ]
    },
    {
     "data": {
      "application/vnd.jupyter.widget-view+json": {
       "model_id": "af5f6318b85b479cb56325167c20425d",
       "version_major": 2,
       "version_minor": 0
      },
      "text/plain": [
       "  0%|          | 0/1000 [00:00<?, ?it/s]"
      ]
     },
     "metadata": {},
     "output_type": "display_data"
    },
    {
     "name": "stdout",
     "output_type": "stream",
     "text": [
      "Scenario: [[14], [21], [9]]\n",
      "Final Explanation: [[[14], [21]], [[14], [9]]]\n"
     ]
    },
    {
     "data": {
      "application/vnd.jupyter.widget-view+json": {
       "model_id": "740b55eabf3145bfb171f330d66b0efe",
       "version_major": 2,
       "version_minor": 0
      },
      "text/plain": [
       "  0%|          | 0/1000 [00:00<?, ?it/s]"
      ]
     },
     "metadata": {},
     "output_type": "display_data"
    },
    {
     "name": "stdout",
     "output_type": "stream",
     "text": [
      "Scenario: [[15, 16], [18, 19], [9]]\n",
      "Final Explanation: [[[15, 16], [18, 19]], [[15, 16], [9]]]\n"
     ]
    },
    {
     "data": {
      "application/vnd.jupyter.widget-view+json": {
       "model_id": "29db03b70bfa456da0cd392fcf4d7cd2",
       "version_major": 2,
       "version_minor": 0
      },
      "text/plain": [
       "  0%|          | 0/1000 [00:00<?, ?it/s]"
      ]
     },
     "metadata": {},
     "output_type": "display_data"
    },
    {
     "name": "stdout",
     "output_type": "stream",
     "text": [
      "Scenario: [[14, 15], [18, 19], [9]]\n",
      "Final Explanation: [[[14, 15], [18, 19]], [[14, 15], [9]]]\n"
     ]
    },
    {
     "data": {
      "application/vnd.jupyter.widget-view+json": {
       "model_id": "31e2e287cbfa4093b2894938aa69fd5a",
       "version_major": 2,
       "version_minor": 0
      },
      "text/plain": [
       "  0%|          | 0/1000 [00:00<?, ?it/s]"
      ]
     },
     "metadata": {},
     "output_type": "display_data"
    },
    {
     "name": "stdout",
     "output_type": "stream",
     "text": [
      "Scenario: [[13, 15], [18, 19], [9, 11]]\n",
      "Final Explanation: [[[13, 15], [18, 19]], [[13, 15], [9, 11]]]\n"
     ]
    },
    {
     "data": {
      "application/vnd.jupyter.widget-view+json": {
       "model_id": "8c539d3bc1714ffaa2a974df9b0f346f",
       "version_major": 2,
       "version_minor": 0
      },
      "text/plain": [
       "  0%|          | 0/1000 [00:00<?, ?it/s]"
      ]
     },
     "metadata": {},
     "output_type": "display_data"
    },
    {
     "name": "stdout",
     "output_type": "stream",
     "text": [
      "Scenario: [[13], [21], [9]]\n",
      "Final Explanation: [[[13], [21]], [[13], [9]]]\n",
      "Number of trainable parameters for [[[2], [2, 2]], [[2, 2], [2, 2]]]-body PS: 41850\n"
     ]
    }
   ],
   "source": [
    "try:\n",
    "    os.mkdir('./MEPS_Data')\n",
    "except OSError as error:\n",
    "    print(\"Directory ./MEPS_data exists, overwriting content\")\n",
    "\n",
    "for i in range(num_agents):\n",
    "    for ind in range(len(agent_seed_list)):\n",
    "        env = BrokenComputerEnv(env_seed_list[ind])\n",
    "        if i == 0:\n",
    "            actions = list(env.actions.values())\n",
    "            components = list(env.components.values())\n",
    "            causes = list(env.causes.values())\n",
    "            full_init_clips = [components, causes]\n",
    "            full_init_actions = [components, actions]\n",
    "            percepts = [list(env.symptoms.values())]\n",
    "            pca = [percepts, full_init_clips, full_init_actions]\n",
    "        \n",
    "        agent = PSAgent(pca=pca, n_body=nbody_agent[i], seed=agent_seed_list[ind], beta_softmax=beta[i], gamma_damping=gamma[i],\n",
    "                        eta_glow_damping=eta_glow[i], num_layers=num_layers[i])\n",
    "        average_hypo_reward_list, average_plaus_reward_list, stepnum_list = train(env, agent, episodes[i], max_time, max_iter[i], [i+1, ind+1], reward_func)\n",
    "        average_hypo_reward_list_all[i].append(average_hypo_reward_list)\n",
    "        average_plaus_reward_list_all[i].append(average_plaus_reward_list)\n",
    "        stepnum_list_all[i].append(stepnum_list)\n",
    "        \n",
    "    # Used for representation of fluctuations in learning curves\n",
    "    stepnum_list_all[i] = np.array(stepnum_list_all[i])\n",
    "    average_hypo_reward_list_all[i] = np.array(average_hypo_reward_list_all[i])/stepnum_list_all[i]\n",
    "    average_plaus_reward_list_all[i] = np.array(average_plaus_reward_list_all[i])/stepnum_list_all[i]\n",
    "    hypo_means.append(np.mean(average_hypo_reward_list_all[i], axis=0))\n",
    "    hypo_stds.append(np.std(average_hypo_reward_list_all[i], axis=0))\n",
    "    plaus_means.append(np.mean(average_plaus_reward_list_all[i], axis=0))\n",
    "    plaus_stds.append(np.std(average_plaus_reward_list_all[i], axis=0))\n",
    "    stepnum_means.append(np.mean(stepnum_list_all[i], axis=0))\n",
    "    stepnum_stds.append(np.std(stepnum_list_all[i], axis=0))\n",
    "\n",
    "    print(\"Number of trainable parameters for {a0}-body PS: {a1}\".format(a0=nbody_agent[i], a1=sum([np.size(agent.h_matrix[j]) for j in range(agent.num_layers)])))\n",
    "\n",
    "np.savez('./MEPS_Data/Broken_Comp_InductiveBias_agent_stepnum.npz', step_all=stepnum_list_all, stepnum_means=stepnum_means, stepnum_stds=stepnum_stds)\n",
    "np.savez('./MEPS_Data/Broken_Comp_InductiveBias_agent_hypothesis.npz', hypo_all=average_hypo_reward_list_all, hypo_means=hypo_means, hypo_stds=hypo_stds)\n",
    "np.savez('./MEPS_Data/Broken_Comp_InductiveBias_agent_plausibility.npz', plaus_all=average_plaus_reward_list_all, plaus_means=plaus_means, plaus_stds=plaus_stds)\n",
    "np.savez('./MEPS_Data/Broken_Comp_InductiveBias_agent_seeds.npz', agent_seed=agent_seed_list, env_seed=env_seed_list)"
   ]
  },
  {
   "cell_type": "markdown",
   "id": "94ac16b3-b2bb-4543-876a-42221e641be1",
   "metadata": {},
   "source": [
    "Next we do the same but for the unrestricted agent."
   ]
  },
  {
   "cell_type": "code",
   "execution_count": null,
   "id": "5fe07d1c-35c9-4130-8238-e7754bde395d",
   "metadata": {},
   "outputs": [],
   "source": [
    "class PSAgent_Unrestricted():\n",
    "    \n",
    "    def __init__(self, act_hyedge, percept_hyedge, clip_hyedge, gamma_damping, eta_glow_damping, seed,\n",
    "                 policy_type, beta_softmax, initial_prob_distr, fixed_policy=None):\n",
    "        \"\"\"\n",
    "        Base class of a Reinforcement Learning agent based on Multi-Excitation Projective Simulation,\n",
    "        with three-layered network.\n",
    "\n",
    "        Parameters\n",
    "        ----------\n",
    "        act_hyedge : list\n",
    "            All possible combinations of actions as target hyperedges (represented by lists).\n",
    "        percept_hyedge : list\n",
    "            All possible combinations of percepts as source hyperedges (represented by lists).\n",
    "        clip_hyedge : list\n",
    "            All possible combinations of intermediary clips as source/target hyperedges (represented by lists).\n",
    "        gamma_damping : float (between 0 and 1)\n",
    "            Forgetting/damping of h-values at the end of each interaction.\n",
    "        eta_glow_damping : float (between 0 and 1)\n",
    "            Controls the damping of glow; setting this to 1 effectively switches off glow.\n",
    "        seed : int\n",
    "            Seed for random number generator. \n",
    "        policy_type : string, 'standard' or 'softmax'\n",
    "            Toggles the rule used to compute probabilities from h-values. See probability_distr.\n",
    "        beta_softmax : float >=0\n",
    "            Probabilities are proportional to exp(beta*h_value). If policy_type != 'softmax', then this is irrelevant.\n",
    "        initial_prob_distr : list\n",
    "            In case the user wants to change the initialization policy for the agent. This list contains, per percept/clip, a list with the values of the initial h values for each clip/action.\n",
    "        fixed_policy : list, optional\n",
    "            In case the user wants to fix a policy for the agent. This list contains, per percept/clip, a list with the values of the probabilities for each clip/action. \n",
    "            Example: Percept 0: fixed_policy[0] = [p(a0), p(a1), p(a2)] = [0.2, 0.3, 0.5], where a0, a1 and a2 are the three possible actions. The default is None.\n",
    "        \"\"\"\n",
    "\n",
    "        self.act_hyedge = act_hyedge\n",
    "        self.percept_hyedge = percept_hyedge\n",
    "        self.clip_hyedge = clip_hyedge\n",
    "        self.gamma_damping = gamma_damping\n",
    "        self.eta_glow_damping = eta_glow_damping\n",
    "        self.policy_type = policy_type\n",
    "        self.beta_softmax = beta_softmax\n",
    "        self.initial_prob_distr = initial_prob_distr\n",
    "        self.fixed_policy = fixed_policy\n",
    "\n",
    "        # Random number generator with seed given by seed argument\n",
    "        self.rng = np.random.default_rng(seed)\n",
    "        \n",
    "        self.num_act_hyedge = len(self.act_hyedge)\n",
    "        self.num_percept_hyedge = len(self.percept_hyedge)\n",
    "        self.num_clip_hyedge = len(self.clip_hyedge)\n",
    "        # Used for deliberation to switch ranges for the transition probability when moving between layers\n",
    "        self.clip_range = [self.num_clip_hyedge, self.num_act_hyedge]\n",
    "        \n",
    "        self.h_0 = self.initial_prob_distr\n",
    "        # Number of deliberation steps per episode\n",
    "        self.num_layers = len(self.h_0)\n",
    "        # Initialize h matrix with initial probability distribution\n",
    "        self.h_matrix = [np.copy(self.h_0[i]) for i in range(self.num_layers)]\n",
    "        # Glow matrix, for processing delayed rewards\n",
    "        self.g_matrix = [np.zeros(np.shape(self.h_matrix[i]), dtype=np.float64) for i in range(self.num_layers)]\n",
    "\n",
    "    \n",
    "    def deliberate1(self, percept):\n",
    "        \"\"\"\n",
    "        Given a percept, this method chooses the next action and records that choice in the glow matrices.\n",
    "\n",
    "        Parameters\n",
    "        ----------\n",
    "        percept : list\n",
    "            List that describes the observation.\n",
    "\n",
    "        Returns\n",
    "        -------\n",
    "        hyclips : list\n",
    "            The indices of the chosen percepts/clips/actions during deliberation.\n",
    "        actions : list\n",
    "            The chosen action target hyperedge.\n",
    "        \"\"\"\n",
    "        # Get the index of the input percept from the list of all percept source hyperedges\n",
    "        hypercepts = self.percept_hyedge.index([percept])           \n",
    "        \n",
    "        hyclips = [hypercepts]\n",
    "        # Random walk through the ECM\n",
    "        if self.fixed_policy:\n",
    "            for i in range(self.num_layers):\n",
    "                prob_vec = self.fixed_policy[hyclips[i]]\n",
    "                hyclips.append(self.rng.choice(self.clip_range[i], p=prob_vec))\n",
    "        else:\n",
    "            for i in range(self.num_layers):\n",
    "                prob_vec = self.probability_distr(hyclips[i], i)\n",
    "                hyclips.append(self.rng.choice(self.clip_range[i], p=prob_vec))\n",
    "        # Find the corresponding action target hyperedge from the index that was chosen\n",
    "        actions = self.act_hyedge[hyclips[-1]]\n",
    "        # Update the glow matrices\n",
    "        self.g_matrix = [(1 - self.eta_glow_damping[i]) * self.g_matrix[i] for i in range(self.num_layers)]\n",
    "        for i in range(self.num_layers):\n",
    "            self.g_matrix[i][hyclips[i+1], hyclips[i]] += 1 # Record latest decision in the g matrices\n",
    "            \n",
    "        return actions, hyclips\n",
    "        \n",
    "        \n",
    "    def learn1(self, reward):\n",
    "        \"\"\"\n",
    "        Given a reward, this method updates the h matrix.\n",
    "\n",
    "        Parameters\n",
    "        ----------\n",
    "        reward : float\n",
    "            Value of the obtained reward.\n",
    "        \"\"\"\n",
    "        # the action reward is applied to both h matrices but the plausibility and multi-percept rewards are only applied to the \n",
    "        # second and first h matrices, respectively.\n",
    "        reward_vec = [reward[0], reward[1]]\n",
    "        self.h_matrix =  [self.h_matrix[i] - self.gamma_damping[i] * (self.h_matrix[i] - self.h_0[i]) + reward_vec[i] * self.g_matrix[i] for i in range(self.num_layers)]\n",
    "\n",
    "    \n",
    "    def probability_distr(self, percept, i):\n",
    "        \"\"\"\n",
    "        Given a percept index, this method returns a probability distribution over clips/actions.\n",
    "\n",
    "        Parameters\n",
    "        ----------\n",
    "        percept : int\n",
    "            Index of the given percept.\n",
    "        i: int\n",
    "            Index of h matrix layer.\n",
    "\n",
    "        Returns\n",
    "        -------\n",
    "        probability_distr : np.array\n",
    "            Probability for each clip/action (normalized to unit sum), computed according to policy_type.\n",
    "\n",
    "        \"\"\"       \n",
    "        h_vector = np.copy(self.h_matrix[i][:, percept])\n",
    "        if self.policy_type[i] == 'standard':\n",
    "            probability_distr = h_vector / np.sum(h_vector)\n",
    "        elif self.policy_type[i] == 'softmax':\n",
    "            h_vector = self.beta_softmax[i]*h_vector\n",
    "            h_vector_mod = h_vector - np.max(h_vector)\n",
    "            probability_distr = np.exp(h_vector_mod) / np.sum(np.exp(h_vector_mod))\n",
    "        return probability_distr\n",
    "    \n",
    "    \n",
    "    def reset_g1(self):\n",
    "        \"\"\"\n",
    "        Resets the g_matrix.\n",
    "        \"\"\"\n",
    "        self.g_matrix = [np.zeros(np.shape(self.g_matrix[i]), dtype=np.float64) for i in range(self.num_layers)]\n",
    "        "
   ]
  },
  {
   "cell_type": "code",
   "execution_count": null,
   "id": "4879f664-6072-482f-bfdc-38ecbb313eee",
   "metadata": {},
   "outputs": [],
   "source": [
    "def train1(env, agent, num_episodes, max_time, max_iter, num, all_clips, func):\n",
    "    \n",
    "    # Initialization of learning curve quantities\n",
    "    hypo_rewards_all_episodes = []\n",
    "    plaus_rewards_all_episodes = []\n",
    "    stepnum_to_success = []\n",
    "\n",
    "    # tqdm shows the iteration progress as well as how long it is estimated to take and the iteration speed\n",
    "    for e in tqdm(range(num_episodes)):\n",
    "        \n",
    "        # Restart environment, agent's counter, glow matrix, learning curve quantities, and episode end signal\n",
    "        agent.reset_g1()\n",
    "        state = env.reset()\n",
    "        done = False\n",
    "        rewards_current_episode = np.array([0, 0])\n",
    "        iter = 0\n",
    "    \n",
    "        while not done:\n",
    "            \n",
    "            acts, hyclips = agent.deliberate1(state) # Decide\n",
    "            # The agent's explanation of the problem and solution to the customer. all_clips is simply a list of each\n",
    "            # category hyperedge set so that the index set returned from deliberate can be used to retrieve the actual elements\n",
    "            explanation = [all_clips[i][hyclips[i]] for i in range(len(hyclips))]\n",
    "            next_state, reward, done = env.step(explanation) # Act\n",
    "            new_reward = func(reward, iter, max_time) # Shape rewards\n",
    "            agent.learn1(new_reward) # Learn\n",
    "            \n",
    "            rewards_current_episode = rewards_current_episode + new_reward\n",
    "            state = next_state\n",
    "            iter += 1\n",
    "\n",
    "            # A conditional to prevent the agent from taking too many steps in an episode\n",
    "            if iter > max_iter:\n",
    "                break\n",
    "                \n",
    "        if (e+1) % 500 == 0:\n",
    "            # Save h matrices of the agent at this stage of the learning process\n",
    "            np.savez('./MEPS_Data/h_memory_unrestricted_agent{a1}_episode_{a2}_{a3}.npz'\n",
    "                     .format(a1=num, a2=e+1, a3=\"BrokenComputer\"), h_mat1=agent.h_matrix[0], h_mat2=agent.h_matrix[1])\n",
    "\n",
    "        hypo_rewards_all_episodes.append(rewards_current_episode[0])\n",
    "        plaus_rewards_all_episodes.append(rewards_current_episode[1])\n",
    "        stepnum_to_success.append(iter)\n",
    "\n",
    "    print(\"Scenario: {a0}\".format(a0=env.scenario_state[1:]))\n",
    "    print(\"Final Explanation: {a0}\".format(a0=explanation[1:]))\n",
    "\n",
    "    return hypo_rewards_all_episodes, plaus_rewards_all_episodes, stepnum_to_success"
   ]
  },
  {
   "cell_type": "code",
   "execution_count": null,
   "id": "f7649826-da24-4f5b-82fc-981396693113",
   "metadata": {},
   "outputs": [],
   "source": [
    "num_layers1 = 2\n",
    "episodes1 = 1000\n",
    "max_time1 = 1000\n",
    "max_iter1 = 2000\n",
    "\n",
    "percept_hyedge1 = 0\n",
    "act_hyedge1 = 0\n",
    "clip_hyedge1 = 0\n",
    "all_clips = 0\n",
    "initial_distr = 0\n",
    "\n",
    "gamma1 = [0.0, 0.0]\n",
    "eta_glow1 = [1.0, 1.0]\n",
    "policy_type = ['softmax', 'softmax']\n",
    "beta1 = [0.5, 0.5]\n",
    "\n",
    "size1 = 100\n",
    "seeds1 = np.random.choice(np.arange(1, 10**3), size=size1, replace=False)\n",
    "env_seed_list1 = seeds1[:int(size1/2)]\n",
    "agent_seed_list1 = seeds1[int(size1/2):]\n",
    "\n",
    "average_hypo_reward_list_all1 = []\n",
    "average_plaus_reward_list_all1 = []\n",
    "stepnum_list_all1 = []"
   ]
  },
  {
   "cell_type": "code",
   "execution_count": 46,
   "id": "ebda4658-0f9f-4d0a-afbb-96c2825dca68",
   "metadata": {},
   "outputs": [
    {
     "data": {
      "application/vnd.jupyter.widget-view+json": {
       "model_id": "54248c0dcdce4021929bc0925bbff275",
       "version_major": 2,
       "version_minor": 0
      },
      "text/plain": [
       "  0%|          | 0/1000 [00:00<?, ?it/s]"
      ]
     },
     "metadata": {},
     "output_type": "display_data"
    },
    {
     "name": "stdout",
     "output_type": "stream",
     "text": [
      "Scenario: [[17], [20], [12]]\n",
      "Final Explanation: [[[17], [20]], [[17], [12]]]\n"
     ]
    },
    {
     "data": {
      "application/vnd.jupyter.widget-view+json": {
       "model_id": "36c37bd8be394099a9103a099653b512",
       "version_major": 2,
       "version_minor": 0
      },
      "text/plain": [
       "  0%|          | 0/1000 [00:00<?, ?it/s]"
      ]
     },
     "metadata": {},
     "output_type": "display_data"
    },
    {
     "name": "stdout",
     "output_type": "stream",
     "text": [
      "Scenario: [[13], [21], [9]]\n",
      "Final Explanation: [[[13], [21]], [[13], [9]]]\n"
     ]
    },
    {
     "data": {
      "application/vnd.jupyter.widget-view+json": {
       "model_id": "47c7bb7c8d2a45b9be037c5bdec69355",
       "version_major": 2,
       "version_minor": 0
      },
      "text/plain": [
       "  0%|          | 0/1000 [00:00<?, ?it/s]"
      ]
     },
     "metadata": {},
     "output_type": "display_data"
    },
    {
     "name": "stdout",
     "output_type": "stream",
     "text": [
      "Scenario: [[13, 16], [18, 19], [9]]\n",
      "Final Explanation: [[[13, 16], [18, 19]], [[13, 16], [9]]]\n"
     ]
    },
    {
     "data": {
      "application/vnd.jupyter.widget-view+json": {
       "model_id": "bb8c2f1b022e4441a653f2f483b917b2",
       "version_major": 2,
       "version_minor": 0
      },
      "text/plain": [
       "  0%|          | 0/1000 [00:00<?, ?it/s]"
      ]
     },
     "metadata": {},
     "output_type": "display_data"
    },
    {
     "name": "stdout",
     "output_type": "stream",
     "text": [
      "Scenario: [[14], [21], [9]]\n",
      "Final Explanation: [[[14], [21]], [[14], [9]]]\n"
     ]
    },
    {
     "data": {
      "application/vnd.jupyter.widget-view+json": {
       "model_id": "e4528c40af5941bf933872aa23aa5ffe",
       "version_major": 2,
       "version_minor": 0
      },
      "text/plain": [
       "  0%|          | 0/1000 [00:00<?, ?it/s]"
      ]
     },
     "metadata": {},
     "output_type": "display_data"
    },
    {
     "name": "stdout",
     "output_type": "stream",
     "text": [
      "Scenario: [[17], [19, 20], [10, 12]]\n",
      "Final Explanation: [[[17], [19, 20]], [[17], [10, 12]]]\n"
     ]
    },
    {
     "data": {
      "application/vnd.jupyter.widget-view+json": {
       "model_id": "ab5f7364b537405ba35322c9e51fc780",
       "version_major": 2,
       "version_minor": 0
      },
      "text/plain": [
       "  0%|          | 0/1000 [00:00<?, ?it/s]"
      ]
     },
     "metadata": {},
     "output_type": "display_data"
    },
    {
     "name": "stdout",
     "output_type": "stream",
     "text": [
      "Scenario: [[13, 15], [18, 19], [9, 11]]\n",
      "Final Explanation: [[[13, 15], [18, 19]], [[13, 15], [9, 11]]]\n"
     ]
    },
    {
     "data": {
      "application/vnd.jupyter.widget-view+json": {
       "model_id": "f27b91a648044079bfaf23e9c6ac4575",
       "version_major": 2,
       "version_minor": 0
      },
      "text/plain": [
       "  0%|          | 0/1000 [00:00<?, ?it/s]"
      ]
     },
     "metadata": {},
     "output_type": "display_data"
    },
    {
     "name": "stdout",
     "output_type": "stream",
     "text": [
      "Scenario: [[15, 16], [18, 19], [9]]\n",
      "Final Explanation: [[[15, 16], [18, 19]], [[15, 16], [9]]]\n"
     ]
    },
    {
     "data": {
      "application/vnd.jupyter.widget-view+json": {
       "model_id": "90c026f72ca54c749a680f6ed0ec4b45",
       "version_major": 2,
       "version_minor": 0
      },
      "text/plain": [
       "  0%|          | 0/1000 [00:00<?, ?it/s]"
      ]
     },
     "metadata": {},
     "output_type": "display_data"
    },
    {
     "name": "stdout",
     "output_type": "stream",
     "text": [
      "Scenario: [[17], [20], [12]]\n",
      "Final Explanation: [[[17], [20]], [[17], [12]]]\n"
     ]
    },
    {
     "data": {
      "application/vnd.jupyter.widget-view+json": {
       "model_id": "6ae78220122e45ba9b2a78c4d7d34312",
       "version_major": 2,
       "version_minor": 0
      },
      "text/plain": [
       "  0%|          | 0/1000 [00:00<?, ?it/s]"
      ]
     },
     "metadata": {},
     "output_type": "display_data"
    },
    {
     "name": "stdout",
     "output_type": "stream",
     "text": [
      "Scenario: [[17], [19, 20], [10, 12]]\n",
      "Final Explanation: [[[17], [19, 20]], [[17], [10, 12]]]\n"
     ]
    },
    {
     "data": {
      "application/vnd.jupyter.widget-view+json": {
       "model_id": "4a985b0f95d94515b657cf4c2cec21ac",
       "version_major": 2,
       "version_minor": 0
      },
      "text/plain": [
       "  0%|          | 0/1000 [00:00<?, ?it/s]"
      ]
     },
     "metadata": {},
     "output_type": "display_data"
    },
    {
     "name": "stdout",
     "output_type": "stream",
     "text": [
      "Scenario: [[13], [21], [9]]\n",
      "Final Explanation: [[[13], [21]], [[13], [9]]]\n"
     ]
    },
    {
     "data": {
      "application/vnd.jupyter.widget-view+json": {
       "model_id": "6b6e687bbfda4fd58bb1a216613e7c29",
       "version_major": 2,
       "version_minor": 0
      },
      "text/plain": [
       "  0%|          | 0/1000 [00:00<?, ?it/s]"
      ]
     },
     "metadata": {},
     "output_type": "display_data"
    },
    {
     "name": "stdout",
     "output_type": "stream",
     "text": [
      "Scenario: [[13], [21], [9]]\n",
      "Final Explanation: [[[13], [21]], [[13], [9]]]\n"
     ]
    },
    {
     "data": {
      "application/vnd.jupyter.widget-view+json": {
       "model_id": "3d3623b8af894c07adb65259ec07b043",
       "version_major": 2,
       "version_minor": 0
      },
      "text/plain": [
       "  0%|          | 0/1000 [00:00<?, ?it/s]"
      ]
     },
     "metadata": {},
     "output_type": "display_data"
    },
    {
     "name": "stdout",
     "output_type": "stream",
     "text": [
      "Scenario: [[14], [21], [9]]\n",
      "Final Explanation: [[[14], [21]], [[14], [9]]]\n"
     ]
    },
    {
     "data": {
      "application/vnd.jupyter.widget-view+json": {
       "model_id": "a846821d76694c97862124ae76ba34af",
       "version_major": 2,
       "version_minor": 0
      },
      "text/plain": [
       "  0%|          | 0/1000 [00:00<?, ?it/s]"
      ]
     },
     "metadata": {},
     "output_type": "display_data"
    },
    {
     "name": "stdout",
     "output_type": "stream",
     "text": [
      "Scenario: [[14], [21], [9]]\n",
      "Final Explanation: [[[14], [21]], [[14], [9]]]\n"
     ]
    },
    {
     "data": {
      "application/vnd.jupyter.widget-view+json": {
       "model_id": "5ef61fc2436945e6bdc09f4b42f4b93b",
       "version_major": 2,
       "version_minor": 0
      },
      "text/plain": [
       "  0%|          | 0/1000 [00:00<?, ?it/s]"
      ]
     },
     "metadata": {},
     "output_type": "display_data"
    },
    {
     "name": "stdout",
     "output_type": "stream",
     "text": [
      "Scenario: [[14], [21], [9]]\n",
      "Final Explanation: [[[14], [21]], [[14], [9]]]\n"
     ]
    },
    {
     "data": {
      "application/vnd.jupyter.widget-view+json": {
       "model_id": "df0d917c41a6413f8467dc7e5b419b78",
       "version_major": 2,
       "version_minor": 0
      },
      "text/plain": [
       "  0%|          | 0/1000 [00:00<?, ?it/s]"
      ]
     },
     "metadata": {},
     "output_type": "display_data"
    },
    {
     "name": "stdout",
     "output_type": "stream",
     "text": [
      "Scenario: [[13, 15], [18, 19], [9, 11]]\n",
      "Final Explanation: [[[13, 15], [18, 19]], [[13, 15], [9, 11]]]\n"
     ]
    },
    {
     "data": {
      "application/vnd.jupyter.widget-view+json": {
       "model_id": "fa0bbc55bc85421fb77998f5db90ac7c",
       "version_major": 2,
       "version_minor": 0
      },
      "text/plain": [
       "  0%|          | 0/1000 [00:00<?, ?it/s]"
      ]
     },
     "metadata": {},
     "output_type": "display_data"
    },
    {
     "name": "stdout",
     "output_type": "stream",
     "text": [
      "Scenario: [[13, 16], [18, 19], [9]]\n",
      "Final Explanation: [[[13, 16], [18, 19]], [[13, 16], [9]]]\n"
     ]
    },
    {
     "data": {
      "application/vnd.jupyter.widget-view+json": {
       "model_id": "6eb23914369f451d9accab30663b61e1",
       "version_major": 2,
       "version_minor": 0
      },
      "text/plain": [
       "  0%|          | 0/1000 [00:00<?, ?it/s]"
      ]
     },
     "metadata": {},
     "output_type": "display_data"
    },
    {
     "name": "stdout",
     "output_type": "stream",
     "text": [
      "Scenario: [[13, 15], [18, 19], [9, 11]]\n",
      "Final Explanation: [[[13, 15], [18, 19]], [[13, 15], [9, 11]]]\n"
     ]
    },
    {
     "data": {
      "application/vnd.jupyter.widget-view+json": {
       "model_id": "5d5a986088ee47599c7e9ef8a277e7c1",
       "version_major": 2,
       "version_minor": 0
      },
      "text/plain": [
       "  0%|          | 0/1000 [00:00<?, ?it/s]"
      ]
     },
     "metadata": {},
     "output_type": "display_data"
    },
    {
     "name": "stdout",
     "output_type": "stream",
     "text": [
      "Scenario: [[17], [19, 20], [10, 12]]\n",
      "Final Explanation: [[[17], [19, 20]], [[17], [10, 12]]]\n"
     ]
    },
    {
     "data": {
      "application/vnd.jupyter.widget-view+json": {
       "model_id": "55b005ff27044e7c8cbb487d8638c45a",
       "version_major": 2,
       "version_minor": 0
      },
      "text/plain": [
       "  0%|          | 0/1000 [00:00<?, ?it/s]"
      ]
     },
     "metadata": {},
     "output_type": "display_data"
    },
    {
     "name": "stdout",
     "output_type": "stream",
     "text": [
      "Scenario: [[14, 15], [18, 19], [9]]\n",
      "Final Explanation: [[[14, 15], [18, 19]], [[14, 15], [9]]]\n"
     ]
    },
    {
     "data": {
      "application/vnd.jupyter.widget-view+json": {
       "model_id": "d841ad0ec21d4634ac229abbfe662ed8",
       "version_major": 2,
       "version_minor": 0
      },
      "text/plain": [
       "  0%|          | 0/1000 [00:00<?, ?it/s]"
      ]
     },
     "metadata": {},
     "output_type": "display_data"
    },
    {
     "name": "stdout",
     "output_type": "stream",
     "text": [
      "Scenario: [[14, 15], [18, 19], [9]]\n",
      "Final Explanation: [[[14, 15], [18, 19]], [[14, 15], [9]]]\n"
     ]
    },
    {
     "data": {
      "application/vnd.jupyter.widget-view+json": {
       "model_id": "70da96da3e4d49d3a6c0a2b108b9c5bf",
       "version_major": 2,
       "version_minor": 0
      },
      "text/plain": [
       "  0%|          | 0/1000 [00:00<?, ?it/s]"
      ]
     },
     "metadata": {},
     "output_type": "display_data"
    },
    {
     "name": "stdout",
     "output_type": "stream",
     "text": [
      "Scenario: [[13], [19], [10]]\n",
      "Final Explanation: [[[13], [19]], [[13], [10]]]\n"
     ]
    },
    {
     "data": {
      "application/vnd.jupyter.widget-view+json": {
       "model_id": "e7fca1348f81466bb31e8f8c2fea2f87",
       "version_major": 2,
       "version_minor": 0
      },
      "text/plain": [
       "  0%|          | 0/1000 [00:00<?, ?it/s]"
      ]
     },
     "metadata": {},
     "output_type": "display_data"
    },
    {
     "name": "stdout",
     "output_type": "stream",
     "text": [
      "Scenario: [[13], [21], [9]]\n",
      "Final Explanation: [[[13], [21]], [[13], [9]]]\n"
     ]
    },
    {
     "data": {
      "application/vnd.jupyter.widget-view+json": {
       "model_id": "74fa505dd8f243969ace4bd9c39e9443",
       "version_major": 2,
       "version_minor": 0
      },
      "text/plain": [
       "  0%|          | 0/1000 [00:00<?, ?it/s]"
      ]
     },
     "metadata": {},
     "output_type": "display_data"
    },
    {
     "name": "stdout",
     "output_type": "stream",
     "text": [
      "Scenario: [[14], [21], [9]]\n",
      "Final Explanation: [[[14], [21]], [[14], [9]]]\n"
     ]
    },
    {
     "data": {
      "application/vnd.jupyter.widget-view+json": {
       "model_id": "258bfacf4533402d9119109150dd2d7a",
       "version_major": 2,
       "version_minor": 0
      },
      "text/plain": [
       "  0%|          | 0/1000 [00:00<?, ?it/s]"
      ]
     },
     "metadata": {},
     "output_type": "display_data"
    },
    {
     "name": "stdout",
     "output_type": "stream",
     "text": [
      "Scenario: [[14], [21], [9]]\n",
      "Final Explanation: [[[14], [21]], [[14], [9]]]\n"
     ]
    },
    {
     "data": {
      "application/vnd.jupyter.widget-view+json": {
       "model_id": "b47e55c0359a4229954ac43a4aabb9e0",
       "version_major": 2,
       "version_minor": 0
      },
      "text/plain": [
       "  0%|          | 0/1000 [00:00<?, ?it/s]"
      ]
     },
     "metadata": {},
     "output_type": "display_data"
    },
    {
     "name": "stdout",
     "output_type": "stream",
     "text": [
      "Scenario: [[13, 15], [18, 19], [9, 11]]\n",
      "Final Explanation: [[[13, 15], [18, 19]], [[13, 15], [9, 11]]]\n"
     ]
    },
    {
     "data": {
      "application/vnd.jupyter.widget-view+json": {
       "model_id": "b95d7063324e45c48db74b32dc4b43aa",
       "version_major": 2,
       "version_minor": 0
      },
      "text/plain": [
       "  0%|          | 0/1000 [00:00<?, ?it/s]"
      ]
     },
     "metadata": {},
     "output_type": "display_data"
    },
    {
     "name": "stdout",
     "output_type": "stream",
     "text": [
      "Scenario: [[13], [21], [9]]\n",
      "Final Explanation: [[[13], [21]], [[13], [9]]]\n"
     ]
    },
    {
     "data": {
      "application/vnd.jupyter.widget-view+json": {
       "model_id": "627430eadca54cb99d627d37a790ac8b",
       "version_major": 2,
       "version_minor": 0
      },
      "text/plain": [
       "  0%|          | 0/1000 [00:00<?, ?it/s]"
      ]
     },
     "metadata": {},
     "output_type": "display_data"
    },
    {
     "name": "stdout",
     "output_type": "stream",
     "text": [
      "Scenario: [[13], [19], [10]]\n",
      "Final Explanation: [[[13], [19]], [[13], [10]]]\n"
     ]
    },
    {
     "data": {
      "application/vnd.jupyter.widget-view+json": {
       "model_id": "ff00304453b04871a07481de025a9579",
       "version_major": 2,
       "version_minor": 0
      },
      "text/plain": [
       "  0%|          | 0/1000 [00:00<?, ?it/s]"
      ]
     },
     "metadata": {},
     "output_type": "display_data"
    },
    {
     "name": "stdout",
     "output_type": "stream",
     "text": [
      "Scenario: [[17], [19, 20], [10, 12]]\n",
      "Final Explanation: [[[17], [19, 20]], [[17], [10, 12]]]\n"
     ]
    },
    {
     "data": {
      "application/vnd.jupyter.widget-view+json": {
       "model_id": "66cdc386a19246e2b496475f2f5453ea",
       "version_major": 2,
       "version_minor": 0
      },
      "text/plain": [
       "  0%|          | 0/1000 [00:00<?, ?it/s]"
      ]
     },
     "metadata": {},
     "output_type": "display_data"
    },
    {
     "name": "stdout",
     "output_type": "stream",
     "text": [
      "Scenario: [[14, 15], [18, 19], [9]]\n",
      "Final Explanation: [[[14, 15], [18, 19]], [[14, 15], [9]]]\n"
     ]
    },
    {
     "data": {
      "application/vnd.jupyter.widget-view+json": {
       "model_id": "021cd01f384b49369cadc7a3dcf2336d",
       "version_major": 2,
       "version_minor": 0
      },
      "text/plain": [
       "  0%|          | 0/1000 [00:00<?, ?it/s]"
      ]
     },
     "metadata": {},
     "output_type": "display_data"
    },
    {
     "name": "stdout",
     "output_type": "stream",
     "text": [
      "Scenario: [[14], [21], [9]]\n",
      "Final Explanation: [[[14], [21]], [[14], [9]]]\n"
     ]
    },
    {
     "data": {
      "application/vnd.jupyter.widget-view+json": {
       "model_id": "c35f50084a5e4372bd36174171cd19ef",
       "version_major": 2,
       "version_minor": 0
      },
      "text/plain": [
       "  0%|          | 0/1000 [00:00<?, ?it/s]"
      ]
     },
     "metadata": {},
     "output_type": "display_data"
    },
    {
     "name": "stdout",
     "output_type": "stream",
     "text": [
      "Scenario: [[14], [21], [9]]\n",
      "Final Explanation: [[[14], [21]], [[14], [9]]]\n"
     ]
    },
    {
     "data": {
      "application/vnd.jupyter.widget-view+json": {
       "model_id": "9c18e6261bb8467388199d14f69b2ded",
       "version_major": 2,
       "version_minor": 0
      },
      "text/plain": [
       "  0%|          | 0/1000 [00:00<?, ?it/s]"
      ]
     },
     "metadata": {},
     "output_type": "display_data"
    },
    {
     "name": "stdout",
     "output_type": "stream",
     "text": [
      "Scenario: [[17], [20], [12]]\n",
      "Final Explanation: [[[17], [20]], [[17], [12]]]\n"
     ]
    },
    {
     "data": {
      "application/vnd.jupyter.widget-view+json": {
       "model_id": "4ba0538e60f048e58df1b7114f55e84c",
       "version_major": 2,
       "version_minor": 0
      },
      "text/plain": [
       "  0%|          | 0/1000 [00:00<?, ?it/s]"
      ]
     },
     "metadata": {},
     "output_type": "display_data"
    },
    {
     "name": "stdout",
     "output_type": "stream",
     "text": [
      "Scenario: [[14], [21], [9]]\n",
      "Final Explanation: [[[14], [21]], [[14], [9]]]\n"
     ]
    },
    {
     "data": {
      "application/vnd.jupyter.widget-view+json": {
       "model_id": "6e4ea6cfdbe84fa2bf1ff68de1f50d98",
       "version_major": 2,
       "version_minor": 0
      },
      "text/plain": [
       "  0%|          | 0/1000 [00:00<?, ?it/s]"
      ]
     },
     "metadata": {},
     "output_type": "display_data"
    },
    {
     "name": "stdout",
     "output_type": "stream",
     "text": [
      "Scenario: [[14, 15], [18, 19], [9]]\n",
      "Final Explanation: [[[14, 15], [18, 19]], [[14, 15], [9]]]\n"
     ]
    },
    {
     "data": {
      "application/vnd.jupyter.widget-view+json": {
       "model_id": "6c2454eb45d94dc8b0ddfc424dbc1c94",
       "version_major": 2,
       "version_minor": 0
      },
      "text/plain": [
       "  0%|          | 0/1000 [00:00<?, ?it/s]"
      ]
     },
     "metadata": {},
     "output_type": "display_data"
    },
    {
     "name": "stdout",
     "output_type": "stream",
     "text": [
      "Scenario: [[13, 17], [19], [10, 11]]\n",
      "Final Explanation: [[[13, 17], [19]], [[13, 17], [10, 11]]]\n"
     ]
    },
    {
     "data": {
      "application/vnd.jupyter.widget-view+json": {
       "model_id": "2f4f815f5819448db252be550fb5d8cb",
       "version_major": 2,
       "version_minor": 0
      },
      "text/plain": [
       "  0%|          | 0/1000 [00:00<?, ?it/s]"
      ]
     },
     "metadata": {},
     "output_type": "display_data"
    },
    {
     "name": "stdout",
     "output_type": "stream",
     "text": [
      "Scenario: [[14], [21], [9]]\n",
      "Final Explanation: [[[14], [21]], [[14], [9]]]\n"
     ]
    },
    {
     "data": {
      "application/vnd.jupyter.widget-view+json": {
       "model_id": "c949d215a559436ba64714cc1d4e8cd9",
       "version_major": 2,
       "version_minor": 0
      },
      "text/plain": [
       "  0%|          | 0/1000 [00:00<?, ?it/s]"
      ]
     },
     "metadata": {},
     "output_type": "display_data"
    },
    {
     "name": "stdout",
     "output_type": "stream",
     "text": [
      "Scenario: [[17], [19, 20], [10, 12]]\n",
      "Final Explanation: [[[17], [19, 20]], [[17], [10, 12]]]\n"
     ]
    },
    {
     "data": {
      "application/vnd.jupyter.widget-view+json": {
       "model_id": "215bc40894724ed7b27fdea29817b494",
       "version_major": 2,
       "version_minor": 0
      },
      "text/plain": [
       "  0%|          | 0/1000 [00:00<?, ?it/s]"
      ]
     },
     "metadata": {},
     "output_type": "display_data"
    },
    {
     "name": "stdout",
     "output_type": "stream",
     "text": [
      "Scenario: [[17], [20], [12]]\n",
      "Final Explanation: [[[17], [20]], [[17], [12]]]\n"
     ]
    },
    {
     "data": {
      "application/vnd.jupyter.widget-view+json": {
       "model_id": "3a055e1f074940b0a37ca0c528ab39ca",
       "version_major": 2,
       "version_minor": 0
      },
      "text/plain": [
       "  0%|          | 0/1000 [00:00<?, ?it/s]"
      ]
     },
     "metadata": {},
     "output_type": "display_data"
    },
    {
     "name": "stdout",
     "output_type": "stream",
     "text": [
      "Scenario: [[13, 17], [19], [10, 11]]\n",
      "Final Explanation: [[[13, 17], [19]], [[13, 17], [10, 11]]]\n"
     ]
    },
    {
     "data": {
      "application/vnd.jupyter.widget-view+json": {
       "model_id": "0aa15f4cd96546cdbbbdd3d38052ef63",
       "version_major": 2,
       "version_minor": 0
      },
      "text/plain": [
       "  0%|          | 0/1000 [00:00<?, ?it/s]"
      ]
     },
     "metadata": {},
     "output_type": "display_data"
    },
    {
     "name": "stdout",
     "output_type": "stream",
     "text": [
      "Scenario: [[13, 16], [18, 19], [9]]\n",
      "Final Explanation: [[[13, 16], [18, 19]], [[13, 16], [9]]]\n"
     ]
    },
    {
     "data": {
      "application/vnd.jupyter.widget-view+json": {
       "model_id": "c2d56a9d69c44ef4925ea8912009c062",
       "version_major": 2,
       "version_minor": 0
      },
      "text/plain": [
       "  0%|          | 0/1000 [00:00<?, ?it/s]"
      ]
     },
     "metadata": {},
     "output_type": "display_data"
    },
    {
     "name": "stdout",
     "output_type": "stream",
     "text": [
      "Scenario: [[15, 16], [18, 19], [9]]\n",
      "Final Explanation: [[[15, 16], [18, 19]], [[15, 16], [9]]]\n"
     ]
    },
    {
     "data": {
      "application/vnd.jupyter.widget-view+json": {
       "model_id": "69ed89ec67504fa1b95f9a858ed732e6",
       "version_major": 2,
       "version_minor": 0
      },
      "text/plain": [
       "  0%|          | 0/1000 [00:00<?, ?it/s]"
      ]
     },
     "metadata": {},
     "output_type": "display_data"
    },
    {
     "name": "stdout",
     "output_type": "stream",
     "text": [
      "Scenario: [[13, 17], [19], [10, 11]]\n",
      "Final Explanation: [[[13, 17], [19]], [[13, 17], [10, 11]]]\n"
     ]
    },
    {
     "data": {
      "application/vnd.jupyter.widget-view+json": {
       "model_id": "6bacfa0720fc487d9fa72e8de439b3a6",
       "version_major": 2,
       "version_minor": 0
      },
      "text/plain": [
       "  0%|          | 0/1000 [00:00<?, ?it/s]"
      ]
     },
     "metadata": {},
     "output_type": "display_data"
    },
    {
     "name": "stdout",
     "output_type": "stream",
     "text": [
      "Scenario: [[13, 16], [18, 19], [9]]\n",
      "Final Explanation: [[[13, 16], [18, 19]], [[13, 16], [9]]]\n"
     ]
    },
    {
     "data": {
      "application/vnd.jupyter.widget-view+json": {
       "model_id": "d33c80c220024acbbb244e95e897883a",
       "version_major": 2,
       "version_minor": 0
      },
      "text/plain": [
       "  0%|          | 0/1000 [00:00<?, ?it/s]"
      ]
     },
     "metadata": {},
     "output_type": "display_data"
    },
    {
     "name": "stdout",
     "output_type": "stream",
     "text": [
      "Scenario: [[13, 15], [18, 19], [9, 11]]\n",
      "Final Explanation: [[[13, 15], [18, 19]], [[13, 15], [9, 11]]]\n"
     ]
    },
    {
     "data": {
      "application/vnd.jupyter.widget-view+json": {
       "model_id": "2d6cbadd4f494a268cff756276c4ef74",
       "version_major": 2,
       "version_minor": 0
      },
      "text/plain": [
       "  0%|          | 0/1000 [00:00<?, ?it/s]"
      ]
     },
     "metadata": {},
     "output_type": "display_data"
    },
    {
     "name": "stdout",
     "output_type": "stream",
     "text": [
      "Scenario: [[13, 15], [18, 19], [9, 11]]\n",
      "Final Explanation: [[[13, 15], [18, 19]], [[13, 15], [9, 11]]]\n"
     ]
    },
    {
     "data": {
      "application/vnd.jupyter.widget-view+json": {
       "model_id": "1d63b4dffe244a3a99ed086c1f51b7e7",
       "version_major": 2,
       "version_minor": 0
      },
      "text/plain": [
       "  0%|          | 0/1000 [00:00<?, ?it/s]"
      ]
     },
     "metadata": {},
     "output_type": "display_data"
    },
    {
     "name": "stdout",
     "output_type": "stream",
     "text": [
      "Scenario: [[13, 16], [18, 19], [9]]\n",
      "Final Explanation: [[[13, 16], [18, 19]], [[13, 16], [9]]]\n"
     ]
    },
    {
     "data": {
      "application/vnd.jupyter.widget-view+json": {
       "model_id": "d7a3803291b449bcbd2ef7ddf9757da8",
       "version_major": 2,
       "version_minor": 0
      },
      "text/plain": [
       "  0%|          | 0/1000 [00:00<?, ?it/s]"
      ]
     },
     "metadata": {},
     "output_type": "display_data"
    },
    {
     "name": "stdout",
     "output_type": "stream",
     "text": [
      "Scenario: [[14, 15], [18, 19], [9]]\n",
      "Final Explanation: [[[14, 15], [18, 19]], [[14, 15], [9]]]\n"
     ]
    },
    {
     "data": {
      "application/vnd.jupyter.widget-view+json": {
       "model_id": "b918c917886745cc80789ec1b8100a13",
       "version_major": 2,
       "version_minor": 0
      },
      "text/plain": [
       "  0%|          | 0/1000 [00:00<?, ?it/s]"
      ]
     },
     "metadata": {},
     "output_type": "display_data"
    },
    {
     "name": "stdout",
     "output_type": "stream",
     "text": [
      "Scenario: [[17], [19, 20], [10, 12]]\n",
      "Final Explanation: [[[17], [19, 20]], [[17], [10, 12]]]\n"
     ]
    },
    {
     "data": {
      "application/vnd.jupyter.widget-view+json": {
       "model_id": "fd042e249148454b932613dc416173f7",
       "version_major": 2,
       "version_minor": 0
      },
      "text/plain": [
       "  0%|          | 0/1000 [00:00<?, ?it/s]"
      ]
     },
     "metadata": {},
     "output_type": "display_data"
    },
    {
     "name": "stdout",
     "output_type": "stream",
     "text": [
      "Scenario: [[14], [21], [9]]\n",
      "Final Explanation: [[[14], [21]], [[14], [9]]]\n"
     ]
    },
    {
     "data": {
      "application/vnd.jupyter.widget-view+json": {
       "model_id": "6611f68a96584b64819800ff4f0430c6",
       "version_major": 2,
       "version_minor": 0
      },
      "text/plain": [
       "  0%|          | 0/1000 [00:00<?, ?it/s]"
      ]
     },
     "metadata": {},
     "output_type": "display_data"
    },
    {
     "name": "stdout",
     "output_type": "stream",
     "text": [
      "Scenario: [[17], [20], [12]]\n",
      "Final Explanation: [[[17], [20]], [[17], [12]]]\n"
     ]
    }
   ],
   "source": [
    "for ind1 in range(len(agent_seed_list1)):\n",
    "    env1 = BrokenComputerEnv(env_seed_list1[ind1])\n",
    "    if ind1 == 0:\n",
    "        actions1 = list(env1.actions.values())\n",
    "        components1 = list(env1.components.values())\n",
    "        causes1 = list(env1.causes.values())\n",
    "        percepts1 = list(env1.symptoms.values())\n",
    "        full_init_actions1 = [components1, actions1]\n",
    "        full_init_clips1 = [components1, causes1]\n",
    "        full_init_percepts1 = [percepts1]\n",
    "        percept_hyedge1 = [list(x) for x in product(*[list(chain.from_iterable([[list(x) for x in combinations(full_init_percepts1[j], i+1)] for i in range(len(full_init_percepts1[j]))])) for j in range(len(full_init_percepts1))])]\n",
    "        act_hyedge1 = [list(x) for x in product(*[list(chain.from_iterable([[list(x) for x in combinations(full_init_actions1[j], i+1)] for i in range(len(full_init_actions1[j]))])) for j in range(len(full_init_actions1))])]\n",
    "        clip_hyedge1 = [list(x) for x in product(*[list(chain.from_iterable([[list(x) for x in combinations(full_init_clips1[j], i+1)] for i in range(len(full_init_clips1[j]))])) for j in range(len(full_init_clips1))])]\n",
    "        all_clips = [percept_hyedge1, clip_hyedge1, act_hyedge1]\n",
    "        # Initial h matrix values need to be generated here since their dimensions depend on the size of the hyperedge sets \n",
    "        # and the categories are retrieved from the environment\n",
    "        initial_distr = [np.ones((len(clip_hyedge1), len(percept_hyedge1)), dtype=np.float64), np.ones((len(act_hyedge1), len(clip_hyedge1)), dtype=np.float64)]\n",
    "        \n",
    "    agent1 = PSAgent_Unrestricted(act_hyedge=act_hyedge1, percept_hyedge=percept_hyedge1, clip_hyedge=clip_hyedge1, seed=agent_seed_list1[ind1],\n",
    "                    policy_type=policy_type, beta_softmax=beta1, gamma_damping=gamma1, eta_glow_damping=eta_glow1, initial_prob_distr=initial_distr)\n",
    "    average_hypo_reward_list1, average_plaus_reward_list1, stepnum_list1 = train1(env1, agent1, episodes1, max_time1, max_iter1, ind1+1, all_clips, reward_func)\n",
    "    average_hypo_reward_list_all1.append(average_hypo_reward_list1)\n",
    "    average_plaus_reward_list_all1.append(average_plaus_reward_list1)\n",
    "    stepnum_list_all1.append(stepnum_list1)\n",
    "\n",
    "stepnum_list_all1 = np.array(stepnum_list_all1)\n",
    "average_hypo_reward_list_all1 = np.array(average_hypo_reward_list_all1)/stepnum_list_all1\n",
    "average_plaus_reward_list_all1 = np.array(average_plaus_reward_list_all1)/stepnum_list_all1\n",
    "# Used for representation of fluctuations in learning curves\n",
    "hypo_means1 = np.mean(average_hypo_reward_list_all1, axis=0)\n",
    "hypo_stds1 = np.std(average_hypo_reward_list_all1, axis=0)\n",
    "plaus_means1 = np.mean(average_plaus_reward_list_all1, axis=0)\n",
    "plaus_stds1 = np.std(average_plaus_reward_list_all1, axis=0)\n",
    "stepnum_means1 = np.mean(stepnum_list_all1, axis=0)\n",
    "stepnum_stds1 = np.std(stepnum_list_all1, axis=0)\n",
    "\n",
    "np.savez('./MEPS_Data/Broken_Comp_unrestricted_agent_stepnum.npz', step_all=stepnum_list_all1, stepnum_means=stepnum_means1, stepnum_stds=stepnum_stds1)\n",
    "np.savez('./MEPS_Data/Broken_Comp_unrestricted_agent_hypothesis.npz', hypo_all=average_hypo_reward_list_all1, hypo_means=hypo_means1, hypo_stds=hypo_stds1)\n",
    "np.savez('./MEPS_Data/Broken_Comp_unrestricted_agent_plausibility.npz', plaus_all=average_plaus_reward_list_all1, plaus_means=plaus_means1, plaus_stds=plaus_stds1)\n",
    "np.savez('./MEPS_Data/Broken_Comp_unrestricted_agent_seeds.npz', agent_seed=agent_seed_list1, env_seed=env_seed_list1)"
   ]
  },
  {
   "cell_type": "code",
   "execution_count": 51,
   "id": "63f88ef6-4cfa-4f8b-b3cf-3ef9d53ba897",
   "metadata": {},
   "outputs": [
    {
     "name": "stdout",
     "output_type": "stream",
     "text": [
      "Number of trainable parameters for unrestricted PS: 691920\n"
     ]
    }
   ],
   "source": [
    "print(\"Number of trainable parameters for unrestricted PS: {a1}\".format(a1=sum([np.size(agent1.h_matrix[i]) for i in range(agent1.num_layers)])))"
   ]
  },
  {
   "cell_type": "markdown",
   "id": "27fa5d2f-f718-4af6-bab4-0cce16c52b0a",
   "metadata": {},
   "source": [
    "Finally we plot the learning curves: average action reward, average plausibility reward, and step number per episode."
   ]
  },
  {
   "cell_type": "code",
   "execution_count": 50,
   "id": "9b84cb27-7a91-4823-a96c-4357ecaf03d3",
   "metadata": {},
   "outputs": [
    {
     "data": {
      "image/png": "[encoded data removed]",
      "text/plain": [
       "<Figure size 700x1500 with 3 Axes>"
      ]
     },
     "metadata": {},
     "output_type": "display_data"
    }
   ],
   "source": [
    "fig, ax = plt.subplots(3, 1, figsize=(7.0, 15.0))\n",
    "ax[0].set_ylabel('Average Hypothesis Reward')\n",
    "ax[1].set_ylabel('Average Plausibility Reward')\n",
    "ax[2].set_xlabel('Episode Number')\n",
    "ax[2].set_ylabel('Total Step Number')\n",
    "colors = sns.color_palette(\"husl\", 3)\n",
    "plot_cut = 300\n",
    "plot_cut1 = 0\n",
    "with sns.axes_style(\"darkgrid\"):\n",
    "    for i in range(num_agents):\n",
    "        xvals = np.arange(len(hypo_means[i]))[plot_cut1:plot_cut]\n",
    "        hypo_means_cut = hypo_means[i][plot_cut1:plot_cut]\n",
    "        hypo_stds_cut = hypo_stds[i][plot_cut1:plot_cut]\n",
    "        plaus_means_cut = plaus_means[i][plot_cut1:plot_cut]\n",
    "        plaus_stds_cut = plaus_stds[i][plot_cut1:plot_cut]\n",
    "        stepnum_means_cut = stepnum_means[i][plot_cut1:plot_cut]\n",
    "        stepnum_stds_cut = stepnum_stds[i][plot_cut1:plot_cut]\n",
    "        hypo_means_cut1 = hypo_means1[plot_cut1:plot_cut]\n",
    "        hypo_stds_cut1 = hypo_stds1[plot_cut1:plot_cut]\n",
    "        plaus_means_cut1 = plaus_means1[plot_cut1:plot_cut]\n",
    "        plaus_stds_cut1 = plaus_stds1[plot_cut1:plot_cut]\n",
    "        stepnum_means_cut1 = stepnum_means1[plot_cut1:plot_cut]\n",
    "        stepnum_stds_cut1 = stepnum_stds1[plot_cut1:plot_cut]\n",
    "        ax[0].plot(xvals, hypo_means_cut, label='IBC {a0}'.format(a0=i+1), c=colors[0]) \n",
    "        ax[0].fill_between(xvals, y1=hypo_means_cut-hypo_stds_cut, y2=hypo_means_cut+hypo_stds_cut ,alpha=0.3, facecolor=colors[0])\n",
    "        ax[1].plot(xvals, plaus_means_cut, label='IBC {a0}'.format(a0=i+1), c=colors[0]) \n",
    "        ax[1].fill_between(xvals, y1=plaus_means_cut-plaus_stds_cut, y2=plaus_means_cut+plaus_stds_cut ,alpha=0.3, facecolor=colors[0])\n",
    "        ax[2].plot(xvals, stepnum_means_cut, label='IBC {a0}'.format(a0=i+1), c=colors[0]) \n",
    "        ax[2].fill_between(xvals, y1=stepnum_means_cut-stepnum_stds_cut, y2=stepnum_means_cut+stepnum_stds_cut ,alpha=0.3, facecolor=colors[0])\n",
    "        ax[0].plot(xvals, hypo_means_cut1, label='Unrestricted', c=colors[1]) \n",
    "        ax[0].fill_between(xvals, y1=hypo_means_cut1-hypo_stds_cut1, y2=hypo_means_cut1+hypo_stds_cut1 ,alpha=0.3, facecolor=colors[1])\n",
    "        ax[1].plot(xvals, plaus_means_cut1, label='Unrestricted', c=colors[1]) \n",
    "        ax[1].fill_between(xvals, y1=plaus_means_cut1-plaus_stds_cut1, y2=plaus_means_cut1+plaus_stds_cut1 ,alpha=0.3, facecolor=colors[1])\n",
    "        ax[2].plot(xvals, stepnum_means_cut1, label='Unrestricted', c=colors[1]) \n",
    "        ax[2].fill_between(xvals, y1=stepnum_means_cut1-stepnum_stds_cut1, y2=stepnum_means_cut1+stepnum_stds_cut1 ,alpha=0.3, facecolor=colors[1])\n",
    " \n",
    "ax[0].legend(loc='lower right') \n",
    "ax[1].legend(loc='lower right')\n",
    "ax[2].legend() \n",
    "plt.savefig(\"./BrokenComp_InductiveBias_Training.png\")\n",
    "plt.show()"
   ]
  },
  {
   "cell_type": "markdown",
   "id": "2a799e9d-2683-4b37-b2c1-2e0ffc4c2ceb",
   "metadata": {},
   "source": [
    "Each curve is an average over 50 agents each having different random number generator seeds. The fluctuations are quite large near the beginning because some agents find the right solution early on by chance, while others may take more time to find it. \n",
    "\n",
    "The agent with inductive bias configuration $\\{2, [2, 2], [2, 2]\\}$ (IBC 1) does reach very close to the optimal reward due to their ECM being just the right size to accommodate all scenarios. Note that as more agents are included in the ensemble, it is expected that the oscillations near the optimal reward will settle down and convergence will be attained."
   ]
  },
  {
   "cell_type": "markdown",
   "id": "c65d5940-4645-42f7-bb06-876630ab8009",
   "metadata": {},
   "source": [
    "The total step numbers up to 200 episodes are also calculated for the inductive bias and unrestricted agents, respectively."
   ]
  },
  {
   "cell_type": "code",
   "execution_count": 48,
   "id": "9223b625-d3dd-482e-90a4-628c15f6f927",
   "metadata": {},
   "outputs": [
    {
     "name": "stdout",
     "output_type": "stream",
     "text": [
      "5473.8800000000065 8167.560000000002\n"
     ]
    }
   ],
   "source": [
    "print(sum(stepnum_means[0][: 200]), sum(stepnum_means1[: 200]))"
   ]
  }
 ],
 "metadata": {
  "kernelspec": {
   "display_name": "Python 3 (ipykernel)",
   "language": "python",
   "name": "python3"
  },
  "language_info": {
   "codemirror_mode": {
    "name": "ipython",
    "version": 3
   },
   "file_extension": ".py",
   "mimetype": "text/x-python",
   "name": "python",
   "nbconvert_exporter": "python",
   "pygments_lexer": "ipython3",
   "version": "3.11.7"
  }
 },
 "nbformat": 4,
 "nbformat_minor": 5
}
